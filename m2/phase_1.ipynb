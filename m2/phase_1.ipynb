{
 "cells": [
  {
   "cell_type": "markdown",
   "metadata": {
    "id": "-tyJ_uRTJTvs"
   },
   "source": [
    "## Introduction\n",
    "\n",
    "Here we explore the relationship between KOLs/Influencers and Brands using network analysis. The creation of the network will be based on LLM-extraction."
   ]
  },
  {
   "cell_type": "code",
   "execution_count": null,
   "metadata": {
    "colab": {
     "base_uri": "https://localhost:8080/"
    },
    "collapsed": true,
    "id": "yoSSCsC6JTvu",
    "outputId": "f6c1d593-9b1e-4d1b-9f43-a70ab8b74335"
   },
   "outputs": [],
   "source": [
    "# Install required packages\n",
    "!pip install ollama tqdm -q"
   ]
  },
  {
   "cell_type": "markdown",
   "metadata": {
    "id": "2hsaiJETJTvu"
   },
   "source": [
    "## Setting up Ollama server"
   ]
  },
  {
   "cell_type": "code",
   "execution_count": null,
   "metadata": {
    "colab": {
     "base_uri": "https://localhost:8080/"
    },
    "collapsed": true,
    "id": "C1IV0I0pKTSS",
    "outputId": "1bcf19a5-7903-4589-a4f7-f0fae67bafb8"
   },
   "outputs": [],
   "source": [
    "# Install Ollama\n",
    "!sudo apt-get install -y pciutils\n",
    "!curl -fsSL https://ollama.com/install.sh | sh"
   ]
  },
  {
   "cell_type": "code",
   "execution_count": null,
   "metadata": {
    "id": "04Tt-PFcJTvv"
   },
   "outputs": [],
   "source": [
    "import os\n",
    "import threading\n",
    "import subprocess\n",
    "\n",
    "def start_ollama():\n",
    "    os.environ['OLLAMA_HOST'] = '0.0.0.0:11434'\n",
    "    os.environ['OLLAMA_ORIGINS'] = '*'\n",
    "    subprocess.Popen([\"ollama\", \"serve\"])\n",
    "\n",
    "ollama_thread = threading.Thread(target=start_ollama)\n",
    "ollama_thread.start()"
   ]
  },
  {
   "cell_type": "code",
   "execution_count": null,
   "metadata": {
    "id": "H9Ybw3oOLlSX"
   },
   "outputs": [],
   "source": [
    "# Download pre-trained model\n",
    "! ollama pull qwen2.5"
   ]
  },
  {
   "cell_type": "markdown",
   "metadata": {
    "id": "9qg4vZv4L0sj"
   },
   "source": [
    "## Load the dataset\n",
    "\n",
    "Data is from HuggingFace **vector-institute/newsmediabias-plus**, which contains news articles. The structure is as follow:\n",
    "- unique_id: Unique identifier for each news item.\n",
    "- headline: Headline of the news article.\n",
    "- article_text: Full text content of the news article.\n",
    "- new_categories: Categories assigned to the article."
   ]
  },
  {
   "cell_type": "code",
   "execution_count": null,
   "metadata": {
    "id": "X17kCFeQNJJJ"
   },
   "outputs": [],
   "source": [
    "# Import libraries\n",
    "import pandas as pd\n",
    "import json\n",
    "import ollama\n",
    "from tqdm import tqdm\n",
    "from google.colab import drive\n"
   ]
  },
  {
   "cell_type": "code",
   "execution_count": null,
   "metadata": {
    "id": "Omm0ujdsMzzF"
   },
   "outputs": [],
   "source": [
    "# Data is reformat and save to google drive for faster retrieval\n",
    "# Load data from google drive\n",
    "drive.mount('/content/drive')\n",
    "file_path = '/content/drive/My Drive/articles_data.json'\n",
    "with open(file_path, 'r') as f:\n",
    "  df = json.load(f)"
   ]
  },
  {
   "cell_type": "markdown",
   "metadata": {
    "id": "79AdjlW3d_wX"
   },
   "source": [
    "## Text Classification\n",
    "\n",
    "Purpose: Decide if an articles may contains information about KOLs, Influencers, Brand Marketing, Events, Campaigns, Social Media...\n",
    "\n",
    "This faciliate the relationship extraction step to focus only on potential articles"
   ]
  },
  {
   "cell_type": "code",
   "execution_count": null,
   "metadata": {
    "collapsed": true,
    "id": "IOuE2HGrf0Cz"
   },
   "outputs": [],
   "source": [
    "## Define function for classification model\n",
    "system_prompt = '''\n",
    "Your task is to classify the text into one of two categories based on the following criteria:\n",
    "\n",
    "- Output \"yes\" if the text is about topics like Youtubers, Tiktokers, Food Reviewers, Beauty Bloggers, Social Media Influencers, Influencer Marketing Campaigns, E-commerce Campaigns, Social Media Marketing Campaigns, Marketing Events, Fashion Events, Product Launch Events, Virtual Influencer Events, and Social Media Events, particularly content discussing collaborations between influencers/KOLs and brands or content aimed at audience engagement, social media campaigns, or brand promotion.\n",
    "- Output \"no\" if the text is about unrelated topics, such as historical events, political figures, wars, or general public figures not related to influencer marketing, brand promotions, or entertainment.\n",
    "\n",
    "\n",
    "Provide only one word: \"yes\" or \"no\".\n",
    "'''\n",
    "\n",
    "def article_classification(article):\n",
    "    prompt = f\"\"\"\n",
    "    Decide if the text is about Youtubers, Tiktokers, Food Reviewers, Beauty Bloggers, Social Media Influencers, Influencer Marketing Campaigns, E-commerce Campaigns, Social Media Marketing Campaigns, Marketing Events, Fashion Events, Product Launch Events, Virtual Influencer Events, and Social Media Events, or similar topics that might include people collaborations with Brands.\n",
    "    Title: {article['headline']}\n",
    "    Text: {article['article_text']}.\n",
    "    Provide only one word: 'yes' or 'no'.\n",
    "    \"\"\"\n",
    "    response = ollama.chat(\n",
    "        model='qwen2.5',\n",
    "        messages=[\n",
    "            {'role': 'system', 'content': system_prompt},\n",
    "            {'role': 'user', 'content': prompt},\n",
    "        ],\n",
    "        format='text',\n",
    "        options={\"temperature\": 0.0}  # setting temperature to 0 for determinism\n",
    "    )\n",
    "\n",
    "    # Ensure the response is constrained to \"yes\" or \"no\"\n",
    "    classification = response['message']['content'].strip().lower()\n",
    "\n",
    "    return classification\n"
   ]
  },
  {
   "cell_type": "code",
   "execution_count": null,
   "metadata": {
    "id": "8scvHVsfOkNY"
   },
   "outputs": [],
   "source": [
    "is_relevant_result = {}\n",
    "\n",
    "# Function to call classification method on each article and save the result for later use\n",
    "def is_relevant_check(article):\n",
    "  try:\n",
    "      extracted_data = article_classification(article)\n",
    "      is_relevant_result[article['unique_id']] = extracted_data\n",
    "  except json.JSONDecodeError as e:\n",
    "      print(f\"Error processing page '{article['unique_id']}': {str(e)}\")\n",
    "\n",
    "# Processing\n",
    "for article in tqdm(df, desc=\"Processing articles\"):\n",
    "    text = article['new_categories'].lower()\n",
    "    if 'politics' in text:\n",
    "      if 'business' in text or 'entertainment' in text or 'technology' in text:\n",
    "        is_relevant_check(article)\n",
    "    else:\n",
    "      is_relevant_check(article)\n",
    "\n",
    "\n",
    "# Saving result to a file\n",
    "with open('is_relevant_result.json', 'w') as f:\n",
    "    json.dump(is_relevant_result, f)"
   ]
  },
  {
   "cell_type": "markdown",
   "metadata": {
    "id": "Q29bpg34PeID"
   },
   "source": [
    "## Relationship Extraction"
   ]
  },
  {
   "cell_type": "code",
   "execution_count": null,
   "metadata": {
    "id": "L4GLrI7QKubh"
   },
   "outputs": [],
   "source": [
    "import json\n",
    "import ollama\n",
    "import networkx as nx\n",
    "from tqdm.notebook import tqdm\n",
    "import numpy as np\n",
    "import matplotlib.pyplot as plt\n",
    "from collections import defaultdict"
   ]
  },
  {
   "cell_type": "markdown",
   "metadata": {
    "id": "tFXIkcSJQ4o-"
   },
   "source": [
    "#### Defining the Extraction Schema\n",
    "Each relationship will include:\n",
    "- influencer_name (from)\n",
    "- brand_name (to)\n",
    "- relationship_type (type)\n",
    "- brand_category (category)"
   ]
  },
  {
   "cell_type": "code",
   "execution_count": null,
   "metadata": {
    "id": "lt0-JJ1vP7nv"
   },
   "outputs": [],
   "source": [
    "PROMPT_STRUCTURE = \"\"\"\n",
    "RULES:\n",
    "1. ONLY extract relationships that are EXPLICITLY stated in the input text\n",
    "2. DO NOT use any examples provided as actual relationships\n",
    "3. DO NOT make up or infer relationships not directly mentioned\n",
    "4. IGNORE hypothetical or future potential relationships\n",
    "5. If no valid relationships are found, return empty edges array\n",
    "\n",
    "OUTPUT FORMAT:\n",
    "{\n",
    "  \"edges\": [\n",
    "    {\n",
    "      \"from\": \"influencer_name\",\n",
    "      \"to\": \"brand_name\",\n",
    "      \"type\": \"relationship_type\",\n",
    "      \"category\": \"brand_category\"\n",
    "    }\n",
    "  ]\n",
    "}\n",
    "\n",
    "relationship_type MUST be one of the following:\n",
    "- \"ambassador\": Official brand representative with formal agreement\n",
    "- \"reviewer\": Creates product reviews or promotional content\n",
    "- \"partner\": Collaborates on specific campaigns\n",
    "- \"endorser\": Informally promotes or recommends products\n",
    "- \"collaborator\": Co-creates products or marketing initiatives\n",
    "\n",
    "brand_category MUST be one of the following:\n",
    "- \"Fashion and Apparel\": Clothing, footwear, accessories\n",
    "- \"Beauty and Cosmetics\": Skincare, makeup, hair care\n",
    "- \"Technology\": Electronics, software, gadgets\n",
    "- \"Automotive\": Vehicles and related products\n",
    "- \"Food and Beverage\": Food products and drinks\n",
    "- \"Health and Wellness\": Fitness, supplements, healthcare\n",
    "- \"Home Goods and Appliances\": Furniture, decor\n",
    "- \"Entertainment and Media\": Streaming, gaming, content\n",
    "- \"Finance and FinTech\": Banking, financial services\n",
    "- \"Travel and Hospitality\": Tourism, accommodations\n",
    "\n",
    "VALIDATION STEPS:\n",
    "1. Does the text explicitly name both an influencer AND a brand? If not, skip.\n",
    "2. Is their relationship clearly defined? If not, skip.\n",
    "3. Can you determine the brand category with certainty? If not, skip.\n",
    "4. Is this a current/past relationship (not future/hypothetical)? If not, skip.\n",
    "\n",
    "EXAMPLE INPUT:\n",
    "Headline: Beauty Influencer Emma Smith Reviews New MAC Collection\n",
    "Text: Popular beauty YouTuber Emma Smith posted an in-depth review of MAC Cosmetics' latest collection on her channel yesterday.\n",
    "\n",
    "EXAMPLE OUTPUT:\n",
    "{\n",
    "  \"edges\": [\n",
    "    {\n",
    "      \"from\": \"Emma Smith\",\n",
    "      \"to\": \"MAC Cosmetics\",\n",
    "      \"type\": \"reviewer\",\n",
    "      \"category\": \"Beauty and Cosmetics\"\n",
    "    }\n",
    "  ]\n",
    "}\n",
    "\n",
    "Return ONLY the JSON output, no additional text or explanations.\n",
    "\"\"\"\n",
    "\n",
    "SYSTEM_PROMPT = \"\"\"You are a precise relationship extraction system. Your task is to analyze the given text and extract ONLY explicitly mentioned relationships between influencers and brands.\n",
    "\n",
    "INPUT FORMAT:\n",
    "You will receive text containing a headline and article content.\n",
    "\n",
    "\"\"\" + PROMPT_STRUCTURE"
   ]
  },
  {
   "cell_type": "code",
   "execution_count": null,
   "metadata": {
    "id": "dXKGHrfUJTvv"
   },
   "outputs": [],
   "source": [
    "# Extraction function\n",
    "def extract_relationships(article):\n",
    "    prompt = f\"\"\"\n",
    "    Analyze the following text and extract any explicit influencer-brand relationships:\n",
    "\n",
    "    HEADLINE: {article['headline']}\n",
    "    CONTENT: {article['article_text']}\n",
    "\n",
    "    \"\"\" + PROMPT_STRUCTURE\n",
    "\n",
    "    response = ollama.chat(\n",
    "        model='qwen2.5',\n",
    "        messages=[{'role': 'system', 'content': SYSTEM_PROMPT},\n",
    "                  {'role': 'user', 'content': prompt},],\n",
    "        format='json',\n",
    "        options={\"temperature\": 0.1}\n",
    "    )\n",
    "\n",
    "    return response['message']['content']"
   ]
  },
  {
   "cell_type": "markdown",
   "metadata": {
    "id": "KCBkk83USB7I"
   },
   "source": [
    "#### Extraction Process"
   ]
  },
  {
   "cell_type": "code",
   "execution_count": null,
   "metadata": {
    "id": "_AjPRHWoSGmz"
   },
   "outputs": [],
   "source": [
    "# Load classification result file\n",
    "with open('is_relevant_result_name.json', 'r') as f:\n",
    "    is_relevant_result = json.load(f)"
   ]
  },
  {
   "cell_type": "code",
   "execution_count": null,
   "metadata": {
    "id": "nPKfMXbOL2Ba"
   },
   "outputs": [],
   "source": [
    "# Process articles\n",
    "results_relationship = []\n",
    "for article in tqdm(df, desc=\"Processing articles\"):\n",
    "    if is_relevant_result.get(article['unique_id']) == 'yes':\n",
    "      try:\n",
    "          extracted_data = json.loads(extract_relationships(article))\n",
    "          results_relationship.append(extracted_data)\n",
    "      except json.JSONDecodeError as e:\n",
    "          print(f\"Error processing article '{article['unique_id']}': {str(e)}\")"
   ]
  },
  {
   "cell_type": "code",
   "execution_count": null,
   "metadata": {
    "id": "HDz8iTAPSh2Y"
   },
   "outputs": [],
   "source": [
    "# Save all results\n",
    "with open('kol_brand_relationships.json', 'w', encoding='utf-8') as f:\n",
    "    json.dump(results_relationship, f, ensure_ascii=False, indent=2)\n",
    "\n",
    "print(f\"relationship results saved\")"
   ]
  },
  {
   "cell_type": "markdown",
   "metadata": {
    "id": "KbLF_wbZeumc"
   },
   "source": [
    "## Graph construction using Neo4J"
   ]
  },
  {
   "cell_type": "code",
   "execution_count": null,
   "metadata": {
    "colab": {
     "base_uri": "https://localhost:8080/"
    },
    "id": "HKVys6G_e-Ow",
    "outputId": "2307d766-b5d9-4b4d-8d3f-8240121fe859"
   },
   "outputs": [
    {
     "name": "stdout",
     "output_type": "stream",
     "text": [
      "Collecting neo4j\n",
      "  Downloading neo4j-5.25.0-py3-none-any.whl.metadata (5.7 kB)\n",
      "Requirement already satisfied: tqdm in /usr/local/lib/python3.10/dist-packages (4.66.5)\n",
      "Requirement already satisfied: pytz in /usr/local/lib/python3.10/dist-packages (from neo4j) (2024.2)\n",
      "Downloading neo4j-5.25.0-py3-none-any.whl (296 kB)\n",
      "\u001b[?25l   \u001b[90m━━━━━━━━━━━━━━━━━━━━━━━━━━━━━━━━━━━━━━━━\u001b[0m \u001b[32m0.0/296.6 kB\u001b[0m \u001b[31m?\u001b[0m eta \u001b[36m-:--:--\u001b[0m\r\u001b[2K   \u001b[91m━━━━━━━━━━━\u001b[0m\u001b[90m╺\u001b[0m\u001b[90m━━━━━━━━━━━━━━━━━━━━━━━━━━━━\u001b[0m \u001b[32m81.9/296.6 kB\u001b[0m \u001b[31m2.3 MB/s\u001b[0m eta \u001b[36m0:00:01\u001b[0m\r\u001b[2K   \u001b[91m━━━━━━━━━━━━━━━━━━━━━━━━━━━━━━━━━━━━━━\u001b[0m\u001b[91m╸\u001b[0m\u001b[90m━\u001b[0m \u001b[32m286.7/296.6 kB\u001b[0m \u001b[31m4.2 MB/s\u001b[0m eta \u001b[36m0:00:01\u001b[0m\r\u001b[2K   \u001b[90m━━━━━━━━━━━━━━━━━━━━━━━━━━━━━━━━━━━━━━━━\u001b[0m \u001b[32m296.6/296.6 kB\u001b[0m \u001b[31m3.8 MB/s\u001b[0m eta \u001b[36m0:00:00\u001b[0m\n",
      "\u001b[?25hInstalling collected packages: neo4j\n",
      "Successfully installed neo4j-5.25.0\n"
     ]
    }
   ],
   "source": [
    "!pip install neo4j tqdm"
   ]
  },
  {
   "cell_type": "code",
   "execution_count": null,
   "metadata": {
    "id": "L-YYGaN-RdgX"
   },
   "outputs": [],
   "source": [
    "from neo4j import GraphDatabase\n",
    "import json\n",
    "from google.colab import userdata\n",
    "from tqdm import tqdm\n",
    "from collections import defaultdict"
   ]
  },
  {
   "cell_type": "code",
   "execution_count": null,
   "metadata": {
    "id": "7GRpFEfdRnv4"
   },
   "outputs": [],
   "source": [
    "# Neo4j connection details\n",
    "uri = \"neo4j+s://af29f150.databases.neo4j.io\"\n",
    "username = \"neo4j\"              # Default username\n",
    "password = userdata.get('AURA_NEOJ4_PASS')\n",
    "\n",
    "# Create a Neo4j driver instance\n",
    "driver = GraphDatabase.driver(uri, auth=(username, password))"
   ]
  },
  {
   "cell_type": "code",
   "execution_count": null,
   "metadata": {
    "id": "-yWCiefFRsST"
   },
   "outputs": [],
   "source": [
    "# Define a function to extract entities and relationships\n",
    "def extract_entities_and_relationships(data):\n",
    "  entities = defaultdict(set)  # To store unique entities by type\n",
    "  relationships = []\n",
    "  print('Process data and create nodes and relationships')\n",
    "  for item in tqdm(data):\n",
    "    try:\n",
    "      if item[\"edges\"]:  # Skip empty edges\n",
    "          for edge in item[\"edges\"]:\n",
    "              if not all(key in edge and edge[key] for key in [\"from\", \"to\", \"type\", \"category\"]):\n",
    "                print('Invalid edge format:', edge)\n",
    "                continue\n",
    "              # Create nodes and relationship\n",
    "              entities['Influencer'].add(edge['from'])\n",
    "              entities[edge['category'].replace(' and ', '_').replace(' ', '_')].add(edge['to'])\n",
    "              relationships.append({\n",
    "                  'from': edge['from'],\n",
    "                  'to': edge['to'],\n",
    "                  'type': edge['type']\n",
    "              })\n",
    "    except:\n",
    "      print('No edges found')\n",
    "  return entities, relationships"
   ]
  },
  {
   "cell_type": "markdown",
   "metadata": {
    "id": "-_oJtkE8Xfav"
   },
   "source": [
    "#### Building cypher queries"
   ]
  },
  {
   "cell_type": "code",
   "execution_count": null,
   "metadata": {
    "id": "9BXYFvnrXbDl"
   },
   "outputs": [],
   "source": [
    "def clear_database():\n",
    "    clear_query = \"MATCH (n) DETACH DELETE n\"\n",
    "    with driver.session() as session:\n",
    "        session.run(clear_query)\n",
    "        print(\"Database cleared.\")"
   ]
  },
  {
   "cell_type": "code",
   "execution_count": null,
   "metadata": {
    "id": "wm7uOAHQXWpa"
   },
   "outputs": [],
   "source": [
    "def generate_node_queries(entities):\n",
    "    cypher_queries = []\n",
    "\n",
    "    # Function to escape single quotes in Cypher queries\n",
    "    def escape_single_quotes(text):\n",
    "        return text.replace(\"'\", \"\\\\'\")\n",
    "\n",
    "    # Create queries for nodes (entities)\n",
    "    for entity_type, entity_names in entities.items():\n",
    "        for entity_name in entity_names:\n",
    "            name_escaped = escape_single_quotes(entity_name)\n",
    "            query = f\"CREATE (e:{entity_type} {{name: '{name_escaped}'}})\"  # Use the entity type as the label\n",
    "            cypher_queries.append(query)\n",
    "\n",
    "    return cypher_queries"
   ]
  },
  {
   "cell_type": "code",
   "execution_count": null,
   "metadata": {
    "id": "aKSKgAtFScjg"
   },
   "outputs": [],
   "source": [
    "def generate_relationship_queries(relationships):\n",
    "    cypher_queries = []\n",
    "\n",
    "    # Function to escape single quotes in Cypher queries\n",
    "    def escape_single_quotes(text):\n",
    "        return text.replace(\"'\", \"\\\\'\")\n",
    "\n",
    "    # Create queries for relationships\n",
    "    for relationship in relationships:\n",
    "        if isinstance(relationship, dict) and 'from' in relationship and 'to' in relationship and 'type' in relationship:\n",
    "            from_escaped = escape_single_quotes(relationship['from'])\n",
    "            to_escaped = escape_single_quotes(relationship['to'])\n",
    "            query = f\"\"\"\n",
    "            MATCH (a {{name: '{from_escaped}'}}),\n",
    "                  (b {{name: '{to_escaped}'}})\n",
    "            MERGE (a)-[:{relationship['type']}]->(b)\n",
    "            \"\"\"\n",
    "            cypher_queries.append(query)\n",
    "        else:\n",
    "            print(f\"Skipping unexpected relationship structure: {relationship}\")\n",
    "\n",
    "    return cypher_queries"
   ]
  },
  {
   "cell_type": "code",
   "execution_count": null,
   "metadata": {
    "id": "rZle8HGAYaIl"
   },
   "outputs": [],
   "source": [
    "def run_cypher_queries(queries):\n",
    "    with driver.session() as session:\n",
    "        for query in tqdm(queries):\n",
    "            session.run(query)\n",
    "            print(f\"Executed: {query[:100]}...\")  # Track progress"
   ]
  },
  {
   "cell_type": "markdown",
   "metadata": {
    "id": "J3YtnS4eYo3t"
   },
   "source": [
    "#### Executing"
   ]
  },
  {
   "cell_type": "code",
   "execution_count": null,
   "metadata": {
    "colab": {
     "base_uri": "https://localhost:8080/"
    },
    "id": "4Ua3WXcLeyYr",
    "outputId": "d15a5a14-c009-45e9-a083-43a5f5f20b8e"
   },
   "outputs": [
    {
     "name": "stderr",
     "output_type": "stream",
     "text": [
      "  0%|          | 1/1090 [00:00<06:30,  2.79it/s]"
     ]
    },
    {
     "name": "stdout",
     "output_type": "stream",
     "text": [
      "Executed: \n",
      "            MATCH (a {name: 'Rudy Kelly'}),\n",
      "                  (b {name: 'CBC Indigenous'})\n",
      "        ...\n"
     ]
    },
    {
     "name": "stderr",
     "output_type": "stream",
     "text": [
      "  0%|          | 3/1090 [00:00<04:01,  4.50it/s]"
     ]
    },
    {
     "name": "stdout",
     "output_type": "stream",
     "text": [
      "Executed: \n",
      "            MATCH (a {name: 'Phyllis Webstad'}),\n",
      "                  (b {name: 'CBC Books'})\n",
      "        ...\n",
      "Executed: \n",
      "            MATCH (a {name: 'Julie Delporte'}),\n",
      "                  (b {name: 'Drawn & Quarterly'})\n",
      " ...\n"
     ]
    },
    {
     "name": "stderr",
     "output_type": "stream",
     "text": [
      "  0%|          | 5/1090 [00:01<03:17,  5.49it/s]"
     ]
    },
    {
     "name": "stdout",
     "output_type": "stream",
     "text": [
      "Executed: \n",
      "            MATCH (a {name: 'Karen Houle'}),\n",
      "                  (b {name: 'Drawn & Quarterly'})\n",
      "    ...\n",
      "Executed: \n",
      "            MATCH (a {name: 'Kelly McMichael'}),\n",
      "                  (b {name: 'Begonia'})\n",
      "          ...\n"
     ]
    },
    {
     "name": "stderr",
     "output_type": "stream",
     "text": [
      "  1%|          | 7/1090 [00:01<03:09,  5.72it/s]"
     ]
    },
    {
     "name": "stdout",
     "output_type": "stream",
     "text": [
      "Executed: \n",
      "            MATCH (a {name: 'Tati Westbrook'}),\n",
      "                  (b {name: 'GlamLifeGuru'})\n",
      "      ...\n",
      "Executed: \n",
      "            MATCH (a {name: 'Mayor Jyoti Gondek'}),\n",
      "                  (b {name: 'Calgarians'})\n",
      "    ...\n"
     ]
    },
    {
     "name": "stderr",
     "output_type": "stream",
     "text": [
      "  1%|          | 9/1090 [00:01<03:05,  5.82it/s]"
     ]
    },
    {
     "name": "stdout",
     "output_type": "stream",
     "text": [
      "Executed: \n",
      "            MATCH (a {name: 'Nick Eh 30'}),\n",
      "                  (b {name: 'Epic Games'})\n",
      "            ...\n",
      "Executed: \n",
      "            MATCH (a {name: 'Payam Akhavan'}),\n",
      "                  (b {name: 'CBC Books'})\n",
      "          ...\n"
     ]
    },
    {
     "name": "stderr",
     "output_type": "stream",
     "text": [
      "  1%|          | 11/1090 [00:02<03:02,  5.92it/s]"
     ]
    },
    {
     "name": "stdout",
     "output_type": "stream",
     "text": [
      "Executed: \n",
      "            MATCH (a {name: 'CBC Kids Books Friends Find a Way, and I Can, Too!'}),\n",
      "               ...\n",
      "Executed: \n",
      "            MATCH (a {name: 'Echo Hunter'}),\n",
      "                  (b {name: 'CBC Sports'})\n",
      "           ...\n"
     ]
    },
    {
     "name": "stderr",
     "output_type": "stream",
     "text": [
      "  1%|          | 13/1090 [00:02<02:59,  6.00it/s]"
     ]
    },
    {
     "name": "stdout",
     "output_type": "stream",
     "text": [
      "Executed: \n",
      "            MATCH (a {name: 'Andrew Bernard'}),\n",
      "                  (b {name: 'Oxford University Pres...\n",
      "Executed: \n",
      "            MATCH (a {name: 'Buck Majors'}),\n",
      "                  (b {name: 'Tommy Bartlett'})\n",
      "       ...\n"
     ]
    },
    {
     "name": "stderr",
     "output_type": "stream",
     "text": [
      "  1%|▏         | 15/1090 [00:02<02:56,  6.08it/s]"
     ]
    },
    {
     "name": "stdout",
     "output_type": "stream",
     "text": [
      "Executed: \n",
      "            MATCH (a {name: 'Buck Majors'}),\n",
      "                  (b {name: 'Eddie Reyes'})\n",
      "          ...\n",
      "Executed: \n",
      "            MATCH (a {name: 'Lil Nas X'}),\n",
      "                  (b {name: 'Adidas'})\n",
      "            MERGE...\n"
     ]
    },
    {
     "name": "stderr",
     "output_type": "stream",
     "text": [
      "  2%|▏         | 17/1090 [00:03<02:54,  6.15it/s]"
     ]
    },
    {
     "name": "stdout",
     "output_type": "stream",
     "text": [
      "Executed: \n",
      "            MATCH (a {name: 'Lil Nas X'}),\n",
      "                  (b {name: 'Pepsi'})\n",
      "            MERGE ...\n",
      "Executed: \n",
      "            MATCH (a {name: 'Olivia Rodrigo'}),\n",
      "                  (b {name: 'American Express'})\n",
      "  ...\n"
     ]
    },
    {
     "name": "stderr",
     "output_type": "stream",
     "text": [
      "  2%|▏         | 19/1090 [00:03<02:46,  6.43it/s]"
     ]
    },
    {
     "name": "stdout",
     "output_type": "stream",
     "text": [
      "Executed: \n",
      "            MATCH (a {name: 'Jackie Janto'}),\n",
      "                  (b {name: 'Hinge'})\n",
      "            MER...\n",
      "Executed: \n",
      "            MATCH (a {name: 'Tessa Brooks'}),\n",
      "                  (b {name: 'Morphe'})\n",
      "            ME...\n"
     ]
    },
    {
     "name": "stderr",
     "output_type": "stream",
     "text": [
      "  2%|▏         | 21/1090 [00:03<02:56,  6.05it/s]"
     ]
    },
    {
     "name": "stdout",
     "output_type": "stream",
     "text": [
      "Executed: \n",
      "            MATCH (a {name: 'Lilly Singh'}),\n",
      "                  (b {name: 'Sephora'})\n",
      "            ME...\n",
      "Executed: \n",
      "            MATCH (a {name: 'Bishop'}),\n",
      "                  (b {name: 'Travel'})\n",
      "            MERGE (a...\n"
     ]
    },
    {
     "name": "stderr",
     "output_type": "stream",
     "text": [
      "  2%|▏         | 23/1090 [00:04<02:54,  6.12it/s]"
     ]
    },
    {
     "name": "stdout",
     "output_type": "stream",
     "text": [
      "Executed: \n",
      "            MATCH (a {name: 'McClanahan'}),\n",
      "                  (b {name: 'Iceland Tourism'})\n",
      "       ...\n",
      "Executed: \n",
      "            MATCH (a {name: 'Dove'}),\n",
      "                  (b {name: 'Coty'})\n",
      "            MERGE (a)-[:...\n"
     ]
    },
    {
     "name": "stderr",
     "output_type": "stream",
     "text": [
      "  2%|▏         | 25/1090 [00:04<02:53,  6.15it/s]"
     ]
    },
    {
     "name": "stdout",
     "output_type": "stream",
     "text": [
      "Executed: \n",
      "            MATCH (a {name: 'Discover'}),\n",
      "                  (b {name: 'Coty'})\n",
      "            MERGE (a...\n",
      "Executed: \n",
      "            MATCH (a {name: 'Natalia Emanuel'}),\n",
      "                  (b {name: 'Atlantic Monthly'})\n",
      " ...\n"
     ]
    },
    {
     "name": "stderr",
     "output_type": "stream",
     "text": [
      "  2%|▏         | 27/1090 [00:04<02:41,  6.60it/s]"
     ]
    },
    {
     "name": "stdout",
     "output_type": "stream",
     "text": [
      "Executed: \n",
      "            MATCH (a {name: 'Andrea Valdez'}),\n",
      "                  (b {name: 'The New York Times'})\n",
      " ...\n",
      "Executed: \n",
      "            MATCH (a {name: 'Megan Garber'}),\n",
      "                  (b {name: 'The Atlantic'})\n",
      "        ...\n"
     ]
    },
    {
     "name": "stderr",
     "output_type": "stream",
     "text": [
      "  3%|▎         | 29/1090 [00:04<02:45,  6.41it/s]"
     ]
    },
    {
     "name": "stdout",
     "output_type": "stream",
     "text": [
      "Executed: \n",
      "            MATCH (a {name: 'John'}),\n",
      "                  (b {name: 'Sarah'})\n",
      "            MERGE (a)-[...\n",
      "Executed: \n",
      "            MATCH (a {name: 'John'}),\n",
      "                  (b {name: 'Emily'})\n",
      "            MERGE (a)-[...\n"
     ]
    },
    {
     "name": "stderr",
     "output_type": "stream",
     "text": [
      "  3%|▎         | 31/1090 [00:05<02:47,  6.30it/s]"
     ]
    },
    {
     "name": "stdout",
     "output_type": "stream",
     "text": [
      "Executed: \n",
      "            MATCH (a {name: 'Art'}),\n",
      "                  (b {name: 'Phil\\'s Tire Town'})\n",
      "            ...\n",
      "Executed: \n",
      "            MATCH (a {name: 'Tashi'}),\n",
      "                  (b {name: 'Phil\\'s Tire Town'})\n",
      "          ...\n"
     ]
    },
    {
     "name": "stderr",
     "output_type": "stream",
     "text": [
      "  3%|▎         | 33/1090 [00:05<02:51,  6.18it/s]"
     ]
    },
    {
     "name": "stdout",
     "output_type": "stream",
     "text": [
      "Executed: \n",
      "            MATCH (a {name: 'JoJo Siwa'}),\n",
      "                  (b {name: 'Nickelodeon'})\n",
      "            ...\n",
      "Executed: \n",
      "            MATCH (a {name: 'Megan Garber'}),\n",
      "                  (b {name: 'The New York Times'})\n",
      "  ...\n"
     ]
    },
    {
     "name": "stderr",
     "output_type": "stream",
     "text": [
      "  3%|▎         | 35/1090 [00:05<02:42,  6.50it/s]"
     ]
    },
    {
     "name": "stdout",
     "output_type": "stream",
     "text": [
      "Executed: \n",
      "            MATCH (a {name: 'Paula Deen'}),\n",
      "                  (b {name: 'Lady & Sons'})\n",
      "           ...\n",
      "Executed: \n",
      "            MATCH (a {name: 'Paula Deen'}),\n",
      "                  (b {name: 'The Chicken Box'})\n",
      "       ...\n"
     ]
    },
    {
     "name": "stderr",
     "output_type": "stream",
     "text": [
      "  3%|▎         | 37/1090 [00:06<02:44,  6.41it/s]"
     ]
    },
    {
     "name": "stdout",
     "output_type": "stream",
     "text": [
      "Executed: \n",
      "            MATCH (a {name: 'drkayla_md'}),\n",
      "                  (b {name: 'Prada'})\n",
      "            MERGE...\n",
      "Executed: \n",
      "            MATCH (a {name: 'Allison Kuch'}),\n",
      "                  (b {name: 'Gucci'})\n",
      "            MER...\n"
     ]
    },
    {
     "name": "stderr",
     "output_type": "stream",
     "text": [
      "  4%|▎         | 39/1090 [00:06<02:49,  6.21it/s]"
     ]
    },
    {
     "name": "stdout",
     "output_type": "stream",
     "text": [
      "Executed: \n",
      "            MATCH (a {name: 'David Victor'}),\n",
      "                  (b {name: 'University of California...\n",
      "Executed: \n",
      "            MATCH (a {name: 'Golay'}),\n",
      "                  (b {name: 'Environmental Defense Fund'})\n",
      " ...\n"
     ]
    },
    {
     "name": "stderr",
     "output_type": "stream",
     "text": [
      "  4%|▍         | 41/1090 [00:06<02:49,  6.17it/s]"
     ]
    },
    {
     "name": "stdout",
     "output_type": "stream",
     "text": [
      "Executed: \n",
      "            MATCH (a {name: 'Morgan Hunt'}),\n",
      "                  (b {name: 'Various Celebrities'})\n",
      "  ...\n",
      "Executed: \n",
      "            MATCH (a {name: 'Brisa'}),\n",
      "                  (b {name: 'Brisa'})\n",
      "            MERGE (a)-...\n"
     ]
    },
    {
     "name": "stderr",
     "output_type": "stream",
     "text": [
      "  4%|▍         | 43/1090 [00:07<02:38,  6.59it/s]"
     ]
    },
    {
     "name": "stdout",
     "output_type": "stream",
     "text": [
      "Executed: \n",
      "            MATCH (a {name: 'Nosto'}),\n",
      "                  (b {name: 'Nosto'})\n",
      "            MERGE (a)-...\n",
      "Executed: \n",
      "            MATCH (a {name: 'Everise'}),\n",
      "                  (b {name: 'Everise'})\n",
      "            MERGE ...\n"
     ]
    },
    {
     "name": "stderr",
     "output_type": "stream",
     "text": [
      "  4%|▍         | 45/1090 [00:07<02:42,  6.45it/s]"
     ]
    },
    {
     "name": "stdout",
     "output_type": "stream",
     "text": [
      "Executed: \n",
      "            MATCH (a {name: 'Shannon Power'}),\n",
      "                  (b {name: 'Saqi Books'})\n",
      "         ...\n",
      "Executed: \n",
      "            MATCH (a {name: 'Yannick Demoustier'}),\n",
      "                  (b {name: 'Hanover Square Pre...\n"
     ]
    },
    {
     "name": "stderr",
     "output_type": "stream",
     "text": [
      "  4%|▍         | 47/1090 [00:07<02:41,  6.47it/s]"
     ]
    },
    {
     "name": "stdout",
     "output_type": "stream",
     "text": [
      "Executed: \n",
      "            MATCH (a {name: 'Joyner'}),\n",
      "                  (b {name: 'Good Energy'})\n",
      "            MER...\n",
      "Executed: \n",
      "            MATCH (a {name: 'Durrington'}),\n",
      "                  (b {name: 'Endometriosis UK'})\n",
      "      ...\n"
     ]
    },
    {
     "name": "stderr",
     "output_type": "stream",
     "text": [
      "  4%|▍         | 49/1090 [00:08<02:42,  6.40it/s]"
     ]
    },
    {
     "name": "stdout",
     "output_type": "stream",
     "text": [
      "Executed: \n",
      "            MATCH (a {name: 'Barbra Streisand'}),\n",
      "                  (b {name: 'Audible'})\n",
      "         ...\n",
      "Executed: \n",
      "            MATCH (a {name: 'French Gates'}),\n",
      "                  (b {name: 'Bill & Melinda Gates Fou...\n"
     ]
    },
    {
     "name": "stderr",
     "output_type": "stream",
     "text": [
      "  5%|▍         | 51/1090 [00:08<02:44,  6.32it/s]"
     ]
    },
    {
     "name": "stdout",
     "output_type": "stream",
     "text": [
      "Executed: \n",
      "            MATCH (a {name: 'Lisa Simon'}),\n",
      "                  (b {name: 'Revelio Labs'})\n",
      "          ...\n",
      "Executed: \n",
      "            MATCH (a {name: 'Michael Seckler'}),\n",
      "                  (b {name: 'Justworks'})\n",
      "        ...\n"
     ]
    },
    {
     "name": "stderr",
     "output_type": "stream",
     "text": [
      "  5%|▍         | 53/1090 [00:08<02:44,  6.31it/s]"
     ]
    },
    {
     "name": "stdout",
     "output_type": "stream",
     "text": [
      "Executed: \n",
      "            MATCH (a {name: 'Aneesh Raman'}),\n",
      "                  (b {name: 'LinkedIn'})\n",
      "            ...\n",
      "Executed: \n",
      "            MATCH (a {name: 'Dewey Murdick'}),\n",
      "                  (b {name: 'Georgetown\\'s Center fo...\n"
     ]
    },
    {
     "name": "stderr",
     "output_type": "stream",
     "text": [
      "  5%|▌         | 55/1090 [00:09<02:45,  6.27it/s]"
     ]
    },
    {
     "name": "stdout",
     "output_type": "stream",
     "text": [
      "Executed: \n",
      "            MATCH (a {name: 'Elizabeth Kelly'}),\n",
      "                  (b {name: 'AI Safety Institute'}...\n",
      "Executed: \n",
      "            MATCH (a {name: 'Deborah Vance'}),\n",
      "                  (b {name: 'QVC'})\n",
      "            MERG...\n"
     ]
    },
    {
     "name": "stderr",
     "output_type": "stream",
     "text": [
      "  5%|▌         | 57/1090 [00:09<02:40,  6.45it/s]"
     ]
    },
    {
     "name": "stdout",
     "output_type": "stream",
     "text": [
      "Executed: \n",
      "            MATCH (a {name: 'D\\'Arcy Carden'}),\n",
      "                  (b {name: 'Wikipedia'})\n",
      "         ...\n",
      "Executed: \n",
      "            MATCH (a {name: 'Emma Smith'}),\n",
      "                  (b {name: 'MAC Cosmetics'})\n",
      "         ...\n"
     ]
    },
    {
     "name": "stderr",
     "output_type": "stream",
     "text": [
      "  5%|▌         | 59/1090 [00:09<02:37,  6.55it/s]"
     ]
    },
    {
     "name": "stdout",
     "output_type": "stream",
     "text": [
      "Executed: \n",
      "            MATCH (a {name: 'Francesca Bridgerton'}),\n",
      "                  (b {name: 'Michael Bridgert...\n",
      "Executed: \n",
      "            MATCH (a {name: 'Hyacinth Bridgerton'}),\n",
      "                  (b {name: 'Gareth St. Clair'...\n"
     ]
    },
    {
     "name": "stderr",
     "output_type": "stream",
     "text": [
      "  6%|▌         | 61/1090 [00:09<02:33,  6.72it/s]"
     ]
    },
    {
     "name": "stdout",
     "output_type": "stream",
     "text": [
      "Executed: \n",
      "            MATCH (a {name: 'Amy Winehouse'}),\n",
      "                  (b {name: 'Epic Records'})\n",
      "       ...\n",
      "Executed: \n",
      "            MATCH (a {name: 'Amy Winehouse'}),\n",
      "                  (b {name: 'Universal Music Group'}...\n"
     ]
    },
    {
     "name": "stderr",
     "output_type": "stream",
     "text": [
      "  6%|▌         | 63/1090 [00:10<02:31,  6.77it/s]"
     ]
    },
    {
     "name": "stdout",
     "output_type": "stream",
     "text": [
      "Executed: \n",
      "            MATCH (a {name: 'Brigitte Chartrand'}),\n",
      "                  (b {name: 'SSENSE'})\n",
      "        ...\n",
      "Executed: \n",
      "            MATCH (a {name: 'Agustina Panzoni'}),\n",
      "                  (b {name: 'DeathToStock'})\n",
      "    ...\n"
     ]
    },
    {
     "name": "stderr",
     "output_type": "stream",
     "text": [
      "  6%|▌         | 65/1090 [00:10<03:06,  5.50it/s]"
     ]
    },
    {
     "name": "stdout",
     "output_type": "stream",
     "text": [
      "Executed: \n",
      "            MATCH (a {name: 'Hailey Bieber'}),\n",
      "                  (b {name: 'Balenciaga'})\n",
      "         ...\n",
      "Executed: \n",
      "            MATCH (a {name: 'Abbas Hamad'}),\n",
      "                  (b {name: 'oil industry'})\n",
      "         ...\n"
     ]
    },
    {
     "name": "stderr",
     "output_type": "stream",
     "text": [
      "  6%|▌         | 67/1090 [00:11<02:57,  5.75it/s]"
     ]
    },
    {
     "name": "stdout",
     "output_type": "stream",
     "text": [
      "Executed: \n",
      "            MATCH (a {name: 'CMIT'}),\n",
      "                  (b {name: 'Shein'})\n",
      "            MERGE (a)-[...\n",
      "Executed: \n",
      "            MATCH (a {name: 'Hunt'}),\n",
      "                  (b {name: 'London Stock Exchange Group'})\n",
      " ...\n"
     ]
    },
    {
     "name": "stderr",
     "output_type": "stream",
     "text": [
      "  6%|▋         | 69/1090 [00:11<02:39,  6.41it/s]"
     ]
    },
    {
     "name": "stdout",
     "output_type": "stream",
     "text": [
      "Executed: \n",
      "            MATCH (a {name: 'Rachel Reeves'}),\n",
      "                  (b {name: 'FT'})\n",
      "            MERGE...\n",
      "Executed: \n",
      "            MATCH (a {name: 'Nigel Farage'}),\n",
      "                  (b {name: 'FT'})\n",
      "            MERGE ...\n"
     ]
    },
    {
     "name": "stderr",
     "output_type": "stream",
     "text": [
      "  7%|▋         | 71/1090 [00:11<02:30,  6.79it/s]"
     ]
    },
    {
     "name": "stdout",
     "output_type": "stream",
     "text": [
      "Executed: \n",
      "            MATCH (a {name: 'Alice B Toklas'}),\n",
      "                  (b {name: 'Gertrude Stein'})\n",
      "    ...\n",
      "Executed: \n",
      "            MATCH (a {name: 'Dixie D\\'Amelio'}),\n",
      "                  (b {name: 'Virtual Dining Concep...\n"
     ]
    },
    {
     "name": "stderr",
     "output_type": "stream",
     "text": [
      "  7%|▋         | 73/1090 [00:11<02:35,  6.55it/s]"
     ]
    },
    {
     "name": "stdout",
     "output_type": "stream",
     "text": [
      "Executed: \n",
      "            MATCH (a {name: 'Meta'}),\n",
      "                  (b {name: 'Oversight Board'})\n",
      "            M...\n",
      "Executed: \n",
      "            MATCH (a {name: 'Chris Hohn'}),\n",
      "                  (b {name: 'Climate Action 100+'})\n",
      "   ...\n"
     ]
    },
    {
     "name": "stderr",
     "output_type": "stream",
     "text": [
      "  7%|▋         | 75/1090 [00:12<02:34,  6.58it/s]"
     ]
    },
    {
     "name": "stdout",
     "output_type": "stream",
     "text": [
      "Executed: \n",
      "            MATCH (a {name: 'Calstrs'}),\n",
      "                  (b {name: 'Climate Action 100+'})\n",
      "      ...\n",
      "Executed: \n",
      "            MATCH (a {name: 'David De Cremer'}),\n",
      "                  (b {name: 'Northeastern Universi...\n"
     ]
    },
    {
     "name": "stderr",
     "output_type": "stream",
     "text": [
      "  7%|▋         | 77/1090 [00:12<02:43,  6.20it/s]"
     ]
    },
    {
     "name": "stdout",
     "output_type": "stream",
     "text": [
      "Executed: \n",
      "            MATCH (a {name: 'Liza Koshy'}),\n",
      "                  (b {name: 'YouTube Originals'})\n",
      "     ...\n",
      "Executed: \n",
      "            MATCH (a {name: 'Colleen Ballinger'}),\n",
      "                  (b {name: 'Netflix'})\n",
      "        ...\n"
     ]
    },
    {
     "name": "stderr",
     "output_type": "stream",
     "text": [
      "  7%|▋         | 79/1090 [00:12<02:40,  6.28it/s]"
     ]
    },
    {
     "name": "stdout",
     "output_type": "stream",
     "text": [
      "Executed: \n",
      "            MATCH (a {name: 'Tessa Brooks'}),\n",
      "                  (b {name: 'Morphe'})\n",
      "            ME...\n",
      "Executed: \n",
      "            MATCH (a {name: 'Joshua Franklin'}),\n",
      "                  (b {name: 'Federal Reserve'})\n",
      "  ...\n"
     ]
    },
    {
     "name": "stderr",
     "output_type": "stream",
     "text": [
      "  7%|▋         | 81/1090 [00:13<02:38,  6.36it/s]"
     ]
    },
    {
     "name": "stdout",
     "output_type": "stream",
     "text": [
      "Executed: \n",
      "            MATCH (a {name: 'Daniel Waldenström'}),\n",
      "                  (b {name: 'Polity'})\n",
      "        ...\n",
      "Executed: \n",
      "            MATCH (a {name: 'Paolo Zannoni'}),\n",
      "                  (b {name: 'The New Press'})\n",
      "      ...\n"
     ]
    },
    {
     "name": "stderr",
     "output_type": "stream",
     "text": [
      "  8%|▊         | 83/1090 [00:13<02:36,  6.43it/s]"
     ]
    },
    {
     "name": "stdout",
     "output_type": "stream",
     "text": [
      "Executed: \n",
      "            MATCH (a {name: 'Melissa B Jacoby'}),\n",
      "                  (b {name: 'University of North ...\n",
      "Executed: \n",
      "            MATCH (a {name: 'Martin Wolf'}),\n",
      "                  (b {name: 'Financial Times'})\n",
      "      ...\n"
     ]
    },
    {
     "name": "stderr",
     "output_type": "stream",
     "text": [
      "  8%|▊         | 85/1090 [00:13<02:32,  6.58it/s]"
     ]
    },
    {
     "name": "stdout",
     "output_type": "stream",
     "text": [
      "Executed: \n",
      "            MATCH (a {name: 'Davies'}),\n",
      "                  (b {name: 'Unhedged'})\n",
      "            MERGE ...\n",
      "Executed: \n",
      "            MATCH (a {name: 'Tony Yates'}),\n",
      "                  (b {name: 'NEF'})\n",
      "            MERGE (...\n"
     ]
    },
    {
     "name": "stderr",
     "output_type": "stream",
     "text": [
      "  8%|▊         | 87/1090 [00:14<02:27,  6.82it/s]"
     ]
    },
    {
     "name": "stdout",
     "output_type": "stream",
     "text": [
      "Executed: \n",
      "            MATCH (a {name: 'Martin Wolf'}),\n",
      "                  (b {name: 'The Economist Group'})\n",
      "  ...\n",
      "Executed: \n",
      "            MATCH (a {name: 'John Henry'}),\n",
      "                  (b {name: 'Boston Red Sox'})\n",
      "        ...\n"
     ]
    },
    {
     "name": "stderr",
     "output_type": "stream",
     "text": [
      "  8%|▊         | 89/1090 [00:14<02:27,  6.80it/s]"
     ]
    },
    {
     "name": "stdout",
     "output_type": "stream",
     "text": [
      "Executed: \n",
      "            MATCH (a {name: 'John Henry'}),\n",
      "                  (b {name: 'The R Club'})\n",
      "            ...\n",
      "Executed: \n",
      "            MATCH (a {name: 'John Henry'}),\n",
      "                  (b {name: 'Boston Celtics'})\n",
      "        ...\n"
     ]
    },
    {
     "name": "stderr",
     "output_type": "stream",
     "text": [
      "  8%|▊         | 91/1090 [00:14<02:22,  6.99it/s]"
     ]
    },
    {
     "name": "stdout",
     "output_type": "stream",
     "text": [
      "Executed: \n",
      "            MATCH (a {name: 'John Henry'}),\n",
      "                  (b {name: 'Cleveland Browns'})\n",
      "      ...\n",
      "Executed: \n",
      "            MATCH (a {name: 'John Henry'}),\n",
      "                  (b {name: 'The R Club'})\n",
      "            ...\n"
     ]
    },
    {
     "name": "stderr",
     "output_type": "stream",
     "text": [
      "  9%|▊         | 93/1090 [00:14<02:20,  7.09it/s]"
     ]
    },
    {
     "name": "stdout",
     "output_type": "stream",
     "text": [
      "Executed: \n",
      "            MATCH (a {name: 'Nikita Dragun'}),\n",
      "                  (b {name: 'Dragun Beauty'})\n",
      "      ...\n",
      "Executed: \n",
      "            MATCH (a {name: 'Lindsay Adams'}),\n",
      "                  (b {name: 'Fashion Nova'})\n",
      "       ...\n"
     ]
    },
    {
     "name": "stderr",
     "output_type": "stream",
     "text": [
      "  9%|▊         | 95/1090 [00:15<02:23,  6.95it/s]"
     ]
    },
    {
     "name": "stdout",
     "output_type": "stream",
     "text": [
      "Executed: \n",
      "            MATCH (a {name: 'Kaitlyn Ham'}),\n",
      "                  (b {name: 'In The Style'})\n",
      "         ...\n",
      "Executed: \n",
      "            MATCH (a {name: 'Sarahâ€™s Day'}),\n",
      "                  (b {name: 'Bamboo Earth'})\n",
      "       ...\n"
     ]
    },
    {
     "name": "stderr",
     "output_type": "stream",
     "text": [
      "  9%|▉         | 97/1090 [00:15<02:27,  6.73it/s]"
     ]
    },
    {
     "name": "stdout",
     "output_type": "stream",
     "text": [
      "Executed: \n",
      "            MATCH (a {name: 'Kaitlyn Bristowe'}),\n",
      "                  (b {name: 'Dancing with the Sta...\n",
      "Executed: \n",
      "            MATCH (a {name: 'TimothÃ©e Chalamet'}),\n",
      "                  (b {name: 'Chanel'})\n",
      "        ...\n"
     ]
    },
    {
     "name": "stderr",
     "output_type": "stream",
     "text": [
      "  9%|▉         | 99/1090 [00:15<02:38,  6.25it/s]"
     ]
    },
    {
     "name": "stdout",
     "output_type": "stream",
     "text": [
      "Executed: \n",
      "            MATCH (a {name: 'Loren Gray'}),\n",
      "                  (b {name: 'Hollister'})\n",
      "            M...\n",
      "Executed: \n",
      "            MATCH (a {name: 'Kylie Jenner'}),\n",
      "                  (b {name: 'Skims'})\n",
      "            MER...\n"
     ]
    },
    {
     "name": "stderr",
     "output_type": "stream",
     "text": [
      "  9%|▉         | 101/1090 [00:16<02:34,  6.41it/s]"
     ]
    },
    {
     "name": "stdout",
     "output_type": "stream",
     "text": [
      "Executed: \n",
      "            MATCH (a {name: 'Katie Martin'}),\n",
      "                  (b {name: 'Financial Times'})\n",
      "     ...\n",
      "Executed: \n",
      "            MATCH (a {name: 'Roccati'}),\n",
      "                  (b {name: 'Neuralink'})\n",
      "            MERG...\n"
     ]
    },
    {
     "name": "stderr",
     "output_type": "stream",
     "text": [
      "  9%|▉         | 103/1090 [00:16<02:25,  6.79it/s]"
     ]
    },
    {
     "name": "stdout",
     "output_type": "stream",
     "text": [
      "Executed: \n",
      "            MATCH (a {name: 'Thomas Hale'}),\n",
      "                  (b {name: 'Financial Times'})\n",
      "      ...\n",
      "Executed: \n",
      "            MATCH (a {name: 'Andrew Jack'}),\n",
      "                  (b {name: 'Financial Times'})\n",
      "      ...\n"
     ]
    },
    {
     "name": "stderr",
     "output_type": "stream",
     "text": [
      " 10%|▉         | 105/1090 [00:16<02:27,  6.68it/s]"
     ]
    },
    {
     "name": "stdout",
     "output_type": "stream",
     "text": [
      "Executed: \n",
      "            MATCH (a {name: 'NikkieTutorials'}),\n",
      "                  (b {name: 'Beauty Bay'})\n",
      "       ...\n",
      "Executed: \n",
      "            MATCH (a {name: 'Anonymous Woman'}),\n",
      "                  (b {name: 'Tesco'})\n",
      "            ...\n"
     ]
    },
    {
     "name": "stderr",
     "output_type": "stream",
     "text": [
      " 10%|▉         | 107/1090 [00:16<02:22,  6.92it/s]"
     ]
    },
    {
     "name": "stdout",
     "output_type": "stream",
     "text": [
      "Executed: \n",
      "            MATCH (a {name: 'Anonymous Woman'}),\n",
      "                  (b {name: 'Deloitte'})\n",
      "         ...\n",
      "Executed: \n",
      "            MATCH (a {name: 'Anonymous Woman'}),\n",
      "                  (b {name: 'Unilever'})\n",
      "         ...\n"
     ]
    },
    {
     "name": "stderr",
     "output_type": "stream",
     "text": [
      " 10%|█         | 109/1090 [00:17<02:18,  7.07it/s]"
     ]
    },
    {
     "name": "stdout",
     "output_type": "stream",
     "text": [
      "Executed: \n",
      "            MATCH (a {name: 'Abu Dhabi’s National Defence College'}),\n",
      "                  (b {name: '...\n",
      "Executed: \n",
      "            MATCH (a {name: 'Oxford’s Soares de Oliveira'}),\n",
      "                  (b {name: 'Dubai'})\n",
      "...\n"
     ]
    },
    {
     "name": "stderr",
     "output_type": "stream",
     "text": [
      " 10%|█         | 111/1090 [00:17<02:21,  6.93it/s]"
     ]
    },
    {
     "name": "stdout",
     "output_type": "stream",
     "text": [
      "Executed: \n",
      "            MATCH (a {name: 'Jeffree Star'}),\n",
      "                  (b {name: 'Morphe'})\n",
      "            ME...\n",
      "Executed: \n",
      "            MATCH (a {name: 'Demi Lovato'}),\n",
      "                  (b {name: 'Fabletics'})\n",
      "            ...\n"
     ]
    },
    {
     "name": "stderr",
     "output_type": "stream",
     "text": [
      " 10%|█         | 113/1090 [00:17<02:24,  6.77it/s]"
     ]
    },
    {
     "name": "stdout",
     "output_type": "stream",
     "text": [
      "Executed: \n",
      "            MATCH (a {name: 'Sophie Turner'}),\n",
      "                  (b {name: 'Louis Vuitton'})\n",
      "      ...\n",
      "Executed: \n",
      "            MATCH (a {name: 'Lilly Singh'}),\n",
      "                  (b {name: 'Unilever'})\n",
      "            M...\n"
     ]
    },
    {
     "name": "stderr",
     "output_type": "stream",
     "text": [
      " 11%|█         | 115/1090 [00:18<02:25,  6.69it/s]"
     ]
    },
    {
     "name": "stdout",
     "output_type": "stream",
     "text": [
      "Executed: \n",
      "            MATCH (a {name: 'Emily Oster'}),\n",
      "                  (b {name: 'Pampers'})\n",
      "            ME...\n",
      "Executed: \n",
      "            MATCH (a {name: 'Rob Allison'}),\n",
      "                  (b {name: 'Jamie Oliver'})\n",
      "         ...\n"
     ]
    },
    {
     "name": "stderr",
     "output_type": "stream",
     "text": [
      " 11%|█         | 117/1090 [00:18<02:19,  6.97it/s]"
     ]
    },
    {
     "name": "stdout",
     "output_type": "stream",
     "text": [
      "Executed: \n",
      "            MATCH (a {name: 'Rob Allison'}),\n",
      "                  (b {name: 'Anna Jones'})\n",
      "           ...\n",
      "Executed: \n",
      "            MATCH (a {name: 'Rob Allison'}),\n",
      "                  (b {name: 'Catherine Phipps'})\n",
      "     ...\n"
     ]
    },
    {
     "name": "stderr",
     "output_type": "stream",
     "text": [
      " 11%|█         | 119/1090 [00:18<02:23,  6.79it/s]"
     ]
    },
    {
     "name": "stdout",
     "output_type": "stream",
     "text": [
      "Executed: \n",
      "            MATCH (a {name: 'Duggal'}),\n",
      "                  (b {name: 'Builder.ai'})\n",
      "            MERG...\n",
      "Executed: \n",
      "            MATCH (a {name: 'Microsoft'}),\n",
      "                  (b {name: 'Builder.ai'})\n",
      "            M...\n"
     ]
    },
    {
     "name": "stderr",
     "output_type": "stream",
     "text": [
      " 11%|█         | 121/1090 [00:19<02:27,  6.56it/s]"
     ]
    },
    {
     "name": "stdout",
     "output_type": "stream",
     "text": [
      "Executed: \n",
      "            MATCH (a {name: 'Harry Nguyen'}),\n",
      "                  (b {name: 'Builder.ai'})\n",
      "          ...\n",
      "Executed: \n",
      "            MATCH (a {name: 'Jacksepticeye'}),\n",
      "                  (b {name: 'Humble Bundle'})\n",
      "      ...\n"
     ]
    },
    {
     "name": "stderr",
     "output_type": "stream",
     "text": [
      " 11%|█▏        | 123/1090 [00:19<02:29,  6.45it/s]"
     ]
    },
    {
     "name": "stdout",
     "output_type": "stream",
     "text": [
      "Executed: \n",
      "            MATCH (a {name: 'Nikita Dragun'}),\n",
      "                  (b {name: 'ColourPop'})\n",
      "          ...\n",
      "Executed: \n",
      "            MATCH (a {name: 'Lim'}),\n",
      "                  (b {name: 'Coach'})\n",
      "            MERGE (a)-[:...\n"
     ]
    },
    {
     "name": "stderr",
     "output_type": "stream",
     "text": [
      " 11%|█▏        | 125/1090 [00:19<02:22,  6.77it/s]"
     ]
    },
    {
     "name": "stdout",
     "output_type": "stream",
     "text": [
      "Executed: \n",
      "            MATCH (a {name: 'Jason Furman'}),\n",
      "                  (b {name: 'The Economist Group'})\n",
      " ...\n",
      "Executed: \n",
      "            MATCH (a {name: 'Taras Kachka'}),\n",
      "                  (b {name: 'Ukraine\\'s government'})...\n"
     ]
    },
    {
     "name": "stderr",
     "output_type": "stream",
     "text": [
      " 12%|█▏        | 127/1090 [00:19<02:25,  6.63it/s]"
     ]
    },
    {
     "name": "stdout",
     "output_type": "stream",
     "text": [
      "Executed: \n",
      "            MATCH (a {name: 'Doil Son'}),\n",
      "                  (b {name: 'Yulchon'})\n",
      "            MERGE...\n",
      "Executed: \n",
      "            MATCH (a {name: 'Agnes Tsang'}),\n",
      "                  (b {name: 'Allen & Overy'})\n",
      "        ...\n"
     ]
    },
    {
     "name": "stderr",
     "output_type": "stream",
     "text": [
      " 12%|█▏        | 129/1090 [00:20<02:47,  5.75it/s]"
     ]
    },
    {
     "name": "stdout",
     "output_type": "stream",
     "text": [
      "Executed: \n",
      "            MATCH (a {name: 'Bella Thorne'}),\n",
      "                  (b {name: 'Thorne by Bella'})\n",
      "     ...\n",
      "Executed: \n",
      "            MATCH (a {name: 'Kaitlyn Maher'}),\n",
      "                  (b {name: 'Disney+'})\n",
      "            ...\n"
     ]
    },
    {
     "name": "stderr",
     "output_type": "stream",
     "text": [
      "\r 12%|█▏        | 130/1090 [00:20<02:42,  5.91it/s]"
     ]
    },
    {
     "name": "stdout",
     "output_type": "stream",
     "text": [
      "Executed: \n",
      "            MATCH (a {name: 'Tiffany Ma'}),\n",
      "                  (b {name: 'Daisy London'})\n",
      "          ...\n"
     ]
    },
    {
     "name": "stderr",
     "output_type": "stream",
     "text": [
      " 12%|█▏        | 132/1090 [00:20<02:56,  5.41it/s]"
     ]
    },
    {
     "name": "stdout",
     "output_type": "stream",
     "text": [
      "Executed: \n",
      "            MATCH (a {name: 'Airbnb'}),\n",
      "                  (b {name: 'Macquarie'})\n",
      "            MERGE...\n",
      "Executed: \n",
      "            MATCH (a {name: 'Uber'}),\n",
      "                  (b {name: 'Telstra'})\n",
      "            MERGE (a)...\n"
     ]
    },
    {
     "name": "stderr",
     "output_type": "stream",
     "text": [
      " 12%|█▏        | 134/1090 [00:21<02:34,  6.20it/s]"
     ]
    },
    {
     "name": "stdout",
     "output_type": "stream",
     "text": [
      "Executed: \n",
      "            MATCH (a {name: 'Sophia Amoruso'}),\n",
      "                  (b {name: 'Nasty Gal'})\n",
      "         ...\n",
      "Executed: \n",
      "            MATCH (a {name: 'David Dobrik'}),\n",
      "                  (b {name: 'SeatGeek'})\n",
      "            ...\n"
     ]
    },
    {
     "name": "stderr",
     "output_type": "stream",
     "text": [
      " 12%|█▏        | 136/1090 [00:21<02:27,  6.48it/s]"
     ]
    },
    {
     "name": "stdout",
     "output_type": "stream",
     "text": [
      "Executed: \n",
      "            MATCH (a {name: 'Summer McKeen'}),\n",
      "                  (b {name: 'Forever 21'})\n",
      "         ...\n",
      "Executed: \n",
      "            MATCH (a {name: 'Jürgen Klopp'}),\n",
      "                  (b {name: 'Liverpool FC'})\n",
      "        ...\n"
     ]
    },
    {
     "name": "stderr",
     "output_type": "stream",
     "text": [
      " 13%|█▎        | 138/1090 [00:21<02:31,  6.27it/s]"
     ]
    },
    {
     "name": "stdout",
     "output_type": "stream",
     "text": [
      "Executed: \n",
      "            MATCH (a {name: 'Nigel Toon'}),\n",
      "                  (b {name: 'Penguin'})\n",
      "            MER...\n",
      "Executed: \n",
      "            MATCH (a {name: 'Verity Harding'}),\n",
      "                  (b {name: 'Princeton University P...\n"
     ]
    },
    {
     "name": "stderr",
     "output_type": "stream",
     "text": [
      " 13%|█▎        | 140/1090 [00:22<02:22,  6.68it/s]"
     ]
    },
    {
     "name": "stdout",
     "output_type": "stream",
     "text": [
      "Executed: \n",
      "            MATCH (a {name: 'Nigel Shadbolt and Roger Hampson'}),\n",
      "                  (b {name: 'Yale...\n",
      "Executed: \n",
      "            MATCH (a {name: 'Lydia Bulas'}),\n",
      "                  (b {name: 'McDonald\\'s'})\n",
      "          ...\n"
     ]
    },
    {
     "name": "stderr",
     "output_type": "stream",
     "text": [
      " 13%|█▎        | 142/1090 [00:22<02:20,  6.75it/s]"
     ]
    },
    {
     "name": "stdout",
     "output_type": "stream",
     "text": [
      "Executed: \n",
      "            MATCH (a {name: 'Kendall Jenner'}),\n",
      "                  (b {name: 'Calvin Klein'})\n",
      "      ...\n",
      "Executed: \n",
      "            MATCH (a {name: 'Zoe Sugg'}),\n",
      "                  (b {name: 'Primark'})\n",
      "            MERGE...\n"
     ]
    },
    {
     "name": "stderr",
     "output_type": "stream",
     "text": [
      " 13%|█▎        | 144/1090 [00:22<02:19,  6.80it/s]"
     ]
    },
    {
     "name": "stdout",
     "output_type": "stream",
     "text": [
      "Executed: \n",
      "            MATCH (a {name: 'Terraform'}),\n",
      "                  (b {name: 'Sun Machine'})\n",
      "            ...\n",
      "Executed: \n",
      "            MATCH (a {name: 'Jeni Miller'}),\n",
      "                  (b {name: 'Global Climate and Health...\n"
     ]
    },
    {
     "name": "stderr",
     "output_type": "stream",
     "text": [
      " 13%|█▎        | 146/1090 [00:22<02:19,  6.75it/s]"
     ]
    },
    {
     "name": "stdout",
     "output_type": "stream",
     "text": [
      "Executed: \n",
      "            MATCH (a {name: 'Sophia Amoruso'}),\n",
      "                  (b {name: 'Nasty Gal'})\n",
      "         ...\n",
      "Executed: \n",
      "            MATCH (a {name: 'Robert Downey Jr.'}),\n",
      "                  (b {name: 'OnePlus'})\n",
      "        ...\n"
     ]
    },
    {
     "name": "stderr",
     "output_type": "stream",
     "text": [
      " 14%|█▎        | 148/1090 [00:23<02:18,  6.80it/s]"
     ]
    },
    {
     "name": "stdout",
     "output_type": "stream",
     "text": [
      "Executed: \n",
      "            MATCH (a {name: 'Zendaya'}),\n",
      "                  (b {name: 'Lancome'})\n",
      "            MERGE ...\n",
      "Executed: \n",
      "            MATCH (a {name: 'Arjun Kharpal'}),\n",
      "                  (b {name: 'Beyond the Valley'})\n",
      "  ...\n"
     ]
    },
    {
     "name": "stderr",
     "output_type": "stream",
     "text": [
      " 14%|█▍        | 150/1090 [00:23<02:17,  6.85it/s]"
     ]
    },
    {
     "name": "stdout",
     "output_type": "stream",
     "text": [
      "Executed: \n",
      "            MATCH (a {name: 'Tom Chitty'}),\n",
      "                  (b {name: 'Beyond the Valley'})\n",
      "     ...\n",
      "Executed: \n",
      "            MATCH (a {name: 'Arjun Kharpal'}),\n",
      "                  (b {name: 'Snowflake'})\n",
      "          ...\n"
     ]
    },
    {
     "name": "stderr",
     "output_type": "stream",
     "text": [
      " 14%|█▍        | 152/1090 [00:23<02:31,  6.19it/s]"
     ]
    },
    {
     "name": "stdout",
     "output_type": "stream",
     "text": [
      "Executed: \n",
      "            MATCH (a {name: 'Sanjot Malhi'}),\n",
      "                  (b {name: 'Nvidia'})\n",
      "            ME...\n",
      "Executed: \n",
      "            MATCH (a {name: 'Kif Leswing'}),\n",
      "                  (b {name: 'Apple'})\n",
      "            MERG...\n"
     ]
    },
    {
     "name": "stderr",
     "output_type": "stream",
     "text": [
      " 14%|█▍        | 154/1090 [00:24<02:19,  6.71it/s]"
     ]
    },
    {
     "name": "stdout",
     "output_type": "stream",
     "text": [
      "Executed: \n",
      "            MATCH (a {name: 'Todd Haselton'}),\n",
      "                  (b {name: 'Apple'})\n",
      "            ME...\n",
      "Executed: \n",
      "            MATCH (a {name: 'Steve Kovach'}),\n",
      "                  (b {name: 'Apple'})\n",
      "            MER...\n"
     ]
    },
    {
     "name": "stderr",
     "output_type": "stream",
     "text": [
      " 14%|█▍        | 156/1090 [00:24<02:17,  6.79it/s]"
     ]
    },
    {
     "name": "stdout",
     "output_type": "stream",
     "text": [
      "Executed: \n",
      "            MATCH (a {name: 'NikkieTutorials'}),\n",
      "                  (b {name: 'Too Faced'})\n",
      "        ...\n",
      "Executed: \n",
      "            MATCH (a {name: 'Bretman Rock'}),\n",
      "                  (b {name: 'Wet n Wild'})\n",
      "          ...\n"
     ]
    },
    {
     "name": "stderr",
     "output_type": "stream",
     "text": [
      " 14%|█▍        | 158/1090 [00:24<02:21,  6.61it/s]"
     ]
    },
    {
     "name": "stdout",
     "output_type": "stream",
     "text": [
      "Executed: \n",
      "            MATCH (a {name: 'MrBeast'}),\n",
      "                  (b {name: 'Honey'})\n",
      "            MERGE (a...\n",
      "Executed: \n",
      "            MATCH (a {name: 'Serena Williams'}),\n",
      "                  (b {name: 'Wilson'})\n",
      "           ...\n"
     ]
    },
    {
     "name": "stderr",
     "output_type": "stream",
     "text": [
      " 15%|█▍        | 160/1090 [00:25<02:13,  6.94it/s]"
     ]
    },
    {
     "name": "stdout",
     "output_type": "stream",
     "text": [
      "Executed: \n",
      "            MATCH (a {name: 'Adam Pearson'}),\n",
      "                  (b {name: 'Fortunato Chocolate'})\n",
      " ...\n",
      "Executed: \n",
      "            MATCH (a {name: 'Laura Mae Martin'}),\n",
      "                  (b {name: 'Google'})\n",
      "          ...\n"
     ]
    },
    {
     "name": "stderr",
     "output_type": "stream",
     "text": [
      " 15%|█▍        | 162/1090 [00:25<02:15,  6.85it/s]"
     ]
    },
    {
     "name": "stdout",
     "output_type": "stream",
     "text": [
      "Executed: \n",
      "            MATCH (a {name: 'Jake Gyllenhaal'}),\n",
      "                  (b {name: 'The Secret Society of...\n",
      "Executed: \n",
      "            MATCH (a {name: 'Gary White'}),\n",
      "                  (b {name: 'JPMorgan Chase'})\n",
      "        ...\n"
     ]
    },
    {
     "name": "stderr",
     "output_type": "stream",
     "text": [
      " 15%|█▌        | 164/1090 [00:25<02:11,  7.03it/s]"
     ]
    },
    {
     "name": "stdout",
     "output_type": "stream",
     "text": [
      "Executed: \n",
      "            MATCH (a {name: 'Sharif Karmally'}),\n",
      "                  (b {name: 'Atlan'})\n",
      "            ...\n",
      "Executed: \n",
      "            MATCH (a {name: 'Raeah Smith'}),\n",
      "                  (b {name: 'Beyoncé'})\n",
      "            ME...\n"
     ]
    },
    {
     "name": "stderr",
     "output_type": "stream",
     "text": [
      " 15%|█▌        | 166/1090 [00:25<02:13,  6.92it/s]"
     ]
    },
    {
     "name": "stdout",
     "output_type": "stream",
     "text": [
      "Executed: \n",
      "            MATCH (a {name: 'Matt Lindner'}),\n",
      "                  (b {name: 'Taylor Swift'})\n",
      "        ...\n",
      "Executed: \n",
      "            MATCH (a {name: 'Eldest Daughter'}),\n",
      "                  (b {name: 'Little-Kid You'})\n",
      "   ...\n"
     ]
    },
    {
     "name": "stderr",
     "output_type": "stream",
     "text": [
      " 15%|█▌        | 168/1090 [00:26<02:09,  7.13it/s]"
     ]
    },
    {
     "name": "stdout",
     "output_type": "stream",
     "text": [
      "Executed: \n",
      "            MATCH (a {name: 'Laura Cathcart Robbins'}),\n",
      "                  (b {name: 'Lilah'})\n",
      "     ...\n",
      "Executed: \n",
      "            MATCH (a {name: 'Laura Cathcart Robbins'}),\n",
      "                  (b {name: 'Scott'})\n",
      "     ...\n"
     ]
    },
    {
     "name": "stderr",
     "output_type": "stream",
     "text": [
      " 16%|█▌        | 170/1090 [00:26<02:12,  6.96it/s]"
     ]
    },
    {
     "name": "stdout",
     "output_type": "stream",
     "text": [
      "Executed: \n",
      "            MATCH (a {name: 'Nikkie de Jager'}),\n",
      "                  (b {name: 'Maybelline'})\n",
      "       ...\n",
      "Executed: \n",
      "            MATCH (a {name: 'Alisha Marie'}),\n",
      "                  (b {name: 'Target'})\n",
      "            ME...\n"
     ]
    },
    {
     "name": "stderr",
     "output_type": "stream",
     "text": [
      " 16%|█▌        | 172/1090 [00:26<02:14,  6.83it/s]"
     ]
    },
    {
     "name": "stdout",
     "output_type": "stream",
     "text": [
      "Executed: \n",
      "            MATCH (a {name: 'Kaitlyn Maher'}),\n",
      "                  (b {name: 'Nickelodeon'})\n",
      "        ...\n",
      "Executed: \n",
      "            MATCH (a {name: 'Tati Westbrook'}),\n",
      "                  (b {name: 'GlamLifeGuru'})\n",
      "      ...\n"
     ]
    },
    {
     "name": "stderr",
     "output_type": "stream",
     "text": [
      " 16%|█▌        | 174/1090 [00:27<02:09,  7.06it/s]"
     ]
    },
    {
     "name": "stdout",
     "output_type": "stream",
     "text": [
      "Executed: \n",
      "            MATCH (a {name: 'Hari Kondabolu'}),\n",
      "                  (b {name: 'The Problem with Apu'}...\n",
      "Executed: \n",
      "            MATCH (a {name: 'Hari Kondabolu'}),\n",
      "                  (b {name: 'The Simpsons'})\n",
      "      ...\n"
     ]
    },
    {
     "name": "stderr",
     "output_type": "stream",
     "text": [
      " 16%|█▌        | 176/1090 [00:27<02:13,  6.86it/s]"
     ]
    },
    {
     "name": "stdout",
     "output_type": "stream",
     "text": [
      "Executed: \n",
      "            MATCH (a {name: 'Jeong Seung-ho'}),\n",
      "                  (b {name: 'Netflix'})\n",
      "           ...\n",
      "Executed: \n",
      "            MATCH (a {name: 'Jennifer Silvers'}),\n",
      "                  (b {name: 'Mobile Money'})\n",
      "    ...\n"
     ]
    },
    {
     "name": "stderr",
     "output_type": "stream",
     "text": [
      " 16%|█▋        | 178/1090 [00:27<02:09,  7.07it/s]"
     ]
    },
    {
     "name": "stdout",
     "output_type": "stream",
     "text": [
      "Executed: \n",
      "            MATCH (a {name: 'Sagaram'}),\n",
      "                  (b {name: 'HuffPost'})\n",
      "            MERGE...\n",
      "Executed: \n",
      "            MATCH (a {name: 'Kendrick Lamar'}),\n",
      "                  (b {name: 'University of Californ...\n"
     ]
    },
    {
     "name": "stderr",
     "output_type": "stream",
     "text": [
      " 17%|█▋        | 180/1090 [00:27<02:06,  7.18it/s]"
     ]
    },
    {
     "name": "stdout",
     "output_type": "stream",
     "text": [
      "Executed: \n",
      "            MATCH (a {name: 'Kaliane Bradley'}),\n",
      "                  (b {name: 'Simon & Schuster'})\n",
      " ...\n",
      "Executed: \n",
      "            MATCH (a {name: 'Andrew O’Hagan'}),\n",
      "                  (b {name: 'Faber and Faber'})\n",
      "   ...\n"
     ]
    },
    {
     "name": "stderr",
     "output_type": "stream",
     "text": [
      " 17%|█▋        | 182/1090 [00:28<02:11,  6.93it/s]"
     ]
    },
    {
     "name": "stdout",
     "output_type": "stream",
     "text": [
      "Executed: \n",
      "            MATCH (a {name: 'Percival Everett'}),\n",
      "                  (b {name: 'Random House'})\n",
      "    ...\n",
      "Executed: \n",
      "            MATCH (a {name: 'Miranda July'}),\n",
      "                  (b {name: 'Farrar, Straus and Girou...\n"
     ]
    },
    {
     "name": "stderr",
     "output_type": "stream",
     "text": [
      " 17%|█▋        | 184/1090 [00:28<02:08,  7.07it/s]"
     ]
    },
    {
     "name": "stdout",
     "output_type": "stream",
     "text": [
      "Executed: \n",
      "            MATCH (a {name: 'David Nicholls'}),\n",
      "                  (b {name: 'Penguin Random House'}...\n",
      "Executed: \n",
      "            MATCH (a {name: 'Raymond Kurzweil'}),\n",
      "                  (b {name: 'Google'})\n",
      "          ...\n"
     ]
    },
    {
     "name": "stderr",
     "output_type": "stream",
     "text": [
      " 17%|█▋        | 186/1090 [00:28<02:09,  6.98it/s]"
     ]
    },
    {
     "name": "stdout",
     "output_type": "stream",
     "text": [
      "Executed: \n",
      "            MATCH (a {name: 'Nora'}),\n",
      "                  (b {name: 'Atticus and Autumn'})\n",
      "          ...\n",
      "Executed: \n",
      "            MATCH (a {name: 'Gigi Hadid'}),\n",
      "                  (b {name: 'Reebok'})\n",
      "            MERG...\n"
     ]
    },
    {
     "name": "stderr",
     "output_type": "stream",
     "text": [
      " 17%|█▋        | 188/1090 [00:29<02:06,  7.14it/s]"
     ]
    },
    {
     "name": "stdout",
     "output_type": "stream",
     "text": [
      "Executed: \n",
      "            MATCH (a {name: 'Bretman Rock'}),\n",
      "                  (b {name: 'NARS'})\n",
      "            MERG...\n",
      "Executed: \n",
      "            MATCH (a {name: 'Shonda Rhimes'}),\n",
      "                  (b {name: 'Netflix'})\n",
      "            ...\n"
     ]
    },
    {
     "name": "stderr",
     "output_type": "stream",
     "text": [
      " 17%|█▋        | 190/1090 [00:29<02:04,  7.20it/s]"
     ]
    },
    {
     "name": "stdout",
     "output_type": "stream",
     "text": [
      "Executed: \n",
      "            MATCH (a {name: 'Yunchan Lim'}),\n",
      "                  (b {name: 'Chopin: Études Op 10 & Op...\n",
      "Executed: \n",
      "            MATCH (a {name: 'Simon Rattle'}),\n",
      "                  (b {name: 'Mahler: Symphony No 6'})...\n"
     ]
    },
    {
     "name": "stderr",
     "output_type": "stream",
     "text": [
      " 18%|█▊        | 192/1090 [00:29<02:15,  6.65it/s]"
     ]
    },
    {
     "name": "stdout",
     "output_type": "stream",
     "text": [
      "Executed: \n",
      "            MATCH (a {name: 'Mark Elder'}),\n",
      "                  (b {name: 'Elgar: Symphonies Nos 1 & ...\n",
      "Executed: \n",
      "            MATCH (a {name: 'Louise Bertin'}),\n",
      "                  (b {name: 'Fausto'})\n",
      "            M...\n"
     ]
    },
    {
     "name": "stderr",
     "output_type": "stream",
     "text": [
      " 18%|█▊        | 194/1090 [00:29<02:12,  6.74it/s]"
     ]
    },
    {
     "name": "stdout",
     "output_type": "stream",
     "text": [
      "Executed: \n",
      "            MATCH (a {name: 'Leonidas Kavakos'}),\n",
      "                  (b {name: 'Beethoven for Three'...\n",
      "Executed: \n",
      "            MATCH (a {name: 'Yo-Yo Ma'}),\n",
      "                  (b {name: 'Beethoven for Three'})\n",
      "     ...\n"
     ]
    },
    {
     "name": "stderr",
     "output_type": "stream",
     "text": [
      " 18%|█▊        | 196/1090 [00:30<02:11,  6.78it/s]"
     ]
    },
    {
     "name": "stdout",
     "output_type": "stream",
     "text": [
      "Executed: \n",
      "            MATCH (a {name: 'Emanuel Ax'}),\n",
      "                  (b {name: 'Beethoven for Three'})\n",
      "   ...\n",
      "Executed: \n",
      "            MATCH (a {name: 'True Detective: Night Country'}),\n",
      "                  (b {name: 'Sky Atl...\n"
     ]
    },
    {
     "name": "stderr",
     "output_type": "stream",
     "text": [
      " 18%|█▊        | 198/1090 [00:30<02:07,  7.02it/s]"
     ]
    },
    {
     "name": "stdout",
     "output_type": "stream",
     "text": [
      "Executed: \n",
      "            MATCH (a {name: 'Ukraine: Enemy in the Woods'}),\n",
      "                  (b {name: 'BBC Two/i...\n",
      "Executed: \n",
      "            MATCH (a {name: 'Tracey Emin'}),\n",
      "                  (b {name: 'Xavier Hufkens'})\n",
      "       ...\n"
     ]
    },
    {
     "name": "stderr",
     "output_type": "stream",
     "text": [
      "\r 18%|█▊        | 199/1090 [00:30<02:05,  7.07it/s]"
     ]
    },
    {
     "name": "stdout",
     "output_type": "stream",
     "text": [
      "Executed: \n",
      "            MATCH (a {name: 'Brooke Baldwin'}),\n",
      "                  (b {name: 'CNN'})\n",
      "            MER...\n"
     ]
    },
    {
     "name": "stderr",
     "output_type": "stream",
     "text": [
      " 18%|█▊        | 201/1090 [00:31<02:52,  5.16it/s]"
     ]
    },
    {
     "name": "stdout",
     "output_type": "stream",
     "text": [
      "Executed: \n",
      "            MATCH (a {name: 'Bretman Rock'}),\n",
      "                  (b {name: 'Wet n Wild'})\n",
      "          ...\n",
      "Executed: \n",
      "            MATCH (a {name: 'Facebook'}),\n",
      "                  (b {name: 'Instagram'})\n",
      "            MER...\n"
     ]
    },
    {
     "name": "stderr",
     "output_type": "stream",
     "text": [
      " 19%|█▊        | 203/1090 [00:31<02:27,  6.02it/s]"
     ]
    },
    {
     "name": "stdout",
     "output_type": "stream",
     "text": [
      "Executed: \n",
      "            MATCH (a {name: 'Facebook'}),\n",
      "                  (b {name: 'WhatsApp'})\n",
      "            MERG...\n",
      "Executed: \n",
      "            MATCH (a {name: 'William Shakespeare'}),\n",
      "                  (b {name: 'The Globe Theatre...\n"
     ]
    },
    {
     "name": "stderr",
     "output_type": "stream",
     "text": [
      " 19%|█▉        | 205/1090 [00:31<02:22,  6.21it/s]"
     ]
    },
    {
     "name": "stdout",
     "output_type": "stream",
     "text": [
      "Executed: \n",
      "            MATCH (a {name: 'John Donne'}),\n",
      "                  (b {name: 'Canon Press'})\n",
      "           ...\n",
      "Executed: \n",
      "            MATCH (a {name: 'Jane Doe'}),\n",
      "                  (b {name: 'Mindful Moments Counseling'}...\n"
     ]
    },
    {
     "name": "stderr",
     "output_type": "stream",
     "text": [
      " 19%|█▉        | 207/1090 [00:32<02:11,  6.71it/s]"
     ]
    },
    {
     "name": "stdout",
     "output_type": "stream",
     "text": [
      "Executed: \n",
      "            MATCH (a {name: 'Zev'}),\n",
      "                  (b {name: 'AI'})\n",
      "            MERGE (a)-[:end...\n",
      "Executed: \n",
      "            MATCH (a {name: 'Chapman'}),\n",
      "                  (b {name: 'BBC Studios'})\n",
      "            ME...\n"
     ]
    },
    {
     "name": "stderr",
     "output_type": "stream",
     "text": [
      " 19%|█▉        | 209/1090 [00:32<02:10,  6.74it/s]"
     ]
    },
    {
     "name": "stdout",
     "output_type": "stream",
     "text": [
      "Executed: \n",
      "            MATCH (a {name: 'Brown'}),\n",
      "                  (b {name: 'BBC Studios'})\n",
      "            MERG...\n",
      "Executed: \n",
      "            MATCH (a {name: 'Matt Craig'}),\n",
      "                  (b {name: 'Forbes'})\n",
      "            MERG...\n"
     ]
    },
    {
     "name": "stderr",
     "output_type": "stream",
     "text": [
      " 19%|█▉        | 211/1090 [00:32<02:08,  6.86it/s]"
     ]
    },
    {
     "name": "stdout",
     "output_type": "stream",
     "text": [
      "Executed: \n",
      "            MATCH (a {name: 'Rivian'}),\n",
      "                  (b {name: 'Volkswagen'})\n",
      "            MERG...\n",
      "Executed: \n",
      "            MATCH (a {name: 'Barnett'}),\n",
      "                  (b {name: 'Expatsi'})\n",
      "            MERGE ...\n"
     ]
    },
    {
     "name": "stderr",
     "output_type": "stream",
     "text": [
      " 20%|█▉        | 213/1090 [00:32<02:03,  7.07it/s]"
     ]
    },
    {
     "name": "stdout",
     "output_type": "stream",
     "text": [
      "Executed: \n",
      "            MATCH (a {name: 'Tim Oldman'}),\n",
      "                  (b {name: 'Leesman'})\n",
      "            MER...\n",
      "Executed: \n",
      "            MATCH (a {name: 'Albion Ware'}),\n",
      "                  (b {name: 'JPMorgan Chase & Co.'})\n",
      " ...\n"
     ]
    },
    {
     "name": "stderr",
     "output_type": "stream",
     "text": [
      " 20%|█▉        | 215/1090 [00:33<02:07,  6.87it/s]"
     ]
    },
    {
     "name": "stdout",
     "output_type": "stream",
     "text": [
      "Executed: \n",
      "            MATCH (a {name: 'Giles Giles'}),\n",
      "                  (b {name: 'JP Morgan Asset Managemen...\n",
      "Executed: \n",
      "            MATCH (a {name: 'Anna Roberts'}),\n",
      "                  (b {name: 'iov42'})\n",
      "            MER...\n"
     ]
    },
    {
     "name": "stderr",
     "output_type": "stream",
     "text": [
      " 20%|█▉        | 217/1090 [00:33<02:06,  6.91it/s]"
     ]
    },
    {
     "name": "stdout",
     "output_type": "stream",
     "text": [
      "Executed: \n",
      "            MATCH (a {name: 'Casper Herzberg'}),\n",
      "                  (b {name: 'Aveva'})\n",
      "            ...\n",
      "Executed: \n",
      "            MATCH (a {name: 'Dr. Taylor'}),\n",
      "                  (b {name: 'NYU Langone Health'})\n",
      "    ...\n"
     ]
    },
    {
     "name": "stderr",
     "output_type": "stream",
     "text": [
      " 20%|██        | 219/1090 [00:33<02:03,  7.06it/s]"
     ]
    },
    {
     "name": "stdout",
     "output_type": "stream",
     "text": [
      "Executed: \n",
      "            MATCH (a {name: 'Dr. Berumen'}),\n",
      "                  (b {name: 'NYU Langone Health'})\n",
      "   ...\n",
      "Executed: \n",
      "            MATCH (a {name: 'Dr. Freitas'}),\n",
      "                  (b {name: 'NYU Langone Health'})\n",
      "   ...\n"
     ]
    },
    {
     "name": "stderr",
     "output_type": "stream",
     "text": [
      " 20%|██        | 221/1090 [00:34<02:01,  7.16it/s]"
     ]
    },
    {
     "name": "stdout",
     "output_type": "stream",
     "text": [
      "Executed: \n",
      "            MATCH (a {name: 'Jimmie Dale McMurtry'}),\n",
      "                  (b {name: 'Don Dixon'})\n",
      "   ...\n",
      "Executed: \n",
      "            MATCH (a {name: 'David Harris'}),\n",
      "                  (b {name: 'Coldwell Banker Warburg'...\n"
     ]
    },
    {
     "name": "stderr",
     "output_type": "stream",
     "text": [
      " 20%|██        | 223/1090 [00:34<01:59,  7.26it/s]"
     ]
    },
    {
     "name": "stdout",
     "output_type": "stream",
     "text": [
      "Executed: \n",
      "            MATCH (a {name: 'India Headley'}),\n",
      "                  (b {name: 'EXP Realty'})\n",
      "         ...\n",
      "Executed: \n",
      "            MATCH (a {name: 'Marko Pejković'}),\n",
      "                  (b {name: 'Rimac Automobili'})\n",
      "  ...\n"
     ]
    },
    {
     "name": "stderr",
     "output_type": "stream",
     "text": [
      " 21%|██        | 225/1090 [00:34<01:58,  7.27it/s]"
     ]
    },
    {
     "name": "stdout",
     "output_type": "stream",
     "text": [
      "Executed: \n",
      "            MATCH (a {name: 'Nihar Chhaya'}),\n",
      "                  (b {name: 'global companies'})\n",
      "    ...\n",
      "Executed: \n",
      "            MATCH (a {name: 'Forbes Coaches Council'}),\n",
      "                  (b {name: 'Forbes'})\n",
      "    ...\n"
     ]
    },
    {
     "name": "stderr",
     "output_type": "stream",
     "text": [
      " 21%|██        | 227/1090 [00:34<01:58,  7.27it/s]"
     ]
    },
    {
     "name": "stdout",
     "output_type": "stream",
     "text": [
      "Executed: \n",
      "            MATCH (a {name: 'TikTok user'}),\n",
      "                  (b {name: 'Walmart'})\n",
      "            ME...\n",
      "Executed: \n",
      "            MATCH (a {name: 'TikTok user'}),\n",
      "                  (b {name: 'Amazon'})\n",
      "            MER...\n"
     ]
    },
    {
     "name": "stderr",
     "output_type": "stream",
     "text": [
      " 21%|██        | 229/1090 [00:35<02:04,  6.94it/s]"
     ]
    },
    {
     "name": "stdout",
     "output_type": "stream",
     "text": [
      "Executed: \n",
      "            MATCH (a {name: 'Planned Parenthood'}),\n",
      "                  (b {name: 'SBA Pro-Life Ameri...\n",
      "Executed: \n",
      "            MATCH (a {name: 'Emma Smith'}),\n",
      "                  (b {name: 'MAC Cosmetics'})\n",
      "         ...\n"
     ]
    },
    {
     "name": "stderr",
     "output_type": "stream",
     "text": [
      " 21%|██        | 231/1090 [00:35<02:01,  7.07it/s]"
     ]
    },
    {
     "name": "stdout",
     "output_type": "stream",
     "text": [
      "Executed: \n",
      "            MATCH (a {name: 'Jeff Bezos'}),\n",
      "                  (b {name: 'Perplexity'})\n",
      "            ...\n",
      "Executed: \n",
      "            MATCH (a {name: 'Jeff Dean'}),\n",
      "                  (b {name: 'Perplexity'})\n",
      "            M...\n"
     ]
    },
    {
     "name": "stderr",
     "output_type": "stream",
     "text": [
      " 21%|██▏       | 233/1090 [00:35<01:58,  7.21it/s]"
     ]
    },
    {
     "name": "stdout",
     "output_type": "stream",
     "text": [
      "Executed: \n",
      "            MATCH (a {name: 'Susan Wojcicki'}),\n",
      "                  (b {name: 'Perplexity'})\n",
      "        ...\n",
      "Executed: \n",
      "            MATCH (a {name: 'Andrej Karpathy'}),\n",
      "                  (b {name: 'Perplexity'})\n",
      "       ...\n"
     ]
    },
    {
     "name": "stderr",
     "output_type": "stream",
     "text": [
      " 22%|██▏       | 235/1090 [00:35<01:57,  7.27it/s]"
     ]
    },
    {
     "name": "stdout",
     "output_type": "stream",
     "text": [
      "Executed: \n",
      "            MATCH (a {name: 'Yann LeCun'}),\n",
      "                  (b {name: 'Perplexity'})\n",
      "            ...\n",
      "Executed: \n",
      "            MATCH (a {name: 'No Man\\'s Sky'}),\n",
      "                  (b {name: 'Iron Gate Studio'})\n",
      "   ...\n"
     ]
    },
    {
     "name": "stderr",
     "output_type": "stream",
     "text": [
      " 22%|██▏       | 237/1090 [00:36<01:56,  7.31it/s]"
     ]
    },
    {
     "name": "stdout",
     "output_type": "stream",
     "text": [
      "Executed: \n",
      "            MATCH (a {name: 'Valheim'}),\n",
      "                  (b {name: 'Iron Gate Studio'})\n",
      "         ...\n",
      "Executed: \n",
      "            MATCH (a {name: 'Minecraft'}),\n",
      "                  (b {name: 'Mojang Studios'})\n",
      "         ...\n"
     ]
    },
    {
     "name": "stderr",
     "output_type": "stream",
     "text": [
      " 22%|██▏       | 239/1090 [00:36<02:05,  6.77it/s]"
     ]
    },
    {
     "name": "stdout",
     "output_type": "stream",
     "text": [
      "Executed: \n",
      "            MATCH (a {name: 'Hussain'}),\n",
      "                  (b {name: 'Research Participants'})\n",
      "    ...\n",
      "Executed: \n",
      "            MATCH (a {name: 'Fullstack Academy'}),\n",
      "                  (b {name: 'Women and nonbinary...\n"
     ]
    },
    {
     "name": "stderr",
     "output_type": "stream",
     "text": [
      " 22%|██▏       | 241/1090 [00:36<02:05,  6.78it/s]"
     ]
    },
    {
     "name": "stdout",
     "output_type": "stream",
     "text": [
      "Executed: \n",
      "            MATCH (a {name: 'Galvanize'}),\n",
      "                  (b {name: 'Students from underrepresen...\n",
      "Executed: \n",
      "            MATCH (a {name: 'Lars von Trier'}),\n",
      "                  (b {name: 'Melancholia'})\n",
      "       ...\n"
     ]
    },
    {
     "name": "stderr",
     "output_type": "stream",
     "text": [
      " 22%|██▏       | 243/1090 [00:37<02:08,  6.61it/s]"
     ]
    },
    {
     "name": "stdout",
     "output_type": "stream",
     "text": [
      "Executed: \n",
      "            MATCH (a {name: 'Wes Craven'}),\n",
      "                  (b {name: 'A Nightmare on Elm Street'...\n",
      "Executed: \n",
      "            MATCH (a {name: 'Saad Khan'}),\n",
      "                  (b {name: 'General Assembly'})\n",
      "       ...\n"
     ]
    },
    {
     "name": "stderr",
     "output_type": "stream",
     "text": [
      " 22%|██▏       | 245/1090 [00:37<02:04,  6.77it/s]"
     ]
    },
    {
     "name": "stdout",
     "output_type": "stream",
     "text": [
      "Executed: \n",
      "            MATCH (a {name: 'Sha\\'Carri Richardson'}),\n",
      "                  (b {name: 'Marvel'})\n",
      "     ...\n",
      "Executed: \n",
      "            MATCH (a {name: 'Jung Ryeo-won'}),\n",
      "                  (b {name: 'The Restless Age'})\n",
      "   ...\n"
     ]
    },
    {
     "name": "stderr",
     "output_type": "stream",
     "text": [
      " 23%|██▎       | 247/1090 [00:37<01:59,  7.06it/s]"
     ]
    },
    {
     "name": "stdout",
     "output_type": "stream",
     "text": [
      "Executed: \n",
      "            MATCH (a {name: 'Vernon J. Richardson, Ph.D.'}),\n",
      "                  (b {name: 'American ...\n",
      "Executed: \n",
      "            MATCH (a {name: 'Maya Angelou'}),\n",
      "                  (b {name: 'HarperCollins'})\n",
      "       ...\n"
     ]
    },
    {
     "name": "stderr",
     "output_type": "stream",
     "text": [
      " 23%|██▎       | 249/1090 [00:38<01:58,  7.09it/s]"
     ]
    },
    {
     "name": "stdout",
     "output_type": "stream",
     "text": [
      "Executed: \n",
      "            MATCH (a {name: 'Shel Silverstein'}),\n",
      "                  (b {name: 'HarperCollins'})\n",
      "   ...\n",
      "Executed: \n",
      "            MATCH (a {name: 'Allen Ginsberg'}),\n",
      "                  (b {name: 'HarperCollins'})\n",
      "     ...\n"
     ]
    },
    {
     "name": "stderr",
     "output_type": "stream",
     "text": [
      " 23%|██▎       | 251/1090 [00:38<01:58,  7.08it/s]"
     ]
    },
    {
     "name": "stdout",
     "output_type": "stream",
     "text": [
      "Executed: \n",
      "            MATCH (a {name: 'Mary Oliver'}),\n",
      "                  (b {name: 'Penguin Random House'})\n",
      " ...\n",
      "Executed: \n",
      "            MATCH (a {name: 'Robert Frost'}),\n",
      "                  (b {name: 'Penguin Random House'})\n",
      "...\n"
     ]
    },
    {
     "name": "stderr",
     "output_type": "stream",
     "text": [
      " 23%|██▎       | 253/1090 [00:38<02:02,  6.82it/s]"
     ]
    },
    {
     "name": "stdout",
     "output_type": "stream",
     "text": [
      "Executed: \n",
      "            MATCH (a {name: 'Langston Hughes'}),\n",
      "                  (b {name: 'Penguin Random House'...\n",
      "Executed: \n",
      "            MATCH (a {name: 'Rimac'}),\n",
      "                  (b {name: 'Bugatti'})\n",
      "            MERGE (a...\n"
     ]
    },
    {
     "name": "stderr",
     "output_type": "stream",
     "text": [
      " 23%|██▎       | 255/1090 [00:38<02:03,  6.77it/s]"
     ]
    },
    {
     "name": "stdout",
     "output_type": "stream",
     "text": [
      "Executed: \n",
      "            MATCH (a {name: 'Tana Mongeau'}),\n",
      "                  (b {name: 'Famous Birthdays'})\n",
      "    ...\n",
      "Executed: \n",
      "            MATCH (a {name: 'Emma Wang'}),\n",
      "                  (b {name: 'SHEIN'})\n",
      "            MERGE ...\n"
     ]
    },
    {
     "name": "stderr",
     "output_type": "stream",
     "text": [
      " 24%|██▎       | 257/1090 [00:39<01:58,  7.00it/s]"
     ]
    },
    {
     "name": "stdout",
     "output_type": "stream",
     "text": [
      "Executed: \n",
      "            MATCH (a {name: 'Liza Koshy'}),\n",
      "                  (b {name: 'Snapchat'})\n",
      "            ME...\n",
      "Executed: \n",
      "            MATCH (a {name: 'Influencer Johnson'}),\n",
      "                  (b {name: 'Tech Giant X'})\n",
      "  ...\n"
     ]
    },
    {
     "name": "stderr",
     "output_type": "stream",
     "text": [
      " 24%|██▍       | 259/1090 [00:39<02:04,  6.69it/s]"
     ]
    },
    {
     "name": "stdout",
     "output_type": "stream",
     "text": [
      "Executed: \n",
      "            MATCH (a {name: 'Chef Lisa'}),\n",
      "                  (b {name: 'Gourmet Food Company Y'})\n",
      " ...\n",
      "Executed: \n",
      "            MATCH (a {name: 'Imperial'}),\n",
      "                  (b {name: 'Zara'})\n",
      "            MERGE (a...\n"
     ]
    },
    {
     "name": "stderr",
     "output_type": "stream",
     "text": [
      " 24%|██▍       | 261/1090 [00:39<01:58,  6.98it/s]"
     ]
    },
    {
     "name": "stdout",
     "output_type": "stream",
     "text": [
      "Executed: \n",
      "            MATCH (a {name: 'Imperial'}),\n",
      "                  (b {name: 'Shein'})\n",
      "            MERGE (...\n",
      "Executed: \n",
      "            MATCH (a {name: 'Imperial'}),\n",
      "                  (b {name: 'Temu'})\n",
      "            MERGE (a...\n"
     ]
    },
    {
     "name": "stderr",
     "output_type": "stream",
     "text": [
      " 24%|██▍       | 263/1090 [00:40<01:59,  6.90it/s]"
     ]
    },
    {
     "name": "stdout",
     "output_type": "stream",
     "text": [
      "Executed: \n",
      "            MATCH (a {name: 'Imperial'}),\n",
      "                  (b {name: 'Walmart'})\n",
      "            MERGE...\n",
      "Executed: \n",
      "            MATCH (a {name: 'Imperial'}),\n",
      "                  (b {name: 'Amazon'})\n",
      "            MERGE ...\n"
     ]
    },
    {
     "name": "stderr",
     "output_type": "stream",
     "text": [
      " 24%|██▍       | 265/1090 [00:40<02:01,  6.78it/s]"
     ]
    },
    {
     "name": "stdout",
     "output_type": "stream",
     "text": [
      "Executed: \n",
      "            MATCH (a {name: 'Imperial'}),\n",
      "                  (b {name: 'Ball'})\n",
      "            MERGE (a...\n",
      "Executed: \n",
      "            MATCH (a {name: 'Imperial'}),\n",
      "                  (b {name: 'Pepsi'})\n",
      "            MERGE (...\n"
     ]
    },
    {
     "name": "stderr",
     "output_type": "stream",
     "text": [
      " 24%|██▍       | 267/1090 [00:40<02:01,  6.76it/s]"
     ]
    },
    {
     "name": "stdout",
     "output_type": "stream",
     "text": [
      "Executed: \n",
      "            MATCH (a {name: 'Imperial'}),\n",
      "                  (b {name: 'Duke Power'})\n",
      "            ME...\n",
      "Executed: \n",
      "            MATCH (a {name: 'Imperial'}),\n",
      "                  (b {name: 'General Motors'})\n",
      "          ...\n"
     ]
    },
    {
     "name": "stderr",
     "output_type": "stream",
     "text": [
      " 25%|██▍       | 269/1090 [00:40<02:05,  6.54it/s]"
     ]
    },
    {
     "name": "stdout",
     "output_type": "stream",
     "text": [
      "Executed: \n",
      "            MATCH (a {name: 'Imperial'}),\n",
      "                  (b {name: 'Philips Morris International...\n",
      "Executed: \n",
      "            MATCH (a {name: 'Jenna Marbles'}),\n",
      "                  (b {name: 'PetSmart'})\n",
      "           ...\n"
     ]
    },
    {
     "name": "stderr",
     "output_type": "stream",
     "text": [
      " 25%|██▍       | 271/1090 [00:41<02:25,  5.62it/s]"
     ]
    },
    {
     "name": "stdout",
     "output_type": "stream",
     "text": [
      "Executed: \n",
      "            MATCH (a {name: 'Gordon Ramsay'}),\n",
      "                  (b {name: 'MasterClass'})\n",
      "        ...\n",
      "Executed: \n",
      "            MATCH (a {name: 'Katie Sturino'}),\n",
      "                  (b {name: 'SuperSize'})\n",
      "          ...\n"
     ]
    },
    {
     "name": "stderr",
     "output_type": "stream",
     "text": [
      " 25%|██▌       | 273/1090 [00:41<02:12,  6.18it/s]"
     ]
    },
    {
     "name": "stdout",
     "output_type": "stream",
     "text": [
      "Executed: \n",
      "            MATCH (a {name: 'Shane Dawson'}),\n",
      "                  (b {name: 'Burger King'})\n",
      "         ...\n",
      "Executed: \n",
      "            MATCH (a {name: 'Angela Williams'}),\n",
      "                  (b {name: 'United Way Worldwide'...\n"
     ]
    },
    {
     "name": "stderr",
     "output_type": "stream",
     "text": [
      " 25%|██▌       | 275/1090 [00:41<02:01,  6.70it/s]"
     ]
    },
    {
     "name": "stdout",
     "output_type": "stream",
     "text": [
      "Executed: \n",
      "            MATCH (a {name: 'Parker'}),\n",
      "                  (b {name: 'City'})\n",
      "            MERGE (a)-...\n",
      "Executed: \n",
      "            MATCH (a {name: 'Parker'}),\n",
      "                  (b {name: 'Courts'})\n",
      "            MERGE (a...\n"
     ]
    },
    {
     "name": "stderr",
     "output_type": "stream",
     "text": [
      " 25%|██▌       | 277/1090 [00:42<01:56,  6.99it/s]"
     ]
    },
    {
     "name": "stdout",
     "output_type": "stream",
     "text": [
      "Executed: \n",
      "            MATCH (a {name: 'Timothy Mellon'}),\n",
      "                  (b {name: 'MAGA Inc.'})\n",
      "         ...\n",
      "Executed: \n",
      "            MATCH (a {name: 'Bernie Marcus'}),\n",
      "                  (b {name: 'MAGA Inc.'})\n",
      "          ...\n"
     ]
    },
    {
     "name": "stderr",
     "output_type": "stream",
     "text": [
      " 26%|██▌       | 279/1090 [00:42<02:02,  6.61it/s]"
     ]
    },
    {
     "name": "stdout",
     "output_type": "stream",
     "text": [
      "Executed: \n",
      "            MATCH (a {name: 'Scottie Scheffler'}),\n",
      "                  (b {name: 'U.S. Open'})\n",
      "      ...\n",
      "Executed: \n",
      "            MATCH (a {name: 'Changpeng Zhao'}),\n",
      "                  (b {name: 'Binance'})\n",
      "           ...\n"
     ]
    },
    {
     "name": "stderr",
     "output_type": "stream",
     "text": [
      " 26%|██▌       | 281/1090 [00:42<01:59,  6.76it/s]"
     ]
    },
    {
     "name": "stdout",
     "output_type": "stream",
     "text": [
      "Executed: \n",
      "            MATCH (a {name: 'Dylan Mulvaney'}),\n",
      "                  (b {name: 'Bud Light'})\n",
      "         ...\n",
      "Executed: \n",
      "            MATCH (a {name: 'Ali Wong'}),\n",
      "                  (b {name: 'Netflix'})\n",
      "            MERGE...\n"
     ]
    },
    {
     "name": "stderr",
     "output_type": "stream",
     "text": [
      " 26%|██▌       | 283/1090 [00:43<01:57,  6.85it/s]"
     ]
    },
    {
     "name": "stdout",
     "output_type": "stream",
     "text": [
      "Executed: \n",
      "            MATCH (a {name: 'Bobby Berk'}),\n",
      "                  (b {name: 'QVC'})\n",
      "            MERGE (...\n",
      "Executed: \n",
      "            MATCH (a {name: 'Joey Chestnut'}),\n",
      "                  (b {name: 'Impossible Foods'})\n",
      "   ...\n"
     ]
    },
    {
     "name": "stderr",
     "output_type": "stream",
     "text": [
      " 26%|██▌       | 285/1090 [00:43<01:56,  6.89it/s]"
     ]
    },
    {
     "name": "stdout",
     "output_type": "stream",
     "text": [
      "Executed: \n",
      "            MATCH (a {name: 'John Doe'}),\n",
      "                  (b {name: 'Tech Innovators Inc.'})\n",
      "    ...\n",
      "Executed: \n",
      "            MATCH (a {name: 'Elon Musk'}),\n",
      "                  (b {name: 'Tesla'})\n",
      "            MERGE ...\n"
     ]
    },
    {
     "name": "stderr",
     "output_type": "stream",
     "text": [
      " 26%|██▋       | 287/1090 [00:43<02:01,  6.62it/s]"
     ]
    },
    {
     "name": "stdout",
     "output_type": "stream",
     "text": [
      "Executed: \n",
      "            MATCH (a {name: 'Elon Musk'}),\n",
      "                  (b {name: 'X and xAi'})\n",
      "            ME...\n",
      "Executed: \n",
      "            MATCH (a {name: 'influencer_name'}),\n",
      "                  (b {name: 'brand_name'})\n",
      "       ...\n"
     ]
    },
    {
     "name": "stderr",
     "output_type": "stream",
     "text": [
      " 27%|██▋       | 289/1090 [00:44<01:55,  6.91it/s]"
     ]
    },
    {
     "name": "stdout",
     "output_type": "stream",
     "text": [
      "Executed: \n",
      "            MATCH (a {name: 'Mark Mothersbaugh'}),\n",
      "                  (b {name: 'Human Highway'})\n",
      "  ...\n",
      "Executed: \n",
      "            MATCH (a {name: 'Clark'}),\n",
      "                  (b {name: 'Anthropic'})\n",
      "            MERGE ...\n"
     ]
    },
    {
     "name": "stderr",
     "output_type": "stream",
     "text": [
      " 27%|██▋       | 291/1090 [00:44<02:00,  6.61it/s]"
     ]
    },
    {
     "name": "stdout",
     "output_type": "stream",
     "text": [
      "Executed: \n",
      "            MATCH (a {name: 'Hoffman'}),\n",
      "                  (b {name: 'Midas Lister'})\n",
      "            M...\n",
      "Executed: \n",
      "            MATCH (a {name: 'Kick'}),\n",
      "                  (b {name: 'Sazerac'})\n",
      "            MERGE (a)...\n"
     ]
    },
    {
     "name": "stderr",
     "output_type": "stream",
     "text": [
      " 27%|██▋       | 293/1090 [00:44<01:55,  6.92it/s]"
     ]
    },
    {
     "name": "stdout",
     "output_type": "stream",
     "text": [
      "Executed: \n",
      "            MATCH (a {name: 'Kaitlyn Dever'}),\n",
      "                  (b {name: 'Calvin Klein'})\n",
      "       ...\n",
      "Executed: \n",
      "            MATCH (a {name: 'Bruno Major'}),\n",
      "                  (b {name: 'Independent Record Label'...\n"
     ]
    },
    {
     "name": "stderr",
     "output_type": "stream",
     "text": [
      " 27%|██▋       | 295/1090 [00:44<01:58,  6.68it/s]"
     ]
    },
    {
     "name": "stdout",
     "output_type": "stream",
     "text": [
      "Executed: \n",
      "            MATCH (a {name: 'Arnold Schwarzenegger'}),\n",
      "                  (b {name: 'The Arnie Worko...\n",
      "Executed: \n",
      "            MATCH (a {name: 'Arnold Schwarzenegger'}),\n",
      "                  (b {name: 'WWE'})\n",
      "        ...\n"
     ]
    },
    {
     "name": "stderr",
     "output_type": "stream",
     "text": [
      " 27%|██▋       | 297/1090 [00:45<01:57,  6.73it/s]"
     ]
    },
    {
     "name": "stdout",
     "output_type": "stream",
     "text": [
      "Executed: \n",
      "            MATCH (a {name: 'Mehdi Hosseini (SIG)'}),\n",
      "                  (b {name: 'TSMC'})\n",
      "        ...\n",
      "Executed: \n",
      "            MATCH (a {name: 'Wendell Huang (CFO, TSMC)'}),\n",
      "                  (b {name: 'TSMC'})\n",
      "   ...\n"
     ]
    },
    {
     "name": "stderr",
     "output_type": "stream",
     "text": [
      " 27%|██▋       | 299/1090 [00:45<01:53,  7.00it/s]"
     ]
    },
    {
     "name": "stdout",
     "output_type": "stream",
     "text": [
      "Executed: \n",
      "            MATCH (a {name: 'Forbes Technology Council'}),\n",
      "                  (b {name: 'Apple'})\n",
      "  ...\n",
      "Executed: \n",
      "            MATCH (a {name: 'Forbes Technology Council'}),\n",
      "                  (b {name: 'Amazon'})\n",
      " ...\n"
     ]
    },
    {
     "name": "stderr",
     "output_type": "stream",
     "text": [
      " 28%|██▊       | 301/1090 [00:45<01:49,  7.17it/s]"
     ]
    },
    {
     "name": "stdout",
     "output_type": "stream",
     "text": [
      "Executed: \n",
      "            MATCH (a {name: 'Forbes Technology Council'}),\n",
      "                  (b {name: 'Tesla'})\n",
      "  ...\n",
      "Executed: \n",
      "            MATCH (a {name: 'Forbes Technology Council'}),\n",
      "                  (b {name: 'Google'})\n",
      " ...\n"
     ]
    },
    {
     "name": "stderr",
     "output_type": "stream",
     "text": [
      " 28%|██▊       | 303/1090 [00:46<01:52,  6.99it/s]"
     ]
    },
    {
     "name": "stdout",
     "output_type": "stream",
     "text": [
      "Executed: \n",
      "            MATCH (a {name: 'Arnold Schwarzenegger'}),\n",
      "                  (b {name: 'State Farm Insu...\n",
      "Executed: \n",
      "            MATCH (a {name: 'Arnold Schwarzenegger'}),\n",
      "                  (b {name: 'FUBAR'})\n",
      "      ...\n"
     ]
    },
    {
     "name": "stderr",
     "output_type": "stream",
     "text": [
      " 28%|██▊       | 305/1090 [00:46<01:49,  7.14it/s]"
     ]
    },
    {
     "name": "stdout",
     "output_type": "stream",
     "text": [
      "Executed: \n",
      "            MATCH (a {name: 'Arnold Schwarzenegger'}),\n",
      "                  (b {name: 'Takata Corporat...\n",
      "Executed: \n",
      "            MATCH (a {name: 'Congressional leaders'}),\n",
      "                  (b {name: 'Pass-through'})...\n"
     ]
    },
    {
     "name": "stderr",
     "output_type": "stream",
     "text": [
      " 28%|██▊       | 307/1090 [00:46<01:50,  7.06it/s]"
     ]
    },
    {
     "name": "stdout",
     "output_type": "stream",
     "text": [
      "Executed: \n",
      "            MATCH (a {name: 'Jolena Sterner'}),\n",
      "                  (b {name: 'Jeeter'})\n",
      "            ...\n",
      "Executed: \n",
      "            MATCH (a {name: 'Christy Bieber'}),\n",
      "                  (b {name: 'Forbes Advisor'})\n",
      "    ...\n"
     ]
    },
    {
     "name": "stderr",
     "output_type": "stream",
     "text": [
      " 28%|██▊       | 309/1090 [00:46<01:53,  6.85it/s]"
     ]
    },
    {
     "name": "stdout",
     "output_type": "stream",
     "text": [
      "Executed: \n",
      "            MATCH (a {name: 'Maneet Chauhan'}),\n",
      "                  (b {name: 'Disney Springs Orlando...\n",
      "Executed: \n",
      "            MATCH (a {name: 'Octavia E. Butler'}),\n",
      "                  (b {name: 'Hachette Book Group...\n"
     ]
    },
    {
     "name": "stderr",
     "output_type": "stream",
     "text": [
      " 29%|██▊       | 311/1090 [00:47<01:54,  6.83it/s]"
     ]
    },
    {
     "name": "stdout",
     "output_type": "stream",
     "text": [
      "Executed: \n",
      "            MATCH (a {name: 'Margaret Atwood'}),\n",
      "                  (b {name: 'HarperCollins'})\n",
      "    ...\n",
      "Executed: \n",
      "            MATCH (a {name: 'Artist'}),\n",
      "                  (b {name: 'BMW'})\n",
      "            MERGE (a)-[...\n"
     ]
    },
    {
     "name": "stderr",
     "output_type": "stream",
     "text": [
      " 29%|██▊       | 313/1090 [00:47<01:53,  6.87it/s]"
     ]
    },
    {
     "name": "stdout",
     "output_type": "stream",
     "text": [
      "Executed: \n",
      "            MATCH (a {name: 'Jason Hollands'}),\n",
      "                  (b {name: 'Bestinvest'})\n",
      "        ...\n",
      "Executed: \n",
      "            MATCH (a {name: 'Matt Britzman'}),\n",
      "                  (b {name: 'Hargreaves Lansdown'})\n",
      "...\n"
     ]
    },
    {
     "name": "stderr",
     "output_type": "stream",
     "text": [
      " 29%|██▉       | 315/1090 [00:47<01:49,  7.05it/s]"
     ]
    },
    {
     "name": "stdout",
     "output_type": "stream",
     "text": [
      "Executed: \n",
      "            MATCH (a {name: 'Robert Springarn'}),\n",
      "                  (b {name: 'Airbus'})\n",
      "          ...\n",
      "Executed: \n",
      "            MATCH (a {name: 'Jeremy Bogaisky'}),\n",
      "                  (b {name: 'Forbes'})\n",
      "           ...\n"
     ]
    },
    {
     "name": "stderr",
     "output_type": "stream",
     "text": [
      " 29%|██▉       | 317/1090 [00:48<01:52,  6.85it/s]"
     ]
    },
    {
     "name": "stdout",
     "output_type": "stream",
     "text": [
      "Executed: \n",
      "            MATCH (a {name: 'Oli Strong'}),\n",
      "                  (b {name: 'Magma'})\n",
      "            MERGE...\n",
      "Executed: \n",
      "            MATCH (a {name: 'Swear'}),\n",
      "                  (b {name: 'Adobe'})\n",
      "            MERGE (a)-...\n"
     ]
    },
    {
     "name": "stderr",
     "output_type": "stream",
     "text": [
      " 29%|██▉       | 319/1090 [00:48<01:56,  6.63it/s]"
     ]
    },
    {
     "name": "stdout",
     "output_type": "stream",
     "text": [
      "Executed: \n",
      "            MATCH (a {name: 'Billie Eilish'}),\n",
      "                  (b {name: 'Google'})\n",
      "            M...\n",
      "Executed: \n",
      "            MATCH (a {name: 'Rachel Hollis'}),\n",
      "                  (b {name: 'The Hollis Company'})\n",
      " ...\n"
     ]
    },
    {
     "name": "stderr",
     "output_type": "stream",
     "text": [
      " 29%|██▉       | 321/1090 [00:48<01:59,  6.44it/s]"
     ]
    },
    {
     "name": "stdout",
     "output_type": "stream",
     "text": [
      "Executed: \n",
      "            MATCH (a {name: 'influencer_name'}),\n",
      "                  (b {name: 'brand_name'})\n",
      "       ...\n",
      "Executed: \n",
      "            MATCH (a {name: 'Temu'}),\n",
      "                  (b {name: 'FedEx'})\n",
      "            MERGE (a)-[...\n"
     ]
    },
    {
     "name": "stderr",
     "output_type": "stream",
     "text": [
      " 30%|██▉       | 323/1090 [00:48<01:51,  6.90it/s]"
     ]
    },
    {
     "name": "stdout",
     "output_type": "stream",
     "text": [
      "Executed: \n",
      "            MATCH (a {name: 'Quora'}),\n",
      "                  (b {name: 'Poe'})\n",
      "            MERGE (a)-[:...\n",
      "Executed: \n",
      "            MATCH (a {name: 'Vanshaj Verma'}),\n",
      "                  (b {name: 'E&C Consultants'})\n",
      "    ...\n"
     ]
    },
    {
     "name": "stderr",
     "output_type": "stream",
     "text": [
      " 30%|██▉       | 325/1090 [00:49<01:47,  7.13it/s]"
     ]
    },
    {
     "name": "stdout",
     "output_type": "stream",
     "text": [
      "Executed: \n",
      "            MATCH (a {name: 'J.P. Morgan'}),\n",
      "                  (b {name: 'BlackRock'})\n",
      "            ...\n",
      "Executed: \n",
      "            MATCH (a {name: 'Morgan Stanley'}),\n",
      "                  (b {name: 'BlackRock'})\n",
      "         ...\n"
     ]
    },
    {
     "name": "stderr",
     "output_type": "stream",
     "text": [
      " 30%|███       | 327/1090 [00:49<01:45,  7.24it/s]"
     ]
    },
    {
     "name": "stdout",
     "output_type": "stream",
     "text": [
      "Executed: \n",
      "            MATCH (a {name: 'Rocky Balboa'}),\n",
      "                  (b {name: 'Paramount Pictures'})\n",
      "  ...\n",
      "Executed: \n",
      "            MATCH (a {name: 'Bull Durham'}),\n",
      "                  (b {name: 'Warner Bros. Entertainmen...\n"
     ]
    },
    {
     "name": "stderr",
     "output_type": "stream",
     "text": [
      " 30%|███       | 329/1090 [00:49<01:49,  6.93it/s]"
     ]
    },
    {
     "name": "stdout",
     "output_type": "stream",
     "text": [
      "Executed: \n",
      "            MATCH (a {name: 'A League of Their Own'}),\n",
      "                  (b {name: 'Universal Pictu...\n",
      "Executed: \n",
      "            MATCH (a {name: 'Alicia Keys'}),\n",
      "                  (b {name: 'MasterClass'})\n",
      "          ...\n"
     ]
    },
    {
     "name": "stderr",
     "output_type": "stream",
     "text": [
      " 30%|███       | 331/1090 [00:50<01:54,  6.65it/s]"
     ]
    },
    {
     "name": "stdout",
     "output_type": "stream",
     "text": [
      "Executed: \n",
      "            MATCH (a {name: 'Dua Lipa'}),\n",
      "                  (b {name: 'YSL Beauty'})\n",
      "            ME...\n",
      "Executed: \n",
      "            MATCH (a {name: 'Will Smith'}),\n",
      "                  (b {name: 'YouTube Originals'})\n",
      "     ...\n"
     ]
    },
    {
     "name": "stderr",
     "output_type": "stream",
     "text": [
      " 31%|███       | 333/1090 [00:50<01:51,  6.81it/s]"
     ]
    },
    {
     "name": "stdout",
     "output_type": "stream",
     "text": [
      "Executed: \n",
      "            MATCH (a {name: 'influencer_name'}),\n",
      "                  (b {name: 'brand_name'})\n",
      "       ...\n",
      "Executed: \n",
      "            MATCH (a {name: 'influencer_name'}),\n",
      "                  (b {name: 'brand_name'})\n",
      "       ...\n"
     ]
    },
    {
     "name": "stderr",
     "output_type": "stream",
     "text": [
      " 31%|███       | 335/1090 [00:50<01:52,  6.74it/s]"
     ]
    },
    {
     "name": "stdout",
     "output_type": "stream",
     "text": [
      "Executed: \n",
      "            MATCH (a {name: 'Dude Products'}),\n",
      "                  (b {name: 'Shark Tank'})\n",
      "         ...\n",
      "Executed: \n",
      "            MATCH (a {name: 'Jack Ma'}),\n",
      "                  (b {name: 'Alibaba Group'})\n",
      "            ...\n"
     ]
    },
    {
     "name": "stderr",
     "output_type": "stream",
     "text": [
      " 31%|███       | 337/1090 [00:50<01:52,  6.67it/s]"
     ]
    },
    {
     "name": "stdout",
     "output_type": "stream",
     "text": [
      "Executed: \n",
      "            MATCH (a {name: 'Jane Goodall'}),\n",
      "                  (b {name: 'Vegan Outreach'})\n",
      "      ...\n",
      "Executed: \n",
      "            MATCH (a {name: 'Emma Smith'}),\n",
      "                  (b {name: 'MAC Cosmetics'})\n",
      "         ...\n"
     ]
    },
    {
     "name": "stderr",
     "output_type": "stream",
     "text": [
      "\r 31%|███       | 338/1090 [00:51<01:51,  6.74it/s]"
     ]
    },
    {
     "name": "stdout",
     "output_type": "stream",
     "text": [
      "Executed: \n",
      "            MATCH (a {name: 'Tulsa Artist Fellowship'}),\n",
      "                  (b {name: 'Magic City Bo...\n"
     ]
    },
    {
     "name": "stderr",
     "output_type": "stream",
     "text": [
      " 31%|███       | 340/1090 [00:51<02:08,  5.86it/s]"
     ]
    },
    {
     "name": "stdout",
     "output_type": "stream",
     "text": [
      "Executed: \n",
      "            MATCH (a {name: 'Tulsa Artist Fellowship'}),\n",
      "                  (b {name: 'Oklahoma Cent...\n",
      "Executed: \n",
      "            MATCH (a {name: 'Tulsa Artist Fellowship'}),\n",
      "                  (b {name: 'Gathering Pla...\n"
     ]
    },
    {
     "name": "stderr",
     "output_type": "stream",
     "text": [
      " 31%|███▏      | 342/1090 [00:51<01:54,  6.52it/s]"
     ]
    },
    {
     "name": "stdout",
     "output_type": "stream",
     "text": [
      "Executed: \n",
      "            MATCH (a {name: 'Warner Bros. Discovery'}),\n",
      "                  (b {name: 'DC Extended Un...\n",
      "Executed: \n",
      "            MATCH (a {name: 'Forbes Technology Council'}),\n",
      "                  (b {name: 'Wearable Te...\n"
     ]
    },
    {
     "name": "stderr",
     "output_type": "stream",
     "text": [
      " 32%|███▏      | 344/1090 [00:52<01:47,  6.92it/s]"
     ]
    },
    {
     "name": "stdout",
     "output_type": "stream",
     "text": [
      "Executed: \n",
      "            MATCH (a {name: 'Forbes Technology Council'}),\n",
      "                  (b {name: 'Mobile App ...\n",
      "Executed: \n",
      "            MATCH (a {name: 'Forbes Technology Council'}),\n",
      "                  (b {name: 'Tech Leader...\n"
     ]
    },
    {
     "name": "stderr",
     "output_type": "stream",
     "text": [
      " 32%|███▏      | 346/1090 [00:52<01:44,  7.14it/s]"
     ]
    },
    {
     "name": "stdout",
     "output_type": "stream",
     "text": [
      "Executed: \n",
      "            MATCH (a {name: 'Forbes Technology Council'}),\n",
      "                  (b {name: 'Mobile App ...\n",
      "Executed: \n",
      "            MATCH (a {name: 'Forbes Technology Council'}),\n",
      "                  (b {name: 'Tech Depart...\n"
     ]
    },
    {
     "name": "stderr",
     "output_type": "stream",
     "text": [
      " 32%|███▏      | 348/1090 [00:52<01:42,  7.24it/s]"
     ]
    },
    {
     "name": "stdout",
     "output_type": "stream",
     "text": [
      "Executed: \n",
      "            MATCH (a {name: 'LinkedIn'}),\n",
      "                  (b {name: 'Tech Industry'})\n",
      "           ...\n",
      "Executed: \n",
      "            MATCH (a {name: 'Forbes Technology Council'}),\n",
      "                  (b {name: 'Influencers...\n"
     ]
    },
    {
     "name": "stderr",
     "output_type": "stream",
     "text": [
      " 32%|███▏      | 350/1090 [00:52<01:41,  7.31it/s]"
     ]
    },
    {
     "name": "stdout",
     "output_type": "stream",
     "text": [
      "Executed: \n",
      "            MATCH (a {name: 'Mary Anne Sayler'}),\n",
      "                  (b {name: 'Gerson Bakar & Assoc...\n",
      "Executed: \n",
      "            MATCH (a {name: 'Mark Schachern'}),\n",
      "                  (b {name: 'Sam’s Tavern'})\n",
      "      ...\n"
     ]
    },
    {
     "name": "stderr",
     "output_type": "stream",
     "text": [
      " 32%|███▏      | 352/1090 [00:53<01:41,  7.30it/s]"
     ]
    },
    {
     "name": "stdout",
     "output_type": "stream",
     "text": [
      "Executed: \n",
      "            MATCH (a {name: 'David Joyce'}),\n",
      "                  (b {name: 'Warner Bros. Discovery'})...\n",
      "Executed: \n",
      "            MATCH (a {name: 'Brandon Kochkodin'}),\n",
      "                  (b {name: 'Forbes'})\n",
      "         ...\n"
     ]
    },
    {
     "name": "stderr",
     "output_type": "stream",
     "text": [
      " 32%|███▏      | 354/1090 [00:53<01:44,  7.04it/s]"
     ]
    },
    {
     "name": "stdout",
     "output_type": "stream",
     "text": [
      "Executed: \n",
      "            MATCH (a {name: 'Carnie Wilson'}),\n",
      "                  (b {name: 'AXS TV'})\n",
      "            M...\n",
      "Executed: \n",
      "            MATCH (a {name: 'Scott Brecker'}),\n",
      "                  (b {name: 'CoachArt'})\n",
      "           ...\n"
     ]
    },
    {
     "name": "stderr",
     "output_type": "stream",
     "text": [
      " 33%|███▎      | 356/1090 [00:53<01:41,  7.20it/s]"
     ]
    },
    {
     "name": "stdout",
     "output_type": "stream",
     "text": [
      "Executed: \n",
      "            MATCH (a {name: 'Rick Grimaldi'}),\n",
      "                  (b {name: 'Google'})\n",
      "            M...\n",
      "Executed: \n",
      "            MATCH (a {name: 'Hanna'}),\n",
      "                  (b {name: 'Google'})\n",
      "            MERGE (a)...\n"
     ]
    },
    {
     "name": "stderr",
     "output_type": "stream",
     "text": [
      " 33%|███▎      | 358/1090 [00:54<01:44,  6.97it/s]"
     ]
    },
    {
     "name": "stdout",
     "output_type": "stream",
     "text": [
      "Executed: \n",
      "            MATCH (a {name: 'archivedchef'}),\n",
      "                  (b {name: 'Eggo'})\n",
      "            MERG...\n",
      "Executed: \n",
      "            MATCH (a {name: 'Derreck'}),\n",
      "                  (b {name: 'Nordstrom'})\n",
      "            MERG...\n"
     ]
    },
    {
     "name": "stderr",
     "output_type": "stream",
     "text": [
      " 33%|███▎      | 360/1090 [00:54<01:42,  7.13it/s]"
     ]
    },
    {
     "name": "stdout",
     "output_type": "stream",
     "text": [
      "Executed: \n",
      "            MATCH (a {name: 'Theory Malden JC.'}),\n",
      "                  (b {name: 'Nordstrom'})\n",
      "      ...\n",
      "Executed: \n",
      "            MATCH (a {name: 'Faherty'}),\n",
      "                  (b {name: 'Nordstrom'})\n",
      "            MERG...\n"
     ]
    },
    {
     "name": "stderr",
     "output_type": "stream",
     "text": [
      " 33%|███▎      | 362/1090 [00:54<01:40,  7.23it/s]"
     ]
    },
    {
     "name": "stdout",
     "output_type": "stream",
     "text": [
      "Executed: \n",
      "            MATCH (a {name: 'Nike Killshot 2 Sneaker'}),\n",
      "                  (b {name: 'Nordstrom'})\n",
      "...\n",
      "Executed: \n",
      "            MATCH (a {name: 'Quay'}),\n",
      "                  (b {name: 'Nordstrom'})\n",
      "            MERGE (...\n"
     ]
    },
    {
     "name": "stderr",
     "output_type": "stream",
     "text": [
      " 33%|███▎      | 364/1090 [00:54<01:40,  7.23it/s]"
     ]
    },
    {
     "name": "stdout",
     "output_type": "stream",
     "text": [
      "Executed: \n",
      "            MATCH (a {name: 'Vuori Strato'}),\n",
      "                  (b {name: 'Nordstrom'})\n",
      "           ...\n",
      "Executed: \n",
      "            MATCH (a {name: 'Ralph Lauren'}),\n",
      "                  (b {name: 'Nordstrom'})\n",
      "           ...\n"
     ]
    },
    {
     "name": "stderr",
     "output_type": "stream",
     "text": [
      " 34%|███▎      | 366/1090 [00:55<01:39,  7.28it/s]"
     ]
    },
    {
     "name": "stdout",
     "output_type": "stream",
     "text": [
      "Executed: \n",
      "            MATCH (a {name: 'Jo Malone'}),\n",
      "                  (b {name: 'Nordstrom'})\n",
      "            ME...\n",
      "Executed: \n",
      "            MATCH (a {name: 'Percival Everett'}),\n",
      "                  (b {name: 'Amazon Books Editori...\n"
     ]
    },
    {
     "name": "stderr",
     "output_type": "stream",
     "text": [
      " 34%|███▍      | 368/1090 [00:55<01:39,  7.28it/s]"
     ]
    },
    {
     "name": "stdout",
     "output_type": "stream",
     "text": [
      "Executed: \n",
      "            MATCH (a {name: 'Kristin Hannah'}),\n",
      "                  (b {name: 'Amazon Books Editorial...\n",
      "Executed: \n",
      "            MATCH (a {name: 'Phil Elwood'}),\n",
      "                  (b {name: 'Amazon Books Editorial'})...\n"
     ]
    },
    {
     "name": "stderr",
     "output_type": "stream",
     "text": [
      " 34%|███▍      | 370/1090 [00:55<01:42,  7.01it/s]"
     ]
    },
    {
     "name": "stdout",
     "output_type": "stream",
     "text": [
      "Executed: \n",
      "            MATCH (a {name: 'Kaliane Bradley'}),\n",
      "                  (b {name: 'Amazon Books Editoria...\n",
      "Executed: \n",
      "            MATCH (a {name: 'Chau Bui'}),\n",
      "                  (b {name: 'Laduora'})\n",
      "            MERGE...\n"
     ]
    },
    {
     "name": "stderr",
     "output_type": "stream",
     "text": [
      " 34%|███▍      | 372/1090 [00:56<01:47,  6.69it/s]"
     ]
    },
    {
     "name": "stdout",
     "output_type": "stream",
     "text": [
      "Executed: \n",
      "            MATCH (a {name: 'New York Post'}),\n",
      "                  (b {name: 'Brooklinen'})\n",
      "         ...\n",
      "Executed: \n",
      "            MATCH (a {name: 'Hawke'}),\n",
      "                  (b {name: 'Osprey'})\n",
      "            MERGE (a)...\n"
     ]
    },
    {
     "name": "stderr",
     "output_type": "stream",
     "text": [
      " 34%|███▍      | 374/1090 [00:56<01:45,  6.79it/s]"
     ]
    },
    {
     "name": "stdout",
     "output_type": "stream",
     "text": [
      "Executed: \n",
      "            MATCH (a {name: 'Hawke'}),\n",
      "                  (b {name: 'The North Face'})\n",
      "            M...\n",
      "Executed: \n",
      "            MATCH (a {name: 'Taylor Sheridan'}),\n",
      "                  (b {name: 'Yellowstone'})\n",
      "      ...\n"
     ]
    },
    {
     "name": "stderr",
     "output_type": "stream",
     "text": [
      "\r 34%|███▍      | 375/1090 [00:56<01:43,  6.94it/s]"
     ]
    },
    {
     "name": "stdout",
     "output_type": "stream",
     "text": [
      "Executed: \n",
      "            MATCH (a {name: 'Kevin Costner'}),\n",
      "                  (b {name: 'Yellowstone'})\n",
      "        ...\n"
     ]
    },
    {
     "name": "stderr",
     "output_type": "stream",
     "text": [
      " 35%|███▍      | 377/1090 [00:56<02:03,  5.79it/s]"
     ]
    },
    {
     "name": "stdout",
     "output_type": "stream",
     "text": [
      "Executed: \n",
      "            MATCH (a {name: 'Bella Hadid'}),\n",
      "                  (b {name: 'FUNBOY'})\n",
      "            MER...\n",
      "Executed: \n",
      "            MATCH (a {name: 'Alix Earle'}),\n",
      "                  (b {name: 'FUNBOY'})\n",
      "            MERG...\n"
     ]
    },
    {
     "name": "stderr",
     "output_type": "stream",
     "text": [
      " 35%|███▍      | 379/1090 [00:57<02:12,  5.37it/s]"
     ]
    },
    {
     "name": "stdout",
     "output_type": "stream",
     "text": [
      "Executed: \n",
      "            MATCH (a {name: 'Kit Keenan'}),\n",
      "                  (b {name: 'FUNBOY'})\n",
      "            MERG...\n",
      "Executed: \n",
      "            MATCH (a {name: 'ModLux.Rent'}),\n",
      "                  (b {name: 'Nicole Miller'})\n",
      "        ...\n"
     ]
    },
    {
     "name": "stderr",
     "output_type": "stream",
     "text": [
      "\r 35%|███▍      | 380/1090 [00:57<02:12,  5.36it/s]"
     ]
    },
    {
     "name": "stdout",
     "output_type": "stream",
     "text": [
      "Executed: \n",
      "            MATCH (a {name: 'Rent The Runway'}),\n",
      "                  (b {name: 'Red Valentino'})\n",
      "    ...\n"
     ]
    },
    {
     "name": "stderr",
     "output_type": "stream",
     "text": [
      " 35%|███▌      | 382/1090 [00:57<02:12,  5.33it/s]"
     ]
    },
    {
     "name": "stdout",
     "output_type": "stream",
     "text": [
      "Executed: \n",
      "            MATCH (a {name: 'influencer_name'}),\n",
      "                  (b {name: 'Bogg'})\n",
      "            M...\n",
      "Executed: \n",
      "            MATCH (a {name: 'Emma Chamberlain'}),\n",
      "                  (b {name: 'Vogue'})\n",
      "           ...\n"
     ]
    },
    {
     "name": "stderr",
     "output_type": "stream",
     "text": [
      " 35%|███▌      | 384/1090 [00:58<01:55,  6.13it/s]"
     ]
    },
    {
     "name": "stdout",
     "output_type": "stream",
     "text": [
      "Executed: \n",
      "            MATCH (a {name: 'Gordon Ramsay'}),\n",
      "                  (b {name: 'Hell\\'s Kitchen'})\n",
      "    ...\n",
      "Executed: \n",
      "            MATCH (a {name: 'Reddit reviewer'}),\n",
      "                  (b {name: 'lululemon'})\n",
      "        ...\n"
     ]
    },
    {
     "name": "stderr",
     "output_type": "stream",
     "text": [
      " 35%|███▌      | 386/1090 [00:58<01:45,  6.69it/s]"
     ]
    },
    {
     "name": "stdout",
     "output_type": "stream",
     "text": [
      "Executed: \n",
      "            MATCH (a {name: 'TikTok user'}),\n",
      "                  (b {name: 'lululemon'})\n",
      "            ...\n",
      "Executed: \n",
      "            MATCH (a {name: 'Instagram user'}),\n",
      "                  (b {name: 'lululemon'})\n",
      "         ...\n"
     ]
    },
    {
     "name": "stderr",
     "output_type": "stream",
     "text": [
      " 36%|███▌      | 388/1090 [00:58<01:45,  6.63it/s]"
     ]
    },
    {
     "name": "stdout",
     "output_type": "stream",
     "text": [
      "Executed: \n",
      "            MATCH (a {name: 'Post Wanted by the New York Post'}),\n",
      "                  (b {name: 'Hone...\n",
      "Executed: \n",
      "            MATCH (a {name: 'Post Wanted by the New York Post'}),\n",
      "                  (b {name: 'Vorn...\n"
     ]
    },
    {
     "name": "stderr",
     "output_type": "stream",
     "text": [
      " 36%|███▌      | 390/1090 [00:58<01:40,  6.95it/s]"
     ]
    },
    {
     "name": "stdout",
     "output_type": "stream",
     "text": [
      "Executed: \n",
      "            MATCH (a {name: 'Serena & Lily'}),\n",
      "                  (b {name: 'Best designer'})\n",
      "      ...\n",
      "Executed: \n",
      "            MATCH (a {name: 'Eddie Bauer'}),\n",
      "                  (b {name: 'Best wide-set'})\n",
      "        ...\n"
     ]
    },
    {
     "name": "stderr",
     "output_type": "stream",
     "text": [
      " 36%|███▌      | 392/1090 [00:59<01:40,  6.95it/s]"
     ]
    },
    {
     "name": "stdout",
     "output_type": "stream",
     "text": [
      "Executed: \n",
      "            MATCH (a {name: 'BOTE'}),\n",
      "                  (b {name: 'Best inflatable'})\n",
      "            M...\n",
      "Executed: \n",
      "            MATCH (a {name: 'Amazon Basics'}),\n",
      "                  (b {name: 'Best zero-gravity'})\n",
      "  ...\n"
     ]
    },
    {
     "name": "stderr",
     "output_type": "stream",
     "text": [
      " 36%|███▌      | 394/1090 [00:59<01:40,  6.93it/s]"
     ]
    },
    {
     "name": "stdout",
     "output_type": "stream",
     "text": [
      "Executed: \n",
      "            MATCH (a {name: 'Moy'}),\n",
      "                  (b {name: 'Béis'})\n",
      "            MERGE (a)-[:r...\n",
      "Executed: \n",
      "            MATCH (a {name: 'Moy'}),\n",
      "                  (b {name: 'J. Crew'})\n",
      "            MERGE (a)-...\n"
     ]
    },
    {
     "name": "stderr",
     "output_type": "stream",
     "text": [
      " 36%|███▋      | 396/1090 [00:59<01:41,  6.81it/s]"
     ]
    },
    {
     "name": "stdout",
     "output_type": "stream",
     "text": [
      "Executed: \n",
      "            MATCH (a {name: 'Moy'}),\n",
      "                  (b {name: 'Open Edit'})\n",
      "            MERGE (a...\n",
      "Executed: \n",
      "            MATCH (a {name: 'Moy'}),\n",
      "                  (b {name: 'Rhinestone Bannana Hobo'})\n",
      "      ...\n"
     ]
    },
    {
     "name": "stderr",
     "output_type": "stream",
     "text": [
      " 37%|███▋      | 398/1090 [01:00<01:41,  6.81it/s]"
     ]
    },
    {
     "name": "stdout",
     "output_type": "stream",
     "text": [
      "Executed: \n",
      "            MATCH (a {name: 'Post Wanted by the New York Post'}),\n",
      "                  (b {name: 'Wayf...\n",
      "Executed: \n",
      "            MATCH (a {name: 'Post Wanted by the New York Post'}),\n",
      "                  (b {name: 'Targ...\n"
     ]
    },
    {
     "name": "stderr",
     "output_type": "stream",
     "text": [
      " 37%|███▋      | 400/1090 [01:00<01:40,  6.86it/s]"
     ]
    },
    {
     "name": "stdout",
     "output_type": "stream",
     "text": [
      "Executed: \n",
      "            MATCH (a {name: 'Post Wanted by the New York Post'}),\n",
      "                  (b {name: 'Bran...\n",
      "Executed: \n",
      "            MATCH (a {name: 'Johnny Depp'}),\n",
      "                  (b {name: 'Sauvage'})\n",
      "            ME...\n"
     ]
    },
    {
     "name": "stderr",
     "output_type": "stream",
     "text": [
      " 37%|███▋      | 402/1090 [01:00<01:36,  7.10it/s]"
     ]
    },
    {
     "name": "stdout",
     "output_type": "stream",
     "text": [
      "Executed: \n",
      "            MATCH (a {name: 'Post Wanted by the New York Post'}),\n",
      "                  (b {name: 'Wran...\n",
      "Executed: \n",
      "            MATCH (a {name: 'Post Wanted by the New York Post'}),\n",
      "                  (b {name: 'Mars...\n"
     ]
    },
    {
     "name": "stderr",
     "output_type": "stream",
     "text": [
      " 37%|███▋      | 404/1090 [01:00<01:35,  7.18it/s]"
     ]
    },
    {
     "name": "stdout",
     "output_type": "stream",
     "text": [
      "Executed: \n",
      "            MATCH (a {name: 'Post Wanted by the New York Post'}),\n",
      "                  (b {name: 'Kieh...\n",
      "Executed: \n",
      "            MATCH (a {name: 'Post Wanted by the New York Post'}),\n",
      "                  (b {name: 'Fjäl...\n"
     ]
    },
    {
     "name": "stderr",
     "output_type": "stream",
     "text": [
      " 37%|███▋      | 406/1090 [01:01<01:34,  7.22it/s]"
     ]
    },
    {
     "name": "stdout",
     "output_type": "stream",
     "text": [
      "Executed: \n",
      "            MATCH (a {name: 'Post Wanted by the New York Post'}),\n",
      "                  (b {name: 'Meli...\n",
      "Executed: \n",
      "            MATCH (a {name: 'Post Wanted by the New York Post'}),\n",
      "                  (b {name: 'Firs...\n"
     ]
    },
    {
     "name": "stderr",
     "output_type": "stream",
     "text": [
      "\r 37%|███▋      | 407/1090 [01:01<01:34,  7.25it/s]"
     ]
    },
    {
     "name": "stdout",
     "output_type": "stream",
     "text": [
      "Executed: \n",
      "            MATCH (a {name: 'Alix Earle'}),\n",
      "                  (b {name: 'Bag Balm'})\n",
      "            ME...\n"
     ]
    },
    {
     "name": "stderr",
     "output_type": "stream",
     "text": [
      " 38%|███▊      | 409/1090 [01:01<01:59,  5.71it/s]"
     ]
    },
    {
     "name": "stdout",
     "output_type": "stream",
     "text": [
      "Executed: \n",
      "            MATCH (a {name: 'Vickiii Sashea'}),\n",
      "                  (b {name: 'Mane n\\' Tail'})\n",
      "     ...\n",
      "Executed: \n",
      "            MATCH (a {name: 'Ascend'}),\n",
      "                  (b {name: 'Cabela’s'})\n",
      "            MERGE ...\n"
     ]
    },
    {
     "name": "stderr",
     "output_type": "stream",
     "text": [
      " 38%|███▊      | 411/1090 [01:02<01:45,  6.45it/s]"
     ]
    },
    {
     "name": "stdout",
     "output_type": "stream",
     "text": [
      "Executed: \n",
      "            MATCH (a {name: 'Ascend'}),\n",
      "                  (b {name: 'Cabela’s'})\n",
      "            MERGE ...\n",
      "Executed: \n",
      "            MATCH (a {name: 'Strata'}),\n",
      "                  (b {name: 'Golf'})\n",
      "            MERGE (a)-...\n"
     ]
    },
    {
     "name": "stderr",
     "output_type": "stream",
     "text": [
      " 38%|███▊      | 413/1090 [01:02<01:38,  6.87it/s]"
     ]
    },
    {
     "name": "stdout",
     "output_type": "stream",
     "text": [
      "Executed: \n",
      "            MATCH (a {name: 'Logan Foley'}),\n",
      "                  (b {name: 'Carhartt'})\n",
      "            M...\n",
      "Executed: \n",
      "            MATCH (a {name: 'Farther\\'s Day'}),\n",
      "                  (b {name: 'Brooklinen'})\n",
      "        ...\n"
     ]
    },
    {
     "name": "stderr",
     "output_type": "stream",
     "text": [
      " 38%|███▊      | 415/1090 [01:02<01:35,  7.10it/s]"
     ]
    },
    {
     "name": "stdout",
     "output_type": "stream",
     "text": [
      "Executed: \n",
      "            MATCH (a {name: 'Ariel Cafferty'}),\n",
      "                  (b {name: 'Wrangler'})\n",
      "          ...\n",
      "Executed: \n",
      "            MATCH (a {name: 'Hannah Murphy'}),\n",
      "                  (b {name: 'Apple'})\n",
      "            ME...\n"
     ]
    },
    {
     "name": "stderr",
     "output_type": "stream",
     "text": [
      " 38%|███▊      | 417/1090 [01:02<01:33,  7.23it/s]"
     ]
    },
    {
     "name": "stdout",
     "output_type": "stream",
     "text": [
      "Executed: \n",
      "            MATCH (a {name: 'Holly J Coley'}),\n",
      "                  (b {name: 'Soleil Toujours'})\n",
      "    ...\n",
      "Executed: \n",
      "            MATCH (a {name: 'Dr. Marisa C. Shelton'}),\n",
      "                  (b {name: 'CeraVe'})\n",
      "     ...\n"
     ]
    },
    {
     "name": "stderr",
     "output_type": "stream",
     "text": [
      " 38%|███▊      | 419/1090 [01:03<01:35,  7.02it/s]"
     ]
    },
    {
     "name": "stdout",
     "output_type": "stream",
     "text": [
      "Executed: \n",
      "            MATCH (a {name: 'Dr. Debra Jaliman'}),\n",
      "                  (b {name: 'EltaMD UV Physical ...\n",
      "Executed: \n",
      "            MATCH (a {name: 'Dr. Marisa C. Shelton'}),\n",
      "                  (b {name: 'CeraVe'})\n",
      "     ...\n"
     ]
    },
    {
     "name": "stderr",
     "output_type": "stream",
     "text": [
      " 39%|███▊      | 421/1090 [01:03<01:32,  7.20it/s]"
     ]
    },
    {
     "name": "stdout",
     "output_type": "stream",
     "text": [
      "Executed: \n",
      "            MATCH (a {name: 'Dr. Debra Jaliman'}),\n",
      "                  (b {name: 'EltaMD UV Physical ...\n",
      "Executed: \n",
      "            MATCH (a {name: 'Post Wanted'}),\n",
      "                  (b {name: 'Sonos'})\n",
      "            MERG...\n"
     ]
    },
    {
     "name": "stderr",
     "output_type": "stream",
     "text": [
      " 39%|███▉      | 423/1090 [01:03<01:31,  7.29it/s]"
     ]
    },
    {
     "name": "stdout",
     "output_type": "stream",
     "text": [
      "Executed: \n",
      "            MATCH (a {name: 'Miska Salemann'}),\n",
      "                  (b {name: 'Anker'})\n",
      "            M...\n",
      "Executed: \n",
      "            MATCH (a {name: 'Miska Salemann'}),\n",
      "                  (b {name: 'JUZIHAO'})\n",
      "           ...\n"
     ]
    },
    {
     "name": "stderr",
     "output_type": "stream",
     "text": [
      " 39%|███▉      | 425/1090 [01:04<01:31,  7.30it/s]"
     ]
    },
    {
     "name": "stdout",
     "output_type": "stream",
     "text": [
      "Executed: \n",
      "            MATCH (a {name: 'Miska Salemann'}),\n",
      "                  (b {name: 'Fujifilm'})\n",
      "          ...\n",
      "Executed: \n",
      "            MATCH (a {name: 'Post Wanted by the New York Post'}),\n",
      "                  (b {name: 'Appl...\n"
     ]
    },
    {
     "name": "stderr",
     "output_type": "stream",
     "text": [
      " 39%|███▉      | 427/1090 [01:04<01:30,  7.31it/s]"
     ]
    },
    {
     "name": "stdout",
     "output_type": "stream",
     "text": [
      "Executed: \n",
      "            MATCH (a {name: 'Post Wanted by the New York Post'}),\n",
      "                  (b {name: 'Logi...\n",
      "Executed: \n",
      "            MATCH (a {name: 'Post Wanted by the New York Post'}),\n",
      "                  (b {name: 'YETI...\n"
     ]
    },
    {
     "name": "stderr",
     "output_type": "stream",
     "text": [
      " 39%|███▉      | 429/1090 [01:04<01:32,  7.17it/s]"
     ]
    },
    {
     "name": "stdout",
     "output_type": "stream",
     "text": [
      "Executed: \n",
      "            MATCH (a {name: 'Victoria Giardina'}),\n",
      "                  (b {name: 'Cosrx'})\n",
      "          ...\n",
      "Executed: \n",
      "            MATCH (a {name: 'Victoria Giardina'}),\n",
      "                  (b {name: 'New York Post Comme...\n"
     ]
    },
    {
     "name": "stderr",
     "output_type": "stream",
     "text": [
      " 40%|███▉      | 431/1090 [01:04<01:44,  6.30it/s]"
     ]
    },
    {
     "name": "stdout",
     "output_type": "stream",
     "text": [
      "Executed: \n",
      "            MATCH (a {name: 'Dr. Jennifer Gohara'}),\n",
      "                  (b {name: 'IPL Device Manufa...\n",
      "Executed: \n",
      "            MATCH (a {name: 'NuBra Seamless Bra Cups'}),\n",
      "                  (b {name: 'NuBra'})\n",
      "    ...\n"
     ]
    },
    {
     "name": "stderr",
     "output_type": "stream",
     "text": [
      " 40%|███▉      | 433/1090 [01:05<01:39,  6.58it/s]"
     ]
    },
    {
     "name": "stdout",
     "output_type": "stream",
     "text": [
      "Executed: \n",
      "            MATCH (a {name: 'Salemann'}),\n",
      "                  (b {name: 'Bamboo Sheets Inc.'})\n",
      "      ...\n",
      "Executed: \n",
      "            MATCH (a {name: 'Post Wanted by the New York Post'}),\n",
      "                  (b {name: 'Bend...\n"
     ]
    },
    {
     "name": "stderr",
     "output_type": "stream",
     "text": [
      " 40%|███▉      | 435/1090 [01:05<01:34,  6.92it/s]"
     ]
    },
    {
     "name": "stdout",
     "output_type": "stream",
     "text": [
      "Executed: \n",
      "            MATCH (a {name: 'Dr. Lisa Idriss'}),\n",
      "                  (b {name: 'EltaMD'})\n",
      "           ...\n",
      "Executed: \n",
      "            MATCH (a {name: 'Dr. Jennifer Camp'}),\n",
      "                  (b {name: 'EltaMD'})\n",
      "         ...\n"
     ]
    },
    {
     "name": "stderr",
     "output_type": "stream",
     "text": [
      " 40%|████      | 437/1090 [01:05<01:31,  7.12it/s]"
     ]
    },
    {
     "name": "stdout",
     "output_type": "stream",
     "text": [
      "Executed: \n",
      "            MATCH (a {name: 'Victoria Giardina'}),\n",
      "                  (b {name: 'Neutrogena'})\n",
      "     ...\n",
      "Executed: \n",
      "            MATCH (a {name: 'Victoria Giardina'}),\n",
      "                  (b {name: 'Black Girl Sunscree...\n"
     ]
    },
    {
     "name": "stderr",
     "output_type": "stream",
     "text": [
      " 40%|████      | 439/1090 [01:06<01:35,  6.82it/s]"
     ]
    },
    {
     "name": "stdout",
     "output_type": "stream",
     "text": [
      "Executed: \n",
      "            MATCH (a {name: 'Dr. Turner'}),\n",
      "                  (b {name: 'USDA-APHIS'})\n",
      "            ...\n",
      "Executed: \n",
      "            MATCH (a {name: 'Dr. Manucy'}),\n",
      "                  (b {name: 'IATA'})\n",
      "            MERGE ...\n"
     ]
    },
    {
     "name": "stderr",
     "output_type": "stream",
     "text": [
      " 40%|████      | 441/1090 [01:06<01:34,  6.87it/s]"
     ]
    },
    {
     "name": "stdout",
     "output_type": "stream",
     "text": [
      "Executed: \n",
      "            MATCH (a {name: 'Selena Gomez'}),\n",
      "                  (b {name: 'Rare Beauty'})\n",
      "         ...\n",
      "Executed: \n",
      "            MATCH (a {name: 'Carley Fortune'}),\n",
      "                  (b {name: 'HarperCollins'})\n",
      "     ...\n"
     ]
    },
    {
     "name": "stderr",
     "output_type": "stream",
     "text": [
      " 41%|████      | 443/1090 [01:06<01:31,  7.05it/s]"
     ]
    },
    {
     "name": "stdout",
     "output_type": "stream",
     "text": [
      "Executed: \n",
      "            MATCH (a {name: 'Ariel Cafferty'}),\n",
      "                  (b {name: 'Unknown Brand'})\n",
      "     ...\n",
      "Executed: \n",
      "            MATCH (a {name: 'Johann Hari'}),\n",
      "                  (b {name: 'HarperCollins'})\n",
      "        ...\n"
     ]
    },
    {
     "name": "stderr",
     "output_type": "stream",
     "text": [
      " 41%|████      | 445/1090 [01:06<01:29,  7.22it/s]"
     ]
    },
    {
     "name": "stdout",
     "output_type": "stream",
     "text": [
      "Executed: \n",
      "            MATCH (a {name: 'Victoria Giardina'}),\n",
      "                  (b {name: 'New York Post Comme...\n",
      "Executed: \n",
      "            MATCH (a {name: 'New York Post Commerce Editor Camryn LaSala'}),\n",
      "                  (b {...\n"
     ]
    },
    {
     "name": "stderr",
     "output_type": "stream",
     "text": [
      " 41%|████      | 447/1090 [01:07<01:32,  6.99it/s]"
     ]
    },
    {
     "name": "stdout",
     "output_type": "stream",
     "text": [
      "Executed: \n",
      "            MATCH (a {name: 'Post Wanted by the New York Post'}),\n",
      "                  (b {name: 'Char...\n",
      "Executed: \n",
      "            MATCH (a {name: 'Natalie Alzate'}),\n",
      "                  (b {name: 'NikkieTutorials'})\n",
      "   ...\n"
     ]
    },
    {
     "name": "stderr",
     "output_type": "stream",
     "text": [
      " 41%|████      | 449/1090 [01:07<01:29,  7.17it/s]"
     ]
    },
    {
     "name": "stdout",
     "output_type": "stream",
     "text": [
      "Executed: \n",
      "            MATCH (a {name: 'Danielle Peazer'}),\n",
      "                  (b {name: 'ASOS'})\n",
      "            M...\n",
      "Executed: \n",
      "            MATCH (a {name: 'Chris Evans'}),\n",
      "                  (b {name: 'L.L.Bean'})\n",
      "            M...\n"
     ]
    },
    {
     "name": "stderr",
     "output_type": "stream",
     "text": [
      " 41%|████▏     | 451/1090 [01:07<01:27,  7.27it/s]"
     ]
    },
    {
     "name": "stdout",
     "output_type": "stream",
     "text": [
      "Executed: \n",
      "            MATCH (a {name: 'Dr. Whitney V. Wright'}),\n",
      "                  (b {name: 'EltaMD'})\n",
      "     ...\n",
      "Executed: \n",
      "            MATCH (a {name: 'Dr. Amy Derick'}),\n",
      "                  (b {name: 'EltaMD'})\n",
      "            ...\n"
     ]
    },
    {
     "name": "stderr",
     "output_type": "stream",
     "text": [
      " 42%|████▏     | 453/1090 [01:08<01:27,  7.32it/s]"
     ]
    },
    {
     "name": "stdout",
     "output_type": "stream",
     "text": [
      "Executed: \n",
      "            MATCH (a {name: 'Dr. Dawn Davis'}),\n",
      "                  (b {name: 'EltaMD'})\n",
      "            ...\n",
      "Executed: \n",
      "            MATCH (a {name: 'Alix Earle'}),\n",
      "                  (b {name: 'Meixitoy'})\n",
      "            ME...\n"
     ]
    },
    {
     "name": "stderr",
     "output_type": "stream",
     "text": [
      " 42%|████▏     | 455/1090 [01:08<01:32,  6.86it/s]"
     ]
    },
    {
     "name": "stdout",
     "output_type": "stream",
     "text": [
      "Executed: \n",
      "            MATCH (a {name: 'Carmindy'}),\n",
      "                  (b {name: 'Ilia'})\n",
      "            MERGE (a...\n",
      "Executed: \n",
      "            MATCH (a {name: 'Carmindy'}),\n",
      "                  (b {name: 'IT Cosmetics'})\n",
      "            ...\n"
     ]
    },
    {
     "name": "stderr",
     "output_type": "stream",
     "text": [
      " 42%|████▏     | 457/1090 [01:08<01:28,  7.12it/s]"
     ]
    },
    {
     "name": "stdout",
     "output_type": "stream",
     "text": [
      "Executed: \n",
      "            MATCH (a {name: 'Ben Azelart'}),\n",
      "                  (b {name: 'Snapchat'})\n",
      "            M...\n",
      "Executed: \n",
      "            MATCH (a {name: 'Summer McKeen'}),\n",
      "                  (b {name: 'Forever 21'})\n",
      "         ...\n"
     ]
    },
    {
     "name": "stderr",
     "output_type": "stream",
     "text": [
      " 42%|████▏     | 459/1090 [01:08<01:31,  6.87it/s]"
     ]
    },
    {
     "name": "stdout",
     "output_type": "stream",
     "text": [
      "Executed: \n",
      "            MATCH (a {name: 'Post Wanted by the New York Post'}),\n",
      "                  (b {name: 'The ...\n",
      "Executed: \n",
      "            MATCH (a {name: 'James Charles'}),\n",
      "                  (b {name: 'Morphe'})\n",
      "            M...\n"
     ]
    },
    {
     "name": "stderr",
     "output_type": "stream",
     "text": [
      " 42%|████▏     | 461/1090 [01:09<01:39,  6.30it/s]"
     ]
    },
    {
     "name": "stdout",
     "output_type": "stream",
     "text": [
      "Executed: \n",
      "            MATCH (a {name: 'Huda Kattan'}),\n",
      "                  (b {name: 'Huda Beauty'})\n",
      "          ...\n",
      "Executed: \n",
      "            MATCH (a {name: 'Miska Salemann'}),\n",
      "                  (b {name: 'Baby and Maternity Bra...\n"
     ]
    },
    {
     "name": "stderr",
     "output_type": "stream",
     "text": [
      " 42%|████▏     | 463/1090 [01:09<01:34,  6.64it/s]"
     ]
    },
    {
     "name": "stdout",
     "output_type": "stream",
     "text": [
      "Executed: \n",
      "            MATCH (a {name: 'Brooklinen'}),\n",
      "                  (b {name: 'Post Wanted by the New Yor...\n",
      "Executed: \n",
      "            MATCH (a {name: 'Avocado Green Mattress'}),\n",
      "                  (b {name: 'Post Wanted by...\n"
     ]
    },
    {
     "name": "stderr",
     "output_type": "stream",
     "text": [
      " 43%|████▎     | 465/1090 [01:09<01:32,  6.75it/s]"
     ]
    },
    {
     "name": "stdout",
     "output_type": "stream",
     "text": [
      "Executed: \n",
      "            MATCH (a {name: 'NikkieTutorials'}),\n",
      "                  (b {name: 'Too Faced'})\n",
      "        ...\n",
      "Executed: \n",
      "            MATCH (a {name: 'Jodie Comer'}),\n",
      "                  (b {name: 'Gucci'})\n",
      "            MERG...\n"
     ]
    },
    {
     "name": "stderr",
     "output_type": "stream",
     "text": [
      " 43%|████▎     | 467/1090 [01:10<01:34,  6.59it/s]"
     ]
    },
    {
     "name": "stdout",
     "output_type": "stream",
     "text": [
      "Executed: \n",
      "            MATCH (a {name: 'Khadija Mbowe'}),\n",
      "                  (b {name: 'ColourPop'})\n",
      "          ...\n",
      "Executed: \n",
      "            MATCH (a {name: 'Shaunfield'}),\n",
      "                  (b {name: 'Pentair'})\n",
      "            MER...\n"
     ]
    },
    {
     "name": "stderr",
     "output_type": "stream",
     "text": [
      " 43%|████▎     | 469/1090 [01:10<01:42,  6.06it/s]"
     ]
    },
    {
     "name": "stdout",
     "output_type": "stream",
     "text": [
      "Executed: \n",
      "            MATCH (a {name: 'Keen'}),\n",
      "                  (b {name: 'Keen'})\n",
      "            MERGE (a)-[:...\n",
      "Executed: \n",
      "            MATCH (a {name: 'Vionic'}),\n",
      "                  (b {name: 'Vionic'})\n",
      "            MERGE (a...\n"
     ]
    },
    {
     "name": "stderr",
     "output_type": "stream",
     "text": [
      " 43%|████▎     | 471/1090 [01:10<01:39,  6.25it/s]"
     ]
    },
    {
     "name": "stdout",
     "output_type": "stream",
     "text": [
      "Executed: \n",
      "            MATCH (a {name: 'Birkenstock'}),\n",
      "                  (b {name: 'Birkenstock'})\n",
      "          ...\n",
      "Executed: \n",
      "            MATCH (a {name: 'Logan Foley'}),\n",
      "                  (b {name: 'The Sleep Foundation'})\n",
      " ...\n"
     ]
    },
    {
     "name": "stderr",
     "output_type": "stream",
     "text": [
      " 43%|████▎     | 473/1090 [01:11<01:31,  6.75it/s]"
     ]
    },
    {
     "name": "stdout",
     "output_type": "stream",
     "text": [
      "Executed: \n",
      "            MATCH (a {name: 'Victoria Giardina'}),\n",
      "                  (b {name: 'Versed'})\n",
      "         ...\n",
      "Executed: \n",
      "            MATCH (a {name: 'Lily Aldridge'}),\n",
      "                  (b {name: 'Saks Fifth Avenue'})\n",
      "  ...\n"
     ]
    },
    {
     "name": "stderr",
     "output_type": "stream",
     "text": [
      " 44%|████▎     | 475/1090 [01:11<01:27,  7.06it/s]"
     ]
    },
    {
     "name": "stdout",
     "output_type": "stream",
     "text": [
      "Executed: \n",
      "            MATCH (a {name: 'Taryn Southern'}),\n",
      "                  (b {name: 'Saks Fifth Avenue'})\n",
      " ...\n",
      "Executed: \n",
      "            MATCH (a {name: 'Victoria Giardina'}),\n",
      "                  (b {name: 'La Roche-Posay'})\n",
      " ...\n"
     ]
    },
    {
     "name": "stderr",
     "output_type": "stream",
     "text": [
      " 44%|████▍     | 477/1090 [01:11<01:25,  7.16it/s]"
     ]
    },
    {
     "name": "stdout",
     "output_type": "stream",
     "text": [
      "Executed: \n",
      "            MATCH (a {name: 'Post Wanted by the New York Post'}),\n",
      "                  (b {name: 'Elec...\n",
      "Executed: \n",
      "            MATCH (a {name: 'New York Post'}),\n",
      "                  (b {name: 'SUNFLOW'})\n",
      "            ...\n"
     ]
    },
    {
     "name": "stderr",
     "output_type": "stream",
     "text": [
      " 44%|████▍     | 479/1090 [01:12<01:43,  5.93it/s]"
     ]
    },
    {
     "name": "stdout",
     "output_type": "stream",
     "text": [
      "Executed: \n",
      "            MATCH (a {name: 'Logan Foley'}),\n",
      "                  (b {name: 'The Sleep Foundation'})\n",
      " ...\n",
      "Executed: \n",
      "            MATCH (a {name: 'Kylie Jenner'}),\n",
      "                  (b {name: 'Kylie Cosmetics'})\n",
      "     ...\n"
     ]
    },
    {
     "name": "stderr",
     "output_type": "stream",
     "text": [
      " 44%|████▍     | 481/1090 [01:12<01:33,  6.49it/s]"
     ]
    },
    {
     "name": "stdout",
     "output_type": "stream",
     "text": [
      "Executed: \n",
      "            MATCH (a {name: 'Samantha Ravndahl'}),\n",
      "                  (b {name: 'Morphe'})\n",
      "         ...\n",
      "Executed: \n",
      "            MATCH (a {name: 'Huda Kattan'}),\n",
      "                  (b {name: 'Huda Beauty'})\n",
      "          ...\n"
     ]
    },
    {
     "name": "stderr",
     "output_type": "stream",
     "text": [
      " 44%|████▍     | 483/1090 [01:12<01:36,  6.30it/s]"
     ]
    },
    {
     "name": "stdout",
     "output_type": "stream",
     "text": [
      "Executed: \n",
      "            MATCH (a {name: 'Camila Cabello'}),\n",
      "                  (b {name: 'L\\'Oreal'})\n",
      "          ...\n",
      "Executed: \n",
      "            MATCH (a {name: 'Taylor Swift'}),\n",
      "                  (b {name: 'Popflex'})\n",
      "            M...\n"
     ]
    },
    {
     "name": "stderr",
     "output_type": "stream",
     "text": [
      " 44%|████▍     | 485/1090 [01:12<01:35,  6.34it/s]"
     ]
    },
    {
     "name": "stdout",
     "output_type": "stream",
     "text": [
      "Executed: \n",
      "            MATCH (a {name: 'Taylor Swift'}),\n",
      "                  (b {name: 'Halara'})\n",
      "            ME...\n",
      "Executed: \n",
      "            MATCH (a {name: 'Taylor Swift'}),\n",
      "                  (b {name: 'House of CB'})\n",
      "         ...\n"
     ]
    },
    {
     "name": "stderr",
     "output_type": "stream",
     "text": [
      " 45%|████▍     | 487/1090 [01:13<01:28,  6.78it/s]"
     ]
    },
    {
     "name": "stdout",
     "output_type": "stream",
     "text": [
      "Executed: \n",
      "            MATCH (a {name: 'Veronica'}),\n",
      "                  (b {name: 'Princess Cruises'})\n",
      "        ...\n",
      "Executed: \n",
      "            MATCH (a {name: 'Jessica Alba'}),\n",
      "                  (b {name: 'Reformation'})\n",
      "         ...\n"
     ]
    },
    {
     "name": "stderr",
     "output_type": "stream",
     "text": [
      "\r 45%|████▍     | 488/1090 [01:13<01:40,  6.02it/s]"
     ]
    },
    {
     "name": "stdout",
     "output_type": "stream",
     "text": [
      "Executed: \n",
      "            MATCH (a {name: 'Jessica Alba'}),\n",
      "                  (b {name: 'Outdoor Voices'})\n",
      "      ...\n"
     ]
    },
    {
     "name": "stderr",
     "output_type": "stream",
     "text": [
      "\r 45%|████▍     | 489/1090 [01:13<02:22,  4.22it/s]"
     ]
    },
    {
     "name": "stdout",
     "output_type": "stream",
     "text": [
      "Executed: \n",
      "            MATCH (a {name: 'Lizush'}),\n",
      "                  (b {name: 'Brand'})\n",
      "            MERGE (a)...\n"
     ]
    },
    {
     "name": "stderr",
     "output_type": "stream",
     "text": [
      "\r 45%|████▍     | 490/1090 [01:14<02:34,  3.89it/s]"
     ]
    },
    {
     "name": "stdout",
     "output_type": "stream",
     "text": [
      "Executed: \n",
      "            MATCH (a {name: 'ArtPix'}),\n",
      "                  (b {name: 'Brand'})\n",
      "            MERGE (a)...\n"
     ]
    },
    {
     "name": "stderr",
     "output_type": "stream",
     "text": [
      "\r 45%|████▌     | 491/1090 [01:14<02:25,  4.11it/s]"
     ]
    },
    {
     "name": "stdout",
     "output_type": "stream",
     "text": [
      "Executed: \n",
      "            MATCH (a {name: 'Adyrescia'}),\n",
      "                  (b {name: 'Brand'})\n",
      "            MERGE ...\n"
     ]
    },
    {
     "name": "stderr",
     "output_type": "stream",
     "text": [
      " 45%|████▌     | 493/1090 [01:14<02:22,  4.18it/s]"
     ]
    },
    {
     "name": "stdout",
     "output_type": "stream",
     "text": [
      "Executed: \n",
      "            MATCH (a {name: 'Tanming'}),\n",
      "                  (b {name: 'Brand'})\n",
      "            MERGE (a...\n",
      "Executed: \n",
      "            MATCH (a {name: 'Ellis Brooklyn FLORIST'}),\n",
      "                  (b {name: 'Brand'})\n",
      "     ...\n"
     ]
    },
    {
     "name": "stderr",
     "output_type": "stream",
     "text": [
      " 45%|████▌     | 495/1090 [01:15<02:00,  4.95it/s]"
     ]
    },
    {
     "name": "stdout",
     "output_type": "stream",
     "text": [
      "Executed: \n",
      "            MATCH (a {name: 'L\\'Occitane'}),\n",
      "                  (b {name: 'Brand'})\n",
      "            MERG...\n",
      "Executed: \n",
      "            MATCH (a {name: 'Eberjey'}),\n",
      "                  (b {name: 'Brand'})\n",
      "            MERGE (a...\n"
     ]
    },
    {
     "name": "stderr",
     "output_type": "stream",
     "text": [
      " 46%|████▌     | 497/1090 [01:15<01:43,  5.76it/s]"
     ]
    },
    {
     "name": "stdout",
     "output_type": "stream",
     "text": [
      "Executed: \n",
      "            MATCH (a {name: 'Eleanor Mills'}),\n",
      "                  (b {name: 'CFTC'})\n",
      "            MER...\n",
      "Executed: \n",
      "            MATCH (a {name: 'David Sacks'}),\n",
      "                  (b {name: 'Vance'})\n",
      "            MERG...\n"
     ]
    },
    {
     "name": "stderr",
     "output_type": "stream",
     "text": [
      "\r 46%|████▌     | 498/1090 [01:15<01:42,  5.75it/s]"
     ]
    },
    {
     "name": "stdout",
     "output_type": "stream",
     "text": [
      "Executed: \n",
      "            MATCH (a {name: 'Nikita Dragun'}),\n",
      "                  (b {name: 'Dragun Beauty'})\n",
      "      ...\n"
     ]
    },
    {
     "name": "stderr",
     "output_type": "stream",
     "text": [
      "\r 46%|████▌     | 499/1090 [01:15<01:50,  5.33it/s]"
     ]
    },
    {
     "name": "stdout",
     "output_type": "stream",
     "text": [
      "Executed: \n",
      "            MATCH (a {name: 'Zoe Sugg'}),\n",
      "                  (b {name: 'Zoella Beauty'})\n",
      "           ...\n"
     ]
    },
    {
     "name": "stderr",
     "output_type": "stream",
     "text": [
      " 46%|████▌     | 501/1090 [01:16<01:43,  5.70it/s]"
     ]
    },
    {
     "name": "stdout",
     "output_type": "stream",
     "text": [
      "Executed: \n",
      "            MATCH (a {name: 'Hochul'}),\n",
      "                  (b {name: 'New York Democrats'})\n",
      "        ...\n",
      "Executed: \n",
      "            MATCH (a {name: 'David Beckham'}),\n",
      "                  (b {name: 'Authentic Brands Group'...\n"
     ]
    },
    {
     "name": "stderr",
     "output_type": "stream",
     "text": [
      " 46%|████▌     | 503/1090 [01:16<01:31,  6.41it/s]"
     ]
    },
    {
     "name": "stdout",
     "output_type": "stream",
     "text": [
      "Executed: \n",
      "            MATCH (a {name: 'John Podesta'}),\n",
      "                  (b {name: 'ExxonMobil'})\n",
      "          ...\n",
      "Executed: \n",
      "            MATCH (a {name: 'Joe Manchin'}),\n",
      "                  (b {name: 'Chevron'})\n",
      "            ME...\n"
     ]
    },
    {
     "name": "stderr",
     "output_type": "stream",
     "text": [
      " 46%|████▋     | 505/1090 [01:16<01:30,  6.47it/s]"
     ]
    },
    {
     "name": "stdout",
     "output_type": "stream",
     "text": [
      "Executed: \n",
      "            MATCH (a {name: 'Jennifer Siebel Newsom'}),\n",
      "                  (b {name: 'Pinterest, Ses...\n",
      "Executed: \n",
      "            MATCH (a {name: 'Jordan E. Cooper'}),\n",
      "                  (b {name: 'Ms. Pat'})\n",
      "         ...\n"
     ]
    },
    {
     "name": "stderr",
     "output_type": "stream",
     "text": [
      " 47%|████▋     | 507/1090 [01:17<01:28,  6.62it/s]"
     ]
    },
    {
     "name": "stdout",
     "output_type": "stream",
     "text": [
      "Executed: \n",
      "            MATCH (a {name: 'Jordan E. Cooper'}),\n",
      "                  (b {name: 'South Park'})\n",
      "      ...\n",
      "Executed: \n",
      "            MATCH (a {name: 'Joe Biden'}),\n",
      "                  (b {name: 'China'})\n",
      "            MERGE ...\n"
     ]
    },
    {
     "name": "stderr",
     "output_type": "stream",
     "text": [
      " 47%|████▋     | 509/1090 [01:17<01:23,  6.96it/s]"
     ]
    },
    {
     "name": "stdout",
     "output_type": "stream",
     "text": [
      "Executed: \n",
      "            MATCH (a {name: 'Joe Biden'}),\n",
      "                  (b {name: 'China'})\n",
      "            MERGE ...\n",
      "Executed: \n",
      "            MATCH (a {name: 'Brad Elkins'}),\n",
      "                  (b {name: 'Higher Ground Labs'})\n",
      "   ...\n"
     ]
    },
    {
     "name": "stderr",
     "output_type": "stream",
     "text": [
      " 47%|████▋     | 511/1090 [01:17<01:24,  6.85it/s]"
     ]
    },
    {
     "name": "stdout",
     "output_type": "stream",
     "text": [
      "Executed: \n",
      "            MATCH (a {name: 'Adam Schiff'}),\n",
      "                  (b {name: 'Quiller'})\n",
      "            ME...\n",
      "Executed: \n",
      "            MATCH (a {name: 'Daniel de Visé'}),\n",
      "                  (b {name: 'USA TODAY'})\n",
      "        ...\n"
     ]
    },
    {
     "name": "stderr",
     "output_type": "stream",
     "text": [
      " 47%|████▋     | 513/1090 [01:17<01:24,  6.83it/s]"
     ]
    },
    {
     "name": "stdout",
     "output_type": "stream",
     "text": [
      "Executed: \n",
      "            MATCH (a {name: 'Home Solutions'}),\n",
      "                  (b {name: 'Homefront Local'})\n",
      "   ...\n",
      "Executed: \n",
      "            MATCH (a {name: 'Homefront Local team'}),\n",
      "                  (b {name: 'USA TODAY'})\n",
      "   ...\n"
     ]
    },
    {
     "name": "stderr",
     "output_type": "stream",
     "text": [
      " 47%|████▋     | 515/1090 [01:18<01:20,  7.17it/s]"
     ]
    },
    {
     "name": "stdout",
     "output_type": "stream",
     "text": [
      "Executed: \n",
      "            MATCH (a {name: 'Home Solutions'}),\n",
      "                  (b {name: 'Homefront Local'})\n",
      "   ...\n",
      "Executed: \n",
      "            MATCH (a {name: 'Home Solutions'}),\n",
      "                  (b {name: 'Homefront Local'})\n",
      "   ...\n"
     ]
    },
    {
     "name": "stderr",
     "output_type": "stream",
     "text": [
      " 47%|████▋     | 517/1090 [01:18<01:19,  7.25it/s]"
     ]
    },
    {
     "name": "stdout",
     "output_type": "stream",
     "text": [
      "Executed: \n",
      "            MATCH (a {name: 'Home Solutions'}),\n",
      "                  (b {name: 'Homefront Local'})\n",
      "   ...\n",
      "Executed: \n",
      "            MATCH (a {name: 'Homefront Local team'}),\n",
      "                  (b {name: 'USA TODAY and Ho...\n"
     ]
    },
    {
     "name": "stderr",
     "output_type": "stream",
     "text": [
      " 48%|████▊     | 519/1090 [01:18<01:17,  7.38it/s]"
     ]
    },
    {
     "name": "stdout",
     "output_type": "stream",
     "text": [
      "Executed: \n",
      "            MATCH (a {name: 'Homefront Local team'}),\n",
      "                  (b {name: 'USA TODAY'})\n",
      "   ...\n",
      "Executed: \n",
      "            MATCH (a {name: 'LeBron James'}),\n",
      "                  (b {name: 'Nike'})\n",
      "            MERG...\n"
     ]
    },
    {
     "name": "stderr",
     "output_type": "stream",
     "text": [
      " 48%|████▊     | 521/1090 [01:19<01:21,  7.02it/s]"
     ]
    },
    {
     "name": "stdout",
     "output_type": "stream",
     "text": [
      "Executed: \n",
      "            MATCH (a {name: 'Taylor Swift'}),\n",
      "                  (b {name: 'Capital One'})\n",
      "         ...\n",
      "Executed: \n",
      "            MATCH (a {name: 'Keanu Reeves'}),\n",
      "                  (b {name: 'Arch Motorcycle'})\n",
      "     ...\n"
     ]
    },
    {
     "name": "stderr",
     "output_type": "stream",
     "text": [
      " 48%|████▊     | 523/1090 [01:19<01:17,  7.32it/s]"
     ]
    },
    {
     "name": "stdout",
     "output_type": "stream",
     "text": [
      "Executed: \n",
      "            MATCH (a {name: 'Homefront Local team'}),\n",
      "                  (b {name: 'USA TODAY'})\n",
      "   ...\n",
      "Executed: \n",
      "            MATCH (a {name: 'Home Solutions'}),\n",
      "                  (b {name: 'Homefront Local'})\n",
      "   ...\n"
     ]
    },
    {
     "name": "stderr",
     "output_type": "stream",
     "text": [
      " 48%|████▊     | 525/1090 [01:19<01:19,  7.13it/s]"
     ]
    },
    {
     "name": "stdout",
     "output_type": "stream",
     "text": [
      "Executed: \n",
      "            MATCH (a {name: 'Homefront Local team'}),\n",
      "                  (b {name: 'RSMeans'})\n",
      "     ...\n",
      "Executed: \n",
      "            MATCH (a {name: 'Homefront Local team'}),\n",
      "                  (b {name: 'USA TODAY and Ho...\n"
     ]
    },
    {
     "name": "stderr",
     "output_type": "stream",
     "text": [
      " 48%|████▊     | 527/1090 [01:19<01:17,  7.31it/s]"
     ]
    },
    {
     "name": "stdout",
     "output_type": "stream",
     "text": [
      "Executed: \n",
      "            MATCH (a {name: 'Home Solutions'}),\n",
      "                  (b {name: 'Homefront'})\n",
      "         ...\n",
      "Executed: \n",
      "            MATCH (a {name: 'Homefront Local team'}),\n",
      "                  (b {name: 'USA TODAY and Ho...\n"
     ]
    },
    {
     "name": "stderr",
     "output_type": "stream",
     "text": [
      " 49%|████▊     | 529/1090 [01:20<01:14,  7.51it/s]"
     ]
    },
    {
     "name": "stdout",
     "output_type": "stream",
     "text": [
      "Executed: \n",
      "            MATCH (a {name: 'Homefront Local team'}),\n",
      "                  (b {name: 'USA TODAY and Ho...\n",
      "Executed: \n",
      "            MATCH (a {name: 'Homefront Local team'}),\n",
      "                  (b {name: 'USA TODAY'})\n",
      "   ...\n"
     ]
    },
    {
     "name": "stderr",
     "output_type": "stream",
     "text": [
      " 49%|████▊     | 531/1090 [01:20<01:13,  7.59it/s]"
     ]
    },
    {
     "name": "stdout",
     "output_type": "stream",
     "text": [
      "Executed: \n",
      "            MATCH (a {name: 'Homefront Local team'}),\n",
      "                  (b {name: 'USA TODAY and Ho...\n",
      "Executed: \n",
      "            MATCH (a {name: 'Homefront Local team'}),\n",
      "                  (b {name: 'USA TODAY and Ho...\n"
     ]
    },
    {
     "name": "stderr",
     "output_type": "stream",
     "text": [
      " 49%|████▉     | 533/1090 [01:20<01:12,  7.64it/s]"
     ]
    },
    {
     "name": "stdout",
     "output_type": "stream",
     "text": [
      "Executed: \n",
      "            MATCH (a {name: 'Home Solutions'}),\n",
      "                  (b {name: 'Homefront'})\n",
      "         ...\n",
      "Executed: \n",
      "            MATCH (a {name: 'Homefront Local team'}),\n",
      "                  (b {name: 'USA TODAY'})\n",
      "   ...\n"
     ]
    },
    {
     "name": "stderr",
     "output_type": "stream",
     "text": [
      " 49%|████▉     | 535/1090 [01:20<01:12,  7.64it/s]"
     ]
    },
    {
     "name": "stdout",
     "output_type": "stream",
     "text": [
      "Executed: \n",
      "            MATCH (a {name: 'Homefront Local team'}),\n",
      "                  (b {name: 'USA TODAY'})\n",
      "   ...\n",
      "Executed: \n",
      "            MATCH (a {name: 'Homefront Local team'}),\n",
      "                  (b {name: 'USA TODAY'})\n",
      "   ...\n"
     ]
    },
    {
     "name": "stderr",
     "output_type": "stream",
     "text": [
      " 49%|████▉     | 537/1090 [01:21<01:13,  7.49it/s]"
     ]
    },
    {
     "name": "stdout",
     "output_type": "stream",
     "text": [
      "Executed: \n",
      "            MATCH (a {name: 'Sarahâ€™s Day'}),\n",
      "                  (b {name: 'The Good Place'})\n",
      "     ...\n",
      "Executed: \n",
      "            MATCH (a {name: 'Tessa Brooks'}),\n",
      "                  (b {name: 'Nasty Gal'})\n",
      "           ...\n"
     ]
    },
    {
     "name": "stderr",
     "output_type": "stream",
     "text": [
      " 49%|████▉     | 539/1090 [01:21<01:13,  7.54it/s]"
     ]
    },
    {
     "name": "stdout",
     "output_type": "stream",
     "text": [
      "Executed: \n",
      "            MATCH (a {name: 'Homefront Local team'}),\n",
      "                  (b {name: 'USA TODAY and Ho...\n",
      "Executed: \n",
      "            MATCH (a {name: 'Home Solutions'}),\n",
      "                  (b {name: 'Homefront'})\n",
      "         ...\n"
     ]
    },
    {
     "name": "stderr",
     "output_type": "stream",
     "text": [
      " 50%|████▉     | 541/1090 [01:21<01:16,  7.16it/s]"
     ]
    },
    {
     "name": "stdout",
     "output_type": "stream",
     "text": [
      "Executed: \n",
      "            MATCH (a {name: 'Homefront Local team'}),\n",
      "                  (b {name: 'USA TODAY'})\n",
      "   ...\n",
      "Executed: \n",
      "            MATCH (a {name: 'Chiara Ferragni'}),\n",
      "                  (b {name: 'Prada'})\n",
      "            ...\n"
     ]
    },
    {
     "name": "stderr",
     "output_type": "stream",
     "text": [
      "\r 50%|████▉     | 542/1090 [01:21<01:19,  6.87it/s]"
     ]
    },
    {
     "name": "stdout",
     "output_type": "stream",
     "text": [
      "Executed: \n",
      "            MATCH (a {name: 'Danielle Peazer'}),\n",
      "                  (b {name: 'ASOS'})\n",
      "            M...\n"
     ]
    },
    {
     "name": "stderr",
     "output_type": "stream",
     "text": [
      " 50%|████▉     | 544/1090 [01:22<01:29,  6.08it/s]"
     ]
    },
    {
     "name": "stdout",
     "output_type": "stream",
     "text": [
      "Executed: \n",
      "            MATCH (a {name: 'Homefront Local team'}),\n",
      "                  (b {name: 'USA TODAY'})\n",
      "   ...\n",
      "Executed: \n",
      "            MATCH (a {name: 'Homefront Local team'}),\n",
      "                  (b {name: 'USA TODAY'})\n",
      "   ...\n"
     ]
    },
    {
     "name": "stderr",
     "output_type": "stream",
     "text": [
      " 50%|█████     | 546/1090 [01:22<01:22,  6.62it/s]"
     ]
    },
    {
     "name": "stdout",
     "output_type": "stream",
     "text": [
      "Executed: \n",
      "            MATCH (a {name: 'Homefront Local team'}),\n",
      "                  (b {name: 'USA TODAY'})\n",
      "   ...\n",
      "Executed: \n",
      "            MATCH (a {name: 'Homefront Local team'}),\n",
      "                  (b {name: 'USA TODAY'})\n",
      "   ...\n"
     ]
    },
    {
     "name": "stderr",
     "output_type": "stream",
     "text": [
      " 50%|█████     | 548/1090 [01:22<01:15,  7.14it/s]"
     ]
    },
    {
     "name": "stdout",
     "output_type": "stream",
     "text": [
      "Executed: \n",
      "            MATCH (a {name: 'Home Solutions'}),\n",
      "                  (b {name: 'Homefront Local'})\n",
      "   ...\n",
      "Executed: \n",
      "            MATCH (a {name: 'Homefront Local team'}),\n",
      "                  (b {name: 'USA TODAY and Ho...\n"
     ]
    },
    {
     "name": "stderr",
     "output_type": "stream",
     "text": [
      " 50%|█████     | 550/1090 [01:23<01:13,  7.33it/s]"
     ]
    },
    {
     "name": "stdout",
     "output_type": "stream",
     "text": [
      "Executed: \n",
      "            MATCH (a {name: 'Home Solutions'}),\n",
      "                  (b {name: 'Homefront'})\n",
      "         ...\n",
      "Executed: \n",
      "            MATCH (a {name: 'Homefront Local team'}),\n",
      "                  (b {name: 'USA TODAY'})\n",
      "   ...\n"
     ]
    },
    {
     "name": "stderr",
     "output_type": "stream",
     "text": [
      " 51%|█████     | 552/1090 [01:23<01:11,  7.48it/s]"
     ]
    },
    {
     "name": "stdout",
     "output_type": "stream",
     "text": [
      "Executed: \n",
      "            MATCH (a {name: 'Home Solutions'}),\n",
      "                  (b {name: 'Homefront Local'})\n",
      "   ...\n",
      "Executed: \n",
      "            MATCH (a {name: 'Homefront Local team'}),\n",
      "                  (b {name: 'USA TODAY and Ho...\n"
     ]
    },
    {
     "name": "stderr",
     "output_type": "stream",
     "text": [
      " 51%|█████     | 554/1090 [01:23<01:10,  7.59it/s]"
     ]
    },
    {
     "name": "stdout",
     "output_type": "stream",
     "text": [
      "Executed: \n",
      "            MATCH (a {name: 'Homefront Local team'}),\n",
      "                  (b {name: 'USA TODAY'})\n",
      "   ...\n",
      "Executed: \n",
      "            MATCH (a {name: 'Homefront Local team'}),\n",
      "                  (b {name: 'USA TODAY'})\n",
      "   ...\n"
     ]
    },
    {
     "name": "stderr",
     "output_type": "stream",
     "text": [
      " 51%|█████     | 556/1090 [01:23<01:10,  7.53it/s]"
     ]
    },
    {
     "name": "stdout",
     "output_type": "stream",
     "text": [
      "Executed: \n",
      "            MATCH (a {name: 'Homefront Local team'}),\n",
      "                  (b {name: 'USA TODAY'})\n",
      "   ...\n",
      "Executed: \n",
      "            MATCH (a {name: 'Homefront Local team'}),\n",
      "                  (b {name: 'RSMeans'})\n",
      "     ...\n"
     ]
    },
    {
     "name": "stderr",
     "output_type": "stream",
     "text": [
      " 51%|█████     | 558/1090 [01:24<01:14,  7.14it/s]"
     ]
    },
    {
     "name": "stdout",
     "output_type": "stream",
     "text": [
      "Executed: \n",
      "            MATCH (a {name: 'Brooke and Jasmeet'}),\n",
      "                  (b {name: 'USA TODAY'})\n",
      "     ...\n",
      "Executed: \n",
      "            MATCH (a {name: 'Nvidia'}),\n",
      "                  (b {name: 'Morningstar'})\n",
      "            MER...\n"
     ]
    },
    {
     "name": "stderr",
     "output_type": "stream",
     "text": [
      " 51%|█████▏    | 560/1090 [01:24<01:19,  6.65it/s]"
     ]
    },
    {
     "name": "stdout",
     "output_type": "stream",
     "text": [
      "Executed: \n",
      "            MATCH (a {name: 'Citibank'}),\n",
      "                  (b {name: 'influencer_name'})\n",
      "         ...\n",
      "Executed: \n",
      "            MATCH (a {name: 'Small Business Owners Association'}),\n",
      "                  (b {name: 'Ame...\n"
     ]
    },
    {
     "name": "stderr",
     "output_type": "stream",
     "text": [
      " 52%|█████▏    | 562/1090 [01:24<01:16,  6.93it/s]"
     ]
    },
    {
     "name": "stdout",
     "output_type": "stream",
     "text": [
      "Executed: \n",
      "            MATCH (a {name: 'Kevin Kwan'}),\n",
      "                  (b {name: 'Amazon Books'})\n",
      "          ...\n",
      "Executed: \n",
      "            MATCH (a {name: 'Amie'}),\n",
      "                  (b {name: 'USA TODAY'})\n",
      "            MERGE (...\n"
     ]
    },
    {
     "name": "stderr",
     "output_type": "stream",
     "text": [
      " 52%|█████▏    | 564/1090 [01:25<01:16,  6.88it/s]"
     ]
    },
    {
     "name": "stdout",
     "output_type": "stream",
     "text": [
      "Executed: \n",
      "            MATCH (a {name: 'Coinbase'}),\n",
      "                  (b {name: 'SEC'})\n",
      "            MERGE (a)...\n",
      "Executed: \n",
      "            MATCH (a {name: 'Binance.US'}),\n",
      "                  (b {name: 'CFTC'})\n",
      "            MERGE ...\n"
     ]
    },
    {
     "name": "stderr",
     "output_type": "stream",
     "text": [
      " 52%|█████▏    | 566/1090 [01:25<01:16,  6.83it/s]"
     ]
    },
    {
     "name": "stdout",
     "output_type": "stream",
     "text": [
      "Executed: \n",
      "            MATCH (a {name: 'Your Name'}),\n",
      "                  (b {name: 'Custodial IRA Provider'})\n",
      " ...\n",
      "Executed: \n",
      "            MATCH (a {name: 'Colleen Ballinger'}),\n",
      "                  (b {name: 'Netflix'})\n",
      "        ...\n"
     ]
    },
    {
     "name": "stderr",
     "output_type": "stream",
     "text": [
      " 52%|█████▏    | 568/1090 [01:25<01:13,  7.08it/s]"
     ]
    },
    {
     "name": "stdout",
     "output_type": "stream",
     "text": [
      "Executed: \n",
      "            MATCH (a {name: 'Alisha Marie'}),\n",
      "                  (b {name: 'Target'})\n",
      "            ME...\n",
      "Executed: \n",
      "            MATCH (a {name: 'Julie Stephen Sherrier'}),\n",
      "                  (b {name: 'LendingTree'})...\n"
     ]
    },
    {
     "name": "stderr",
     "output_type": "stream",
     "text": [
      " 52%|█████▏    | 570/1090 [01:25<01:13,  7.04it/s]"
     ]
    },
    {
     "name": "stdout",
     "output_type": "stream",
     "text": [
      "Executed: \n",
      "            MATCH (a {name: 'Allie'}),\n",
      "                  (b {name: 'Bankrate'})\n",
      "            MERGE (...\n",
      "Executed: \n",
      "            MATCH (a {name: 'Robin Saks Frankel'}),\n",
      "                  (b {name: 'USA TODAY Blueprin...\n"
     ]
    },
    {
     "name": "stderr",
     "output_type": "stream",
     "text": [
      " 52%|█████▏    | 572/1090 [01:26<01:12,  7.18it/s]"
     ]
    },
    {
     "name": "stdout",
     "output_type": "stream",
     "text": [
      "Executed: \n",
      "            MATCH (a {name: 'Sunghye Park'}),\n",
      "                  (b {name: 'FIT'})\n",
      "            MERGE...\n",
      "Executed: \n",
      "            MATCH (a {name: 'Mara Hoffman'}),\n",
      "                  (b {name: 'Macy\\'s'})\n",
      "            M...\n"
     ]
    },
    {
     "name": "stderr",
     "output_type": "stream",
     "text": [
      " 53%|█████▎    | 574/1090 [01:26<01:15,  6.84it/s]"
     ]
    },
    {
     "name": "stdout",
     "output_type": "stream",
     "text": [
      "Executed: \n",
      "            MATCH (a {name: 'Napster'}),\n",
      "                  (b {name: 'Rhapsody music service'})\n",
      "   ...\n",
      "Executed: \n",
      "            MATCH (a {name: 'Napster'}),\n",
      "                  (b {name: 'Best Buy'})\n",
      "            MERGE...\n"
     ]
    },
    {
     "name": "stderr",
     "output_type": "stream",
     "text": [
      " 53%|█████▎    | 576/1090 [01:26<01:12,  7.06it/s]"
     ]
    },
    {
     "name": "stdout",
     "output_type": "stream",
     "text": [
      "Executed: \n",
      "            MATCH (a {name: 'Napster'}),\n",
      "                  (b {name: 'MelodyVR'})\n",
      "            MERGE...\n",
      "Executed: \n",
      "            MATCH (a {name: 'Citi Rewards+® Card'}),\n",
      "                  (b {name: 'ThankYou Rewards'...\n"
     ]
    },
    {
     "name": "stderr",
     "output_type": "stream",
     "text": [
      " 53%|█████▎    | 578/1090 [01:27<01:11,  7.19it/s]"
     ]
    },
    {
     "name": "stdout",
     "output_type": "stream",
     "text": [
      "Executed: \n",
      "            MATCH (a {name: 'Citi Double Cash® Card'}),\n",
      "                  (b {name: 'ThankYou Rewar...\n",
      "Executed: \n",
      "            MATCH (a {name: 'Citi Custom Cash® Card'}),\n",
      "                  (b {name: 'ThankYou Rewar...\n"
     ]
    },
    {
     "name": "stderr",
     "output_type": "stream",
     "text": [
      " 53%|█████▎    | 580/1090 [01:27<01:10,  7.25it/s]"
     ]
    },
    {
     "name": "stdout",
     "output_type": "stream",
     "text": [
      "Executed: \n",
      "            MATCH (a {name: 'Citi Strata Premier℠ Card'}),\n",
      "                  (b {name: 'ThankYou Re...\n",
      "Executed: \n",
      "            MATCH (a {name: 'AT&T Points Plus® Card from Citi'}),\n",
      "                  (b {name: 'Than...\n"
     ]
    },
    {
     "name": "stderr",
     "output_type": "stream",
     "text": [
      " 53%|█████▎    | 582/1090 [01:27<01:10,  7.25it/s]"
     ]
    },
    {
     "name": "stdout",
     "output_type": "stream",
     "text": [
      "Executed: \n",
      "            MATCH (a {name: 'Emma Smith'}),\n",
      "                  (b {name: 'MAC Cosmetics'})\n",
      "         ...\n",
      "Executed: \n",
      "            MATCH (a {name: 'Blueprint'}),\n",
      "                  (b {name: 'Citi'})\n",
      "            MERGE (...\n"
     ]
    },
    {
     "name": "stderr",
     "output_type": "stream",
     "text": [
      " 54%|█████▎    | 584/1090 [01:27<01:12,  6.94it/s]"
     ]
    },
    {
     "name": "stdout",
     "output_type": "stream",
     "text": [
      "Executed: \n",
      "            MATCH (a {name: 'ISABEL BLOOM'}),\n",
      "                  (b {name: 'OREO'})\n",
      "            MERG...\n",
      "Executed: \n",
      "            MATCH (a {name: 'Keck'}),\n",
      "                  (b {name: 'pest control company'})\n",
      "        ...\n"
     ]
    },
    {
     "name": "stderr",
     "output_type": "stream",
     "text": [
      " 54%|█████▍    | 586/1090 [01:28<01:12,  6.95it/s]"
     ]
    },
    {
     "name": "stdout",
     "output_type": "stream",
     "text": [
      "Executed: \n",
      "            MATCH (a {name: 'Marques Brownlee'}),\n",
      "                  (b {name: 'Samsung'})\n",
      "         ...\n",
      "Executed: \n",
      "            MATCH (a {name: 'Lilly Singh'}),\n",
      "                  (b {name: 'Instacart'})\n",
      "            ...\n"
     ]
    },
    {
     "name": "stderr",
     "output_type": "stream",
     "text": [
      " 54%|█████▍    | 588/1090 [01:28<01:08,  7.28it/s]"
     ]
    },
    {
     "name": "stdout",
     "output_type": "stream",
     "text": [
      "Executed: \n",
      "            MATCH (a {name: 'Home Solutions'}),\n",
      "                  (b {name: 'Homefront Local'})\n",
      "   ...\n",
      "Executed: \n",
      "            MATCH (a {name: 'Home Solutions'}),\n",
      "                  (b {name: 'Homefront Local'})\n",
      "   ...\n"
     ]
    },
    {
     "name": "stderr",
     "output_type": "stream",
     "text": [
      " 54%|█████▍    | 590/1090 [01:28<01:07,  7.45it/s]"
     ]
    },
    {
     "name": "stdout",
     "output_type": "stream",
     "text": [
      "Executed: \n",
      "            MATCH (a {name: 'Homefront Local team'}),\n",
      "                  (b {name: 'USA TODAY and Ho...\n",
      "Executed: \n",
      "            MATCH (a {name: 'Home Solutions'}),\n",
      "                  (b {name: 'Homefront'})\n",
      "         ...\n"
     ]
    },
    {
     "name": "stderr",
     "output_type": "stream",
     "text": [
      " 54%|█████▍    | 592/1090 [01:28<01:06,  7.46it/s]"
     ]
    },
    {
     "name": "stdout",
     "output_type": "stream",
     "text": [
      "Executed: \n",
      "            MATCH (a {name: 'Home Solutions'}),\n",
      "                  (b {name: 'Homefront Local'})\n",
      "   ...\n",
      "Executed: \n",
      "            MATCH (a {name: 'Demi Lovato'}),\n",
      "                  (b {name: 'Fabletics'})\n",
      "            ...\n"
     ]
    },
    {
     "name": "stderr",
     "output_type": "stream",
     "text": [
      " 54%|█████▍    | 594/1090 [01:29<01:05,  7.52it/s]"
     ]
    },
    {
     "name": "stdout",
     "output_type": "stream",
     "text": [
      "Executed: \n",
      "            MATCH (a {name: 'Home Solutions'}),\n",
      "                  (b {name: 'Homefront Local'})\n",
      "   ...\n",
      "Executed: \n",
      "            MATCH (a {name: 'Home Solutions'}),\n",
      "                  (b {name: 'Homefront Local'})\n",
      "   ...\n"
     ]
    },
    {
     "name": "stderr",
     "output_type": "stream",
     "text": [
      " 55%|█████▍    | 596/1090 [01:29<01:04,  7.60it/s]"
     ]
    },
    {
     "name": "stdout",
     "output_type": "stream",
     "text": [
      "Executed: \n",
      "            MATCH (a {name: 'Home Solutions'}),\n",
      "                  (b {name: 'Homefront Local'})\n",
      "   ...\n",
      "Executed: \n",
      "            MATCH (a {name: 'Homefront Local team'}),\n",
      "                  (b {name: 'USA TODAY and Ho...\n"
     ]
    },
    {
     "name": "stderr",
     "output_type": "stream",
     "text": [
      " 55%|█████▍    | 598/1090 [01:29<01:04,  7.64it/s]"
     ]
    },
    {
     "name": "stdout",
     "output_type": "stream",
     "text": [
      "Executed: \n",
      "            MATCH (a {name: 'Home Solutions'}),\n",
      "                  (b {name: 'Homefront Local'})\n",
      "   ...\n",
      "Executed: \n",
      "            MATCH (a {name: 'Home Solutions'}),\n",
      "                  (b {name: 'Homefront Local'})\n",
      "   ...\n"
     ]
    },
    {
     "name": "stderr",
     "output_type": "stream",
     "text": [
      " 55%|█████▌    | 600/1090 [01:30<01:04,  7.56it/s]"
     ]
    },
    {
     "name": "stdout",
     "output_type": "stream",
     "text": [
      "Executed: \n",
      "            MATCH (a {name: 'Home Solutions'}),\n",
      "                  (b {name: 'Homefront Local'})\n",
      "   ...\n",
      "Executed: \n",
      "            MATCH (a {name: 'Duncan Wood'}),\n",
      "                  (b {name: 'USA Today'})\n",
      "            ...\n"
     ]
    },
    {
     "name": "stderr",
     "output_type": "stream",
     "text": [
      " 55%|█████▌    | 602/1090 [01:30<01:08,  7.15it/s]"
     ]
    },
    {
     "name": "stdout",
     "output_type": "stream",
     "text": [
      "Executed: \n",
      "            MATCH (a {name: 'Addison Rae'}),\n",
      "                  (b {name: 'L\\'OrÃ©al'})\n",
      "            ...\n",
      "Executed: \n",
      "            MATCH (a {name: 'Elizabeth Weise'}),\n",
      "                  (b {name: 'USA TODAY'})\n",
      "        ...\n"
     ]
    },
    {
     "name": "stderr",
     "output_type": "stream",
     "text": [
      " 55%|█████▌    | 604/1090 [01:30<01:07,  7.23it/s]"
     ]
    },
    {
     "name": "stdout",
     "output_type": "stream",
     "text": [
      "Executed: \n",
      "            MATCH (a {name: 'USA TODAY Blueprint Insurance Editors'}),\n",
      "                  (b {name: ...\n",
      "Executed: \n",
      "            MATCH (a {name: 'USA TODAY Blueprint Insurance Editors'}),\n",
      "                  (b {name: ...\n"
     ]
    },
    {
     "name": "stderr",
     "output_type": "stream",
     "text": [
      " 56%|█████▌    | 606/1090 [01:30<01:10,  6.86it/s]"
     ]
    },
    {
     "name": "stdout",
     "output_type": "stream",
     "text": [
      "Executed: \n",
      "            MATCH (a {name: 'ian'}),\n",
      "                  (b {name: 'Home Solutions'})\n",
      "            MER...\n",
      "Executed: \n",
      "            MATCH (a {name: 'Hartig'}),\n",
      "                  (b {name: 'Corporations'})\n",
      "            ME...\n"
     ]
    },
    {
     "name": "stderr",
     "output_type": "stream",
     "text": [
      " 56%|█████▌    | 608/1090 [01:31<01:11,  6.70it/s]"
     ]
    },
    {
     "name": "stdout",
     "output_type": "stream",
     "text": [
      "Executed: \n",
      "            MATCH (a {name: 'Skallerud'}),\n",
      "                  (b {name: 'Brands'})\n",
      "            MERGE...\n",
      "Executed: \n",
      "            MATCH (a {name: 'Elizabeth Weise'}),\n",
      "                  (b {name: 'USA Today'})\n",
      "        ...\n"
     ]
    },
    {
     "name": "stderr",
     "output_type": "stream",
     "text": [
      " 56%|█████▌    | 610/1090 [01:31<01:13,  6.57it/s]"
     ]
    },
    {
     "name": "stdout",
     "output_type": "stream",
     "text": [
      "Executed: \n",
      "            MATCH (a {name: 'JPMorgan Chase'}),\n",
      "                  (b {name: 'Ally Bank'})\n",
      "         ...\n",
      "Executed: \n",
      "            MATCH (a {name: 'Chime®*'}),\n",
      "                  (b {name: 'Wells Fargo Clear Access Bank...\n"
     ]
    },
    {
     "name": "stderr",
     "output_type": "stream",
     "text": [
      " 56%|█████▌    | 612/1090 [01:31<01:11,  6.67it/s]"
     ]
    },
    {
     "name": "stdout",
     "output_type": "stream",
     "text": [
      "Executed: \n",
      "            MATCH (a {name: 'Gexa Energy'}),\n",
      "                  (b {name: 'Texas retail electricity ...\n",
      "Executed: \n",
      "            MATCH (a {name: 'Louis DeNicola'}),\n",
      "                  (b {name: 'Blueprint'})\n",
      "         ...\n"
     ]
    },
    {
     "name": "stderr",
     "output_type": "stream",
     "text": [
      " 56%|█████▋    | 614/1090 [01:32<01:10,  6.74it/s]"
     ]
    },
    {
     "name": "stdout",
     "output_type": "stream",
     "text": [
      "Executed: \n",
      "            MATCH (a {name: 'Allie'}),\n",
      "                  (b {name: 'USA TODAY Blueprint'})\n",
      "        ...\n",
      "Executed: \n",
      "            MATCH (a {name: 'Glen Luke Flanagan'}),\n",
      "                  (b {name: 'USA TODAY Blueprin...\n"
     ]
    },
    {
     "name": "stderr",
     "output_type": "stream",
     "text": [
      " 57%|█████▋    | 616/1090 [01:32<01:21,  5.80it/s]"
     ]
    },
    {
     "name": "stdout",
     "output_type": "stream",
     "text": [
      "Executed: \n",
      "            MATCH (a {name: 'Charli D\\'Amelio'}),\n",
      "                  (b {name: 'Dunkin\\' Donuts'})\n",
      " ...\n",
      "Executed: \n",
      "            MATCH (a {name: 'Anna Wintour'}),\n",
      "                  (b {name: 'Met Gala'})\n",
      "            ...\n"
     ]
    },
    {
     "name": "stderr",
     "output_type": "stream",
     "text": [
      " 57%|█████▋    | 618/1090 [01:32<01:17,  6.11it/s]"
     ]
    },
    {
     "name": "stdout",
     "output_type": "stream",
     "text": [
      "Executed: \n",
      "            MATCH (a {name: 'Vogue Editor Anna Wintour'}),\n",
      "                  (b {name: 'Met Gala'})...\n",
      "Executed: \n",
      "            MATCH (a {name: 'Georgina'}),\n",
      "                  (b {name: 'Labour Party'})\n",
      "            ...\n"
     ]
    },
    {
     "name": "stderr",
     "output_type": "stream",
     "text": [
      " 57%|█████▋    | 620/1090 [01:33<01:10,  6.68it/s]"
     ]
    },
    {
     "name": "stdout",
     "output_type": "stream",
     "text": [
      "Executed: \n",
      "            MATCH (a {name: 'Briggs'}),\n",
      "                  (b {name: 'Wu-Tang Clan'})\n",
      "            ME...\n",
      "Executed: \n",
      "            MATCH (a {name: 'Miller'}),\n",
      "                  (b {name: 'Undetectable AI'})\n",
      "           ...\n"
     ]
    },
    {
     "name": "stderr",
     "output_type": "stream",
     "text": [
      " 57%|█████▋    | 622/1090 [01:33<01:08,  6.82it/s]"
     ]
    },
    {
     "name": "stdout",
     "output_type": "stream",
     "text": [
      "Executed: \n",
      "            MATCH (a {name: 'Prof. Lynne Sneddon'}),\n",
      "                  (b {name: 'University of Liv...\n",
      "Executed: \n",
      "            MATCH (a {name: 'Dr. Diana Reiss'}),\n",
      "                  (b {name: 'City University of Ne...\n"
     ]
    },
    {
     "name": "stderr",
     "output_type": "stream",
     "text": [
      " 57%|█████▋    | 624/1090 [01:33<01:10,  6.63it/s]"
     ]
    },
    {
     "name": "stdout",
     "output_type": "stream",
     "text": [
      "Executed: \n",
      "            MATCH (a {name: 'Coralie Fargeat'}),\n",
      "                  (b {name: 'The Substance'})\n",
      "    ...\n",
      "Executed: \n",
      "            MATCH (a {name: 'Demi Moore'}),\n",
      "                  (b {name: 'The Substance'})\n",
      "         ...\n"
     ]
    },
    {
     "name": "stderr",
     "output_type": "stream",
     "text": [
      " 57%|█████▋    | 626/1090 [01:33<01:06,  6.96it/s]"
     ]
    },
    {
     "name": "stdout",
     "output_type": "stream",
     "text": [
      "Executed: \n",
      "            MATCH (a {name: 'Rosanna Pansino'}),\n",
      "                  (b {name: 'Wilton'})\n",
      "           ...\n",
      "Executed: \n",
      "            MATCH (a {name: 'J.G. Ballard'}),\n",
      "                  (b {name: 'Ambit'})\n",
      "            MER...\n"
     ]
    },
    {
     "name": "stderr",
     "output_type": "stream",
     "text": [
      " 58%|█████▊    | 628/1090 [01:34<01:06,  6.97it/s]"
     ]
    },
    {
     "name": "stdout",
     "output_type": "stream",
     "text": [
      "Executed: \n",
      "            MATCH (a {name: 'Allison Robicelli'}),\n",
      "                  (b {name: 'America\\'s Test Kit...\n",
      "Executed: \n",
      "            MATCH (a {name: 'Aaron Hutcherson'}),\n",
      "                  (b {name: 'America\\'s Test Kitc...\n"
     ]
    },
    {
     "name": "stderr",
     "output_type": "stream",
     "text": [
      " 58%|█████▊    | 630/1090 [01:34<01:04,  7.10it/s]"
     ]
    },
    {
     "name": "stdout",
     "output_type": "stream",
     "text": [
      "Executed: \n",
      "            MATCH (a {name: 'Emma Chamberlain'}),\n",
      "                  (b {name: 'Vogue'})\n",
      "           ...\n",
      "Executed: \n",
      "            MATCH (a {name: 'Dwayne Johnson'}),\n",
      "                  (b {name: 'Teremana Tequila'})\n",
      "  ...\n"
     ]
    },
    {
     "name": "stderr",
     "output_type": "stream",
     "text": [
      " 58%|█████▊    | 632/1090 [01:34<01:07,  6.75it/s]"
     ]
    },
    {
     "name": "stdout",
     "output_type": "stream",
     "text": [
      "Executed: \n",
      "            MATCH (a {name: 'Scott Newmark'}),\n",
      "                  (b {name: 'Washington Commanders'}...\n",
      "Executed: \n",
      "            MATCH (a {name: 'Cliff Smith'}),\n",
      "                  (b {name: 'Essence Magazine'})\n",
      "     ...\n"
     ]
    },
    {
     "name": "stderr",
     "output_type": "stream",
     "text": [
      " 58%|█████▊    | 634/1090 [01:35<01:06,  6.88it/s]"
     ]
    },
    {
     "name": "stdout",
     "output_type": "stream",
     "text": [
      "Executed: \n",
      "            MATCH (a {name: 'Ronn Torossian'}),\n",
      "                  (b {name: 'The Daily Beast'})\n",
      "   ...\n",
      "Executed: \n",
      "            MATCH (a {name: 'Tom Verducci'}),\n",
      "                  (b {name: 'Sports Illustrated'})\n",
      "  ...\n"
     ]
    },
    {
     "name": "stderr",
     "output_type": "stream",
     "text": [
      " 58%|█████▊    | 636/1090 [01:35<01:04,  7.08it/s]"
     ]
    },
    {
     "name": "stdout",
     "output_type": "stream",
     "text": [
      "Executed: \n",
      "            MATCH (a {name: 'Ronn Torossian'}),\n",
      "                  (b {name: 'The Washington Post'})...\n",
      "Executed: \n",
      "            MATCH (a {name: 'Charles Arrowsmith'}),\n",
      "                  (b {name: 'The New York Times...\n"
     ]
    },
    {
     "name": "stderr",
     "output_type": "stream",
     "text": [
      " 59%|█████▊    | 638/1090 [01:35<01:02,  7.23it/s]"
     ]
    },
    {
     "name": "stdout",
     "output_type": "stream",
     "text": [
      "Executed: \n",
      "            MATCH (a {name: 'Brandon Burke'}),\n",
      "                  (b {name: 'Thurst'})\n",
      "            M...\n",
      "Executed: \n",
      "            MATCH (a {name: 'Shaun Mykals'}),\n",
      "                  (b {name: 'Thurst'})\n",
      "            ME...\n"
     ]
    },
    {
     "name": "stderr",
     "output_type": "stream",
     "text": [
      " 59%|█████▊    | 640/1090 [01:35<01:05,  6.82it/s]"
     ]
    },
    {
     "name": "stdout",
     "output_type": "stream",
     "text": [
      "Executed: \n",
      "            MATCH (a {name: 'Dwight Williams III'}),\n",
      "                  (b {name: 'Blue Origin'})\n",
      "  ...\n",
      "Executed: \n",
      "            MATCH (a {name: 'Frederick Douglass'}),\n",
      "                  (b {name: 'Ebony and Jet'})\n",
      " ...\n"
     ]
    },
    {
     "name": "stderr",
     "output_type": "stream",
     "text": [
      " 59%|█████▉    | 642/1090 [01:36<01:05,  6.83it/s]"
     ]
    },
    {
     "name": "stdout",
     "output_type": "stream",
     "text": [
      "Executed: \n",
      "            MATCH (a {name: 'A. Philip Randolph'}),\n",
      "                  (b {name: 'Ebony and Jet'})\n",
      " ...\n",
      "Executed: \n",
      "            MATCH (a {name: 'Dominique Harrison'}),\n",
      "                  (b {name: 'NTIA'})\n",
      "          ...\n"
     ]
    },
    {
     "name": "stderr",
     "output_type": "stream",
     "text": [
      " 59%|█████▉    | 644/1090 [01:36<01:05,  6.82it/s]"
     ]
    },
    {
     "name": "stdout",
     "output_type": "stream",
     "text": [
      "Executed: \n",
      "            MATCH (a {name: 'I.S. Berry'}),\n",
      "                  (b {name: 'CIA'})\n",
      "            MERGE (...\n",
      "Executed: \n",
      "            MATCH (a {name: 'A\\'ja Wilson'}),\n",
      "                  (b {name: 'WNBA'})\n",
      "            MERG...\n"
     ]
    },
    {
     "name": "stderr",
     "output_type": "stream",
     "text": [
      " 59%|█████▉    | 646/1090 [01:36<01:04,  6.83it/s]"
     ]
    },
    {
     "name": "stdout",
     "output_type": "stream",
     "text": [
      "Executed: \n",
      "            MATCH (a {name: 'Brittney Griner'}),\n",
      "                  (b {name: 'WNBA'})\n",
      "            M...\n",
      "Executed: \n",
      "            MATCH (a {name: 'Shaboozey'}),\n",
      "                  (b {name: 'Wrangler'})\n",
      "            MER...\n"
     ]
    },
    {
     "name": "stderr",
     "output_type": "stream",
     "text": [
      " 59%|█████▉    | 648/1090 [01:37<01:02,  7.05it/s]"
     ]
    },
    {
     "name": "stdout",
     "output_type": "stream",
     "text": [
      "Executed: \n",
      "            MATCH (a {name: 'Shaboozey'}),\n",
      "                  (b {name: 'Lucchese'})\n",
      "            MER...\n",
      "Executed: \n",
      "            MATCH (a {name: 'Alexandra Zakrzewski'}),\n",
      "                  (b {name: 'Washington Post ...\n"
     ]
    },
    {
     "name": "stderr",
     "output_type": "stream",
     "text": [
      " 60%|█████▉    | 650/1090 [01:37<01:03,  6.89it/s]"
     ]
    },
    {
     "name": "stdout",
     "output_type": "stream",
     "text": [
      "Executed: \n",
      "            MATCH (a {name: 'Director General Viola'}),\n",
      "                  (b {name: 'European Commi...\n",
      "Executed: \n",
      "            MATCH (a {name: 'David Schless'}),\n",
      "                  (b {name: 'American Seniors Housin...\n"
     ]
    },
    {
     "name": "stderr",
     "output_type": "stream",
     "text": [
      " 60%|█████▉    | 652/1090 [01:37<01:03,  6.90it/s]"
     ]
    },
    {
     "name": "stdout",
     "output_type": "stream",
     "text": [
      "Executed: \n",
      "            MATCH (a {name: 'Käthe Kollwitz'}),\n",
      "                  (b {name: 'Museum of Modern Art'}...\n",
      "Executed: \n",
      "            MATCH (a {name: 'Robert F. Kennedy Jr.'}),\n",
      "                  (b {name: 'Mercury Free De...\n"
     ]
    },
    {
     "name": "stderr",
     "output_type": "stream",
     "text": [
      " 60%|██████    | 654/1090 [01:38<01:05,  6.69it/s]"
     ]
    },
    {
     "name": "stdout",
     "output_type": "stream",
     "text": [
      "Executed: \n",
      "            MATCH (a {name: 'Kevin Hart'}),\n",
      "                  (b {name: 'Dave Chappelle'})\n",
      "        ...\n",
      "Executed: \n",
      "            MATCH (a {name: 'Kevin Hart'}),\n",
      "                  (b {name: 'Chris Rock'})\n",
      "            ...\n"
     ]
    },
    {
     "name": "stderr",
     "output_type": "stream",
     "text": [
      " 60%|██████    | 656/1090 [01:38<01:06,  6.52it/s]"
     ]
    },
    {
     "name": "stdout",
     "output_type": "stream",
     "text": [
      "Executed: \n",
      "            MATCH (a {name: 'Kevin Hart'}),\n",
      "                  (b {name: 'Chris Tucker'})\n",
      "          ...\n",
      "Executed: \n",
      "            MATCH (a {name: 'Steve Friedman'}),\n",
      "                  (b {name: 'Texas Monthly'})\n",
      "     ...\n"
     ]
    },
    {
     "name": "stderr",
     "output_type": "stream",
     "text": [
      " 60%|██████    | 658/1090 [01:38<01:05,  6.64it/s]"
     ]
    },
    {
     "name": "stdout",
     "output_type": "stream",
     "text": [
      "Executed: \n",
      "            MATCH (a {name: 'Steve Friedman'}),\n",
      "                  (b {name: 'Texas Jewboys'})\n",
      "     ...\n",
      "Executed: \n",
      "            MATCH (a {name: 'Yitzhak Goldknopf'}),\n",
      "                  (b {name: 'Government of Israe...\n"
     ]
    },
    {
     "name": "stderr",
     "output_type": "stream",
     "text": [
      " 61%|██████    | 660/1090 [01:38<01:05,  6.54it/s]"
     ]
    },
    {
     "name": "stdout",
     "output_type": "stream",
     "text": [
      "Executed: \n",
      "            MATCH (a {name: 'Alejandra Crail'}),\n",
      "                  (b {name: 'El Universal'})\n",
      "     ...\n",
      "Executed: \n",
      "            MATCH (a {name: 'Canales'}),\n",
      "                  (b {name: 'P.M.U.'})\n",
      "            MERGE (...\n"
     ]
    },
    {
     "name": "stderr",
     "output_type": "stream",
     "text": [
      " 61%|██████    | 662/1090 [01:39<01:01,  6.96it/s]"
     ]
    },
    {
     "name": "stdout",
     "output_type": "stream",
     "text": [
      "Executed: \n",
      "            MATCH (a {name: 'Meyer Falcón'}),\n",
      "                  (b {name: 'SEDATU'})\n",
      "            ME...\n",
      "Executed: \n",
      "            MATCH (a {name: 'Shay Mitchell'}),\n",
      "                  (b {name: 'Boohoo'})\n",
      "            M...\n"
     ]
    },
    {
     "name": "stderr",
     "output_type": "stream",
     "text": [
      " 61%|██████    | 664/1090 [01:39<00:59,  7.17it/s]"
     ]
    },
    {
     "name": "stdout",
     "output_type": "stream",
     "text": [
      "Executed: \n",
      "            MATCH (a {name: 'CVS Caremark'}),\n",
      "                  (b {name: 'AbbVie'})\n",
      "            ME...\n",
      "Executed: \n",
      "            MATCH (a {name: 'CVS Caremark'}),\n",
      "                  (b {name: 'Cordavis'})\n",
      "            ...\n"
     ]
    },
    {
     "name": "stderr",
     "output_type": "stream",
     "text": [
      " 61%|██████    | 666/1090 [01:39<00:58,  7.21it/s]"
     ]
    },
    {
     "name": "stdout",
     "output_type": "stream",
     "text": [
      "Executed: \n",
      "            MATCH (a {name: 'Liz O\\'Connor'}),\n",
      "                  (b {name: 'R.'})\n",
      "            MERGE...\n",
      "Executed: \n",
      "            MATCH (a {name: 'Dr. Demetrios Yannopoulos'}),\n",
      "                  (b {name: 'Cardiac Arr...\n"
     ]
    },
    {
     "name": "stderr",
     "output_type": "stream",
     "text": [
      " 61%|██████▏   | 668/1090 [01:40<00:57,  7.28it/s]"
     ]
    },
    {
     "name": "stdout",
     "output_type": "stream",
     "text": [
      "Executed: \n",
      "            MATCH (a {name: 'Jan Belohlavek'}),\n",
      "                  (b {name: 'Cardiac Arrest Network...\n",
      "Executed: \n",
      "            MATCH (a {name: 'Emma Kehlbeck'}),\n",
      "                  (b {name: 'Centers for Disease Con...\n"
     ]
    },
    {
     "name": "stderr",
     "output_type": "stream",
     "text": [
      " 61%|██████▏   | 670/1090 [01:40<00:57,  7.28it/s]"
     ]
    },
    {
     "name": "stdout",
     "output_type": "stream",
     "text": [
      "Executed: \n",
      "            MATCH (a {name: 'Kecia Lewis'}),\n",
      "                  (b {name: 'Broadway'})\n",
      "            M...\n",
      "Executed: \n",
      "            MATCH (a {name: 'Julia Louis-Dreyfus'}),\n",
      "                  (b {name: 'HBO'})\n",
      "          ...\n"
     ]
    },
    {
     "name": "stderr",
     "output_type": "stream",
     "text": [
      " 62%|██████▏   | 672/1090 [01:40<00:57,  7.29it/s]"
     ]
    },
    {
     "name": "stdout",
     "output_type": "stream",
     "text": [
      "Executed: \n",
      "            MATCH (a {name: 'Annie Lowrey'}),\n",
      "                  (b {name: 'McDonald\\'s Corporation'...\n",
      "Executed: \n",
      "            MATCH (a {name: 'Bruce Schneier'}),\n",
      "                  (b {name: 'Harvard’s Berkman Klei...\n"
     ]
    },
    {
     "name": "stderr",
     "output_type": "stream",
     "text": [
      " 62%|██████▏   | 674/1090 [01:40<00:58,  7.05it/s]"
     ]
    },
    {
     "name": "stdout",
     "output_type": "stream",
     "text": [
      "Executed: \n",
      "            MATCH (a {name: 'Bruce Schneier'}),\n",
      "                  (b {name: 'Kennedy School'})\n",
      "    ...\n",
      "Executed: \n",
      "            MATCH (a {name: 'Doug Lewin'}),\n",
      "                  (b {name: 'Arizona Public Service Com...\n"
     ]
    },
    {
     "name": "stderr",
     "output_type": "stream",
     "text": [
      " 62%|██████▏   | 676/1090 [01:41<00:58,  7.13it/s]"
     ]
    },
    {
     "name": "stdout",
     "output_type": "stream",
     "text": [
      "Executed: \n",
      "            MATCH (a {name: 'James Charles'}),\n",
      "                  (b {name: 'Morphe'})\n",
      "            M...\n",
      "Executed: \n",
      "            MATCH (a {name: 'Emma Chamberlain'}),\n",
      "                  (b {name: 'Louis Vuitton'})\n",
      "   ...\n"
     ]
    },
    {
     "name": "stderr",
     "output_type": "stream",
     "text": [
      " 62%|██████▏   | 678/1090 [01:41<00:57,  7.20it/s]"
     ]
    },
    {
     "name": "stdout",
     "output_type": "stream",
     "text": [
      "Executed: \n",
      "            MATCH (a {name: 'Addison Rae'}),\n",
      "                  (b {name: 'L\\'OrÃ©al'})\n",
      "            ...\n",
      "Executed: \n",
      "            MATCH (a {name: 'NikkieTutorials'}),\n",
      "                  (b {name: 'Marc Jacobs'})\n",
      "      ...\n"
     ]
    },
    {
     "name": "stderr",
     "output_type": "stream",
     "text": [
      " 62%|██████▏   | 680/1090 [01:41<01:01,  6.64it/s]"
     ]
    },
    {
     "name": "stdout",
     "output_type": "stream",
     "text": [
      "Executed: \n",
      "            MATCH (a {name: 'Tom Holland'}),\n",
      "                  (b {name: 'Sony'})\n",
      "            MERGE...\n",
      "Executed: \n",
      "            MATCH (a {name: 'BeyoncÃ©'}),\n",
      "                  (b {name: 'Peloton'})\n",
      "            MERGE...\n"
     ]
    },
    {
     "name": "stderr",
     "output_type": "stream",
     "text": [
      " 63%|██████▎   | 682/1090 [01:42<00:58,  6.97it/s]"
     ]
    },
    {
     "name": "stdout",
     "output_type": "stream",
     "text": [
      "Executed: \n",
      "            MATCH (a {name: 'Chris Evans'}),\n",
      "                  (b {name: 'Gucci'})\n",
      "            MERG...\n",
      "Executed: \n",
      "            MATCH (a {name: 'Selena Gomez'}),\n",
      "                  (b {name: 'Rare Beauty'})\n",
      "         ...\n"
     ]
    },
    {
     "name": "stderr",
     "output_type": "stream",
     "text": [
      " 63%|██████▎   | 684/1090 [01:42<00:57,  7.11it/s]"
     ]
    },
    {
     "name": "stdout",
     "output_type": "stream",
     "text": [
      "Executed: \n",
      "            MATCH (a {name: 'Roosevelt Montás'}),\n",
      "                  (b {name: 'Union College'})\n",
      "   ...\n",
      "Executed: \n",
      "            MATCH (a {name: 'Big Tech firms'}),\n",
      "                  (b {name: 'Colleges and universit...\n"
     ]
    },
    {
     "name": "stderr",
     "output_type": "stream",
     "text": [
      " 63%|██████▎   | 686/1090 [01:42<01:06,  6.06it/s]"
     ]
    },
    {
     "name": "stdout",
     "output_type": "stream",
     "text": [
      "Executed: \n",
      "            MATCH (a {name: 'Sarah McLachlan'}),\n",
      "                  (b {name: 'Lilith Fair'})\n",
      "      ...\n",
      "Executed: \n",
      "            MATCH (a {name: 'David McCabe'}),\n",
      "                  (b {name: 'The New York Times'})\n",
      "  ...\n"
     ]
    },
    {
     "name": "stderr",
     "output_type": "stream",
     "text": [
      " 63%|██████▎   | 688/1090 [01:42<01:02,  6.45it/s]"
     ]
    },
    {
     "name": "stdout",
     "output_type": "stream",
     "text": [
      "Executed: \n",
      "            MATCH (a {name: 'Charles Barkley'}),\n",
      "                  (b {name: 'TNT'})\n",
      "            ME...\n",
      "Executed: \n",
      "            MATCH (a {name: 'Elon Musk'}),\n",
      "                  (b {name: 'SpaceX'})\n",
      "            MERGE...\n"
     ]
    },
    {
     "name": "stderr",
     "output_type": "stream",
     "text": [
      " 63%|██████▎   | 690/1090 [01:43<00:58,  6.88it/s]"
     ]
    },
    {
     "name": "stdout",
     "output_type": "stream",
     "text": [
      "Executed: \n",
      "            MATCH (a {name: 'Rocket Lab'}),\n",
      "                  (b {name: 'U.S. Department of Defense...\n",
      "Executed: \n",
      "            MATCH (a {name: 'James Fishback'}),\n",
      "                  (b {name: 'Greenlight Capital'})\n",
      "...\n"
     ]
    },
    {
     "name": "stderr",
     "output_type": "stream",
     "text": [
      " 63%|██████▎   | 692/1090 [01:43<00:56,  7.03it/s]"
     ]
    },
    {
     "name": "stdout",
     "output_type": "stream",
     "text": [
      "Executed: \n",
      "            MATCH (a {name: 'Chris Hemsworth'}),\n",
      "                  (b {name: 'Centr'})\n",
      "            ...\n",
      "Executed: \n",
      "            MATCH (a {name: 'Sophie Turner'}),\n",
      "                  (b {name: 'Louis Vuitton'})\n",
      "      ...\n"
     ]
    },
    {
     "name": "stderr",
     "output_type": "stream",
     "text": [
      " 64%|██████▎   | 694/1090 [01:43<00:58,  6.79it/s]"
     ]
    },
    {
     "name": "stdout",
     "output_type": "stream",
     "text": [
      "Executed: \n",
      "            MATCH (a {name: 'Ava'}),\n",
      "                  (b {name: 'Deborah'})\n",
      "            MERGE (a)-...\n",
      "Executed: \n",
      "            MATCH (a {name: 'Zach King'}),\n",
      "                  (b {name: 'Netflix'})\n",
      "            MERG...\n"
     ]
    },
    {
     "name": "stderr",
     "output_type": "stream",
     "text": [
      " 64%|██████▍   | 696/1090 [01:44<00:58,  6.77it/s]"
     ]
    },
    {
     "name": "stdout",
     "output_type": "stream",
     "text": [
      "Executed: \n",
      "            MATCH (a {name: 'Mikayla Nogueira'}),\n",
      "                  (b {name: 'Glamlite'})\n",
      "        ...\n",
      "Executed: \n",
      "            MATCH (a {name: 'Tiffany Ma'}),\n",
      "                  (b {name: 'H&M'})\n",
      "            MERGE (...\n"
     ]
    },
    {
     "name": "stderr",
     "output_type": "stream",
     "text": [
      " 64%|██████▍   | 698/1090 [01:44<00:57,  6.76it/s]"
     ]
    },
    {
     "name": "stdout",
     "output_type": "stream",
     "text": [
      "Executed: \n",
      "            MATCH (a {name: 'Allyson Felix'}),\n",
      "                  (b {name: 'Athleta'})\n",
      "            ...\n",
      "Executed: \n",
      "            MATCH (a {name: 'Zachary Small'}),\n",
      "                  (b {name: 'The Times'})\n",
      "          ...\n"
     ]
    },
    {
     "name": "stderr",
     "output_type": "stream",
     "text": [
      " 64%|██████▍   | 700/1090 [01:44<00:55,  7.00it/s]"
     ]
    },
    {
     "name": "stdout",
     "output_type": "stream",
     "text": [
      "Executed: \n",
      "            MATCH (a {name: 'James Charles'}),\n",
      "                  (b {name: 'Too Faced'})\n",
      "          ...\n",
      "Executed: \n",
      "            MATCH (a {name: 'Zoella'}),\n",
      "                  (b {name: 'Primark'})\n",
      "            MERGE (...\n"
     ]
    },
    {
     "name": "stderr",
     "output_type": "stream",
     "text": [
      " 64%|██████▍   | 702/1090 [01:45<00:55,  6.97it/s]"
     ]
    },
    {
     "name": "stdout",
     "output_type": "stream",
     "text": [
      "Executed: \n",
      "            MATCH (a {name: 'Tiffany Ma'}),\n",
      "                  (b {name: 'Chick-fil-A'})\n",
      "           ...\n",
      "Executed: \n",
      "            MATCH (a {name: 'Mrs. Samson'}),\n",
      "                  (b {name: 'Samson Historical'})\n",
      "    ...\n"
     ]
    },
    {
     "name": "stderr",
     "output_type": "stream",
     "text": [
      " 65%|██████▍   | 704/1090 [01:45<00:53,  7.15it/s]"
     ]
    },
    {
     "name": "stdout",
     "output_type": "stream",
     "text": [
      "Executed: \n",
      "            MATCH (a {name: 'Mr. Tennant'}),\n",
      "                  (b {name: 'Samson Historical'})\n",
      "    ...\n",
      "Executed: \n",
      "            MATCH (a {name: 'Dave Langston'}),\n",
      "                  (b {name: 'Insurance Company'})\n",
      "  ...\n"
     ]
    },
    {
     "name": "stderr",
     "output_type": "stream",
     "text": [
      " 65%|██████▍   | 706/1090 [01:45<00:53,  7.20it/s]"
     ]
    },
    {
     "name": "stdout",
     "output_type": "stream",
     "text": [
      "Executed: \n",
      "            MATCH (a {name: 'Donald Trump'}),\n",
      "                  (b {name: 'Chicago Tower Condominiu...\n",
      "Executed: \n",
      "            MATCH (a {name: 'Elon Musk'}),\n",
      "                  (b {name: 'Starlink'})\n",
      "            MER...\n"
     ]
    },
    {
     "name": "stderr",
     "output_type": "stream",
     "text": [
      " 65%|██████▍   | 708/1090 [01:45<00:54,  7.07it/s]"
     ]
    },
    {
     "name": "stdout",
     "output_type": "stream",
     "text": [
      "Executed: \n",
      "            MATCH (a {name: 'Elon Musk'}),\n",
      "                  (b {name: 'Argentina'})\n",
      "            ME...\n",
      "Executed: \n",
      "            MATCH (a {name: 'Susan Sarandon'}),\n",
      "                  (b {name: 'Alexis Bittar'})\n",
      "     ...\n"
     ]
    },
    {
     "name": "stderr",
     "output_type": "stream",
     "text": [
      " 65%|██████▌   | 710/1090 [01:46<00:53,  7.13it/s]"
     ]
    },
    {
     "name": "stdout",
     "output_type": "stream",
     "text": [
      "Executed: \n",
      "            MATCH (a {name: 'Mel Ottenberg'}),\n",
      "                  (b {name: 'Alexis Bittar'})\n",
      "      ...\n",
      "Executed: \n",
      "            MATCH (a {name: 'Coco Rocha'}),\n",
      "                  (b {name: 'Alexis Bittar'})\n",
      "         ...\n"
     ]
    },
    {
     "name": "stderr",
     "output_type": "stream",
     "text": [
      " 65%|██████▌   | 712/1090 [01:46<00:52,  7.21it/s]"
     ]
    },
    {
     "name": "stdout",
     "output_type": "stream",
     "text": [
      "Executed: \n",
      "            MATCH (a {name: 'Amanda Lepore'}),\n",
      "                  (b {name: 'Alexis Bittar'})\n",
      "      ...\n",
      "Executed: \n",
      "            MATCH (a {name: 'Kelly Cutrone'}),\n",
      "                  (b {name: 'Alexis Bittar'})\n",
      "      ...\n"
     ]
    },
    {
     "name": "stderr",
     "output_type": "stream",
     "text": [
      " 66%|██████▌   | 714/1090 [01:46<00:51,  7.27it/s]"
     ]
    },
    {
     "name": "stdout",
     "output_type": "stream",
     "text": [
      "Executed: \n",
      "            MATCH (a {name: 'Patricia Black'}),\n",
      "                  (b {name: 'Alexis Bittar'})\n",
      "     ...\n",
      "Executed: \n",
      "            MATCH (a {name: 'Camille Charrière'}),\n",
      "                  (b {name: 'Stripe & Stare'})\n",
      " ...\n"
     ]
    },
    {
     "name": "stderr",
     "output_type": "stream",
     "text": [
      " 66%|██████▌   | 716/1090 [01:46<00:53,  7.04it/s]"
     ]
    },
    {
     "name": "stdout",
     "output_type": "stream",
     "text": [
      "Executed: \n",
      "            MATCH (a {name: 'Camille Charrière'}),\n",
      "                  (b {name: 'Skims'})\n",
      "          ...\n",
      "Executed: \n",
      "            MATCH (a {name: 'Kevin Roose'}),\n",
      "                  (b {name: 'Anthropic'})\n",
      "            ...\n"
     ]
    },
    {
     "name": "stderr",
     "output_type": "stream",
     "text": [
      " 66%|██████▌   | 718/1090 [01:47<00:53,  7.00it/s]"
     ]
    },
    {
     "name": "stdout",
     "output_type": "stream",
     "text": [
      "Executed: \n",
      "            MATCH (a {name: 'Zendaya'}),\n",
      "                  (b {name: 'Challengers'})\n",
      "            ME...\n",
      "Executed: \n",
      "            MATCH (a {name: 'Shou Chew'}),\n",
      "                  (b {name: 'Vogue'})\n",
      "            MERGE ...\n"
     ]
    },
    {
     "name": "stderr",
     "output_type": "stream",
     "text": [
      " 66%|██████▌   | 720/1090 [01:47<00:53,  6.90it/s]"
     ]
    },
    {
     "name": "stdout",
     "output_type": "stream",
     "text": [
      "Executed: \n",
      "            MATCH (a {name: 'TikTok user'}),\n",
      "                  (b {name: 'Vogue'})\n",
      "            MERG...\n",
      "Executed: \n",
      "            MATCH (a {name: 'MrBeast'}),\n",
      "                  (b {name: 'Honey'})\n",
      "            MERGE (a...\n"
     ]
    },
    {
     "name": "stderr",
     "output_type": "stream",
     "text": [
      " 66%|██████▌   | 722/1090 [01:47<00:52,  6.97it/s]"
     ]
    },
    {
     "name": "stdout",
     "output_type": "stream",
     "text": [
      "Executed: \n",
      "            MATCH (a {name: 'Zoella'}),\n",
      "                  (b {name: 'Garnier'})\n",
      "            MERGE (...\n",
      "Executed: \n",
      "            MATCH (a {name: 'Lilly Singh'}),\n",
      "                  (b {name: 'Sephora'})\n",
      "            ME...\n"
     ]
    },
    {
     "name": "stderr",
     "output_type": "stream",
     "text": [
      " 66%|██████▋   | 724/1090 [01:48<00:51,  7.17it/s]"
     ]
    },
    {
     "name": "stdout",
     "output_type": "stream",
     "text": [
      "Executed: \n",
      "            MATCH (a {name: 'Ronda DePonte'}),\n",
      "                  (b {name: 'Spirit Horse Ranch'})\n",
      " ...\n",
      "Executed: \n",
      "            MATCH (a {name: 'Steve Schwab'}),\n",
      "                  (b {name: 'Dole Foundation'})\n",
      "     ...\n"
     ]
    },
    {
     "name": "stderr",
     "output_type": "stream",
     "text": [
      " 67%|██████▋   | 726/1090 [01:48<00:50,  7.27it/s]"
     ]
    },
    {
     "name": "stdout",
     "output_type": "stream",
     "text": [
      "Executed: \n",
      "            MATCH (a {name: 'Ariel Cornelius'}),\n",
      "                  (b {name: 'Dole Foundation'})\n",
      "  ...\n",
      "Executed: \n",
      "            MATCH (a {name: 'Chuck Rotenberry'}),\n",
      "                  (b {name: 'Dole Foundation'})\n",
      " ...\n"
     ]
    },
    {
     "name": "stderr",
     "output_type": "stream",
     "text": [
      " 67%|██████▋   | 728/1090 [01:48<00:49,  7.31it/s]"
     ]
    },
    {
     "name": "stdout",
     "output_type": "stream",
     "text": [
      "Executed: \n",
      "            MATCH (a {name: 'Kristopher Rotenberry'}),\n",
      "                  (b {name: 'Dole Foundation...\n",
      "Executed: \n",
      "            MATCH (a {name: 'Harry Levant'}),\n",
      "                  (b {name: 'DraftKings'})\n",
      "          ...\n"
     ]
    },
    {
     "name": "stderr",
     "output_type": "stream",
     "text": [
      " 67%|██████▋   | 730/1090 [01:48<00:49,  7.23it/s]"
     ]
    },
    {
     "name": "stdout",
     "output_type": "stream",
     "text": [
      "Executed: \n",
      "            MATCH (a {name: 'influencer_name'}),\n",
      "                  (b {name: 'LG'})\n",
      "            MER...\n",
      "Executed: \n",
      "            MATCH (a {name: 'Mo Rocca'}),\n",
      "                  (b {name: 'CBS News'})\n",
      "            MERG...\n"
     ]
    },
    {
     "name": "stderr",
     "output_type": "stream",
     "text": [
      " 67%|██████▋   | 732/1090 [01:49<00:50,  7.03it/s]"
     ]
    },
    {
     "name": "stdout",
     "output_type": "stream",
     "text": [
      "Executed: \n",
      "            MATCH (a {name: 'Liza Koshy'}),\n",
      "                  (b {name: 'YouTube'})\n",
      "            MER...\n",
      "Executed: \n",
      "            MATCH (a {name: 'Larry Ng'}),\n",
      "                  (b {name: 'Bobby Ng'})\n",
      "            MERG...\n"
     ]
    },
    {
     "name": "stderr",
     "output_type": "stream",
     "text": [
      " 67%|██████▋   | 734/1090 [01:49<00:49,  7.13it/s]"
     ]
    },
    {
     "name": "stdout",
     "output_type": "stream",
     "text": [
      "Executed: \n",
      "            MATCH (a {name: 'Geoffrey Hinton'}),\n",
      "                  (b {name: 'Google'})\n",
      "           ...\n",
      "Executed: \n",
      "            MATCH (a {name: 'Alecia (Pink)'}),\n",
      "                  (b {name: 'MGM Resorts Internation...\n"
     ]
    },
    {
     "name": "stderr",
     "output_type": "stream",
     "text": [
      " 68%|██████▊   | 736/1090 [01:49<00:48,  7.24it/s]"
     ]
    },
    {
     "name": "stdout",
     "output_type": "stream",
     "text": [
      "Executed: \n",
      "            MATCH (a {name: 'Jessie Paege'}),\n",
      "                  (b {name: 'Urban Outfitters'})\n",
      "    ...\n",
      "Executed: \n",
      "            MATCH (a {name: 'Zyn influencers'}),\n",
      "                  (b {name: 'Zyn'})\n",
      "            ME...\n"
     ]
    },
    {
     "name": "stderr",
     "output_type": "stream",
     "text": [
      " 68%|██████▊   | 738/1090 [01:50<00:51,  6.82it/s]"
     ]
    },
    {
     "name": "stdout",
     "output_type": "stream",
     "text": [
      "Executed: \n",
      "            MATCH (a {name: 'Greg Carr'}),\n",
      "                  (b {name: 'Gorongosa National Park'})\n",
      "...\n",
      "Executed: \n",
      "            MATCH (a {name: 'Zita Cobb'}),\n",
      "                  (b {name: 'Fogo Island Arts'})\n",
      "       ...\n"
     ]
    },
    {
     "name": "stderr",
     "output_type": "stream",
     "text": [
      " 68%|██████▊   | 740/1090 [01:50<00:52,  6.66it/s]"
     ]
    },
    {
     "name": "stdout",
     "output_type": "stream",
     "text": [
      "Executed: \n",
      "            MATCH (a {name: 'James Patterson'}),\n",
      "                  (b {name: 'Michael Crichton'})\n",
      " ...\n",
      "Executed: \n",
      "            MATCH (a {name: 'influencer_name'}),\n",
      "                  (b {name: 'Samsung'})\n",
      "          ...\n"
     ]
    },
    {
     "name": "stderr",
     "output_type": "stream",
     "text": [
      " 68%|██████▊   | 742/1090 [01:50<00:50,  6.94it/s]"
     ]
    },
    {
     "name": "stdout",
     "output_type": "stream",
     "text": [
      "Executed: \n",
      "            MATCH (a {name: 'influencer_name'}),\n",
      "                  (b {name: 'Dolby'})\n",
      "            ...\n",
      "Executed: \n",
      "            MATCH (a {name: 'influencer_name'}),\n",
      "                  (b {name: 'Google'})\n",
      "           ...\n"
     ]
    },
    {
     "name": "stderr",
     "output_type": "stream",
     "text": [
      " 68%|██████▊   | 744/1090 [01:50<00:49,  7.06it/s]"
     ]
    },
    {
     "name": "stdout",
     "output_type": "stream",
     "text": [
      "Executed: \n",
      "            MATCH (a {name: 'Keith Lee'}),\n",
      "                  (b {name: 'Chipotle'})\n",
      "            MER...\n",
      "Executed: \n",
      "            MATCH (a {name: 'Drew Polenske'}),\n",
      "                  (b {name: 'Chipotle'})\n",
      "           ...\n"
     ]
    },
    {
     "name": "stderr",
     "output_type": "stream",
     "text": [
      " 68%|██████▊   | 746/1090 [01:51<00:49,  6.93it/s]"
     ]
    },
    {
     "name": "stdout",
     "output_type": "stream",
     "text": [
      "Executed: \n",
      "            MATCH (a {name: 'Isabella Griffin'}),\n",
      "                  (b {name: 'Abode Security'})\n",
      "  ...\n",
      "Executed: \n",
      "            MATCH (a {name: 'Lucy Cooke'}),\n",
      "                  (b {name: 'BBC Earth'})\n",
      "            M...\n"
     ]
    },
    {
     "name": "stderr",
     "output_type": "stream",
     "text": [
      " 69%|██████▊   | 748/1090 [01:51<00:48,  7.07it/s]"
     ]
    },
    {
     "name": "stdout",
     "output_type": "stream",
     "text": [
      "Executed: \n",
      "            MATCH (a {name: 'Becky Cliffe'}),\n",
      "                  (b {name: 'University of Exeter'})\n",
      "...\n",
      "Executed: \n",
      "            MATCH (a {name: 'influencer_name'}),\n",
      "                  (b {name: 'LG'})\n",
      "            MER...\n"
     ]
    },
    {
     "name": "stderr",
     "output_type": "stream",
     "text": [
      " 69%|██████▉   | 750/1090 [01:51<00:49,  6.86it/s]"
     ]
    },
    {
     "name": "stdout",
     "output_type": "stream",
     "text": [
      "Executed: \n",
      "            MATCH (a {name: 'influencer_name'}),\n",
      "                  (b {name: 'Target'})\n",
      "           ...\n",
      "Executed: \n",
      "            MATCH (a {name: 'SilverSingles'}),\n",
      "                  (b {name: 'Senior Singles Communit...\n"
     ]
    },
    {
     "name": "stderr",
     "output_type": "stream",
     "text": [
      " 69%|██████▉   | 752/1090 [01:52<00:51,  6.62it/s]"
     ]
    },
    {
     "name": "stdout",
     "output_type": "stream",
     "text": [
      "Executed: \n",
      "            MATCH (a {name: 'OurTime'}),\n",
      "                  (b {name: 'Senior Singles Community'})\n",
      " ...\n",
      "Executed: \n",
      "            MATCH (a {name: 'Hinge'}),\n",
      "                  (b {name: 'Bumble'})\n",
      "            MERGE (a)...\n"
     ]
    },
    {
     "name": "stderr",
     "output_type": "stream",
     "text": [
      " 69%|██████▉   | 754/1090 [01:52<00:48,  6.94it/s]"
     ]
    },
    {
     "name": "stdout",
     "output_type": "stream",
     "text": [
      "Executed: \n",
      "            MATCH (a {name: 'Hinge'}),\n",
      "                  (b {name: 'eHarmony'})\n",
      "            MERGE (...\n",
      "Executed: \n",
      "            MATCH (a {name: 'Hinge'}),\n",
      "                  (b {name: 'Tinder'})\n",
      "            MERGE (a)...\n"
     ]
    },
    {
     "name": "stderr",
     "output_type": "stream",
     "text": [
      "\r 69%|██████▉   | 755/1090 [01:52<00:49,  6.80it/s]"
     ]
    },
    {
     "name": "stdout",
     "output_type": "stream",
     "text": [
      "Executed: \n",
      "            MATCH (a {name: 'eHarmony'}),\n",
      "                  (b {name: 'Gay and Lesbian Alliance Aga...\n"
     ]
    },
    {
     "name": "stderr",
     "output_type": "stream",
     "text": [
      " 69%|██████▉   | 757/1090 [01:52<00:55,  5.95it/s]"
     ]
    },
    {
     "name": "stdout",
     "output_type": "stream",
     "text": [
      "Executed: \n",
      "            MATCH (a {name: 'Kate Ingram'}),\n",
      "                  (b {name: 'Blue Apron'})\n",
      "           ...\n",
      "Executed: \n",
      "            MATCH (a {name: 'Jerry Seinfeld'}),\n",
      "                  (b {name: 'Netflix'})\n",
      "           ...\n"
     ]
    },
    {
     "name": "stderr",
     "output_type": "stream",
     "text": [
      " 70%|██████▉   | 759/1090 [01:53<00:53,  6.21it/s]"
     ]
    },
    {
     "name": "stdout",
     "output_type": "stream",
     "text": [
      "Executed: \n",
      "            MATCH (a {name: 'Martha Teichner'}),\n",
      "                  (b {name: 'CBS News'})\n",
      "         ...\n",
      "Executed: \n",
      "            MATCH (a {name: 'Bill Geist'}),\n",
      "                  (b {name: 'CBS News'})\n",
      "            ME...\n"
     ]
    },
    {
     "name": "stderr",
     "output_type": "stream",
     "text": [
      " 70%|██████▉   | 761/1090 [01:53<00:48,  6.75it/s]"
     ]
    },
    {
     "name": "stdout",
     "output_type": "stream",
     "text": [
      "Executed: \n",
      "            MATCH (a {name: 'President Biden'}),\n",
      "                  (b {name: 'Homeowners'})\n",
      "       ...\n",
      "Executed: \n",
      "            MATCH (a {name: 'President Trump'}),\n",
      "                  (b {name: 'Homeowners'})\n",
      "       ...\n"
     ]
    },
    {
     "name": "stderr",
     "output_type": "stream",
     "text": [
      " 70%|███████   | 763/1090 [01:53<00:46,  7.00it/s]"
     ]
    },
    {
     "name": "stdout",
     "output_type": "stream",
     "text": [
      "Executed: \n",
      "            MATCH (a {name: 'Influencer'}),\n",
      "                  (b {name: 'Paramount'})\n",
      "            M...\n",
      "Executed: \n",
      "            MATCH (a {name: 'Tucker Carlson'}),\n",
      "                  (b {name: 'FOX News Channel'})\n",
      "  ...\n"
     ]
    },
    {
     "name": "stderr",
     "output_type": "stream",
     "text": [
      " 70%|███████   | 765/1090 [01:54<00:46,  6.95it/s]"
     ]
    },
    {
     "name": "stdout",
     "output_type": "stream",
     "text": [
      "Executed: \n",
      "            MATCH (a {name: 'Katie Couric'}),\n",
      "                  (b {name: 'ABC News'})\n",
      "            ...\n",
      "Executed: \n",
      "            MATCH (a {name: 'Megyn Kelly'}),\n",
      "                  (b {name: 'NBC News'})\n",
      "            M...\n"
     ]
    },
    {
     "name": "stderr",
     "output_type": "stream",
     "text": [
      " 70%|███████   | 767/1090 [01:54<00:45,  7.13it/s]"
     ]
    },
    {
     "name": "stdout",
     "output_type": "stream",
     "text": [
      "Executed: \n",
      "            MATCH (a {name: 'Meredith Viera'}),\n",
      "                  (b {name: 'CBS This Morning'})\n",
      "  ...\n",
      "Executed: \n",
      "            MATCH (a {name: 'Meghan McCain'}),\n",
      "                  (b {name: 'FOX News Channel'})\n",
      "   ...\n"
     ]
    },
    {
     "name": "stderr",
     "output_type": "stream",
     "text": [
      " 71%|███████   | 769/1090 [01:54<00:46,  6.91it/s]"
     ]
    },
    {
     "name": "stdout",
     "output_type": "stream",
     "text": [
      "Executed: \n",
      "            MATCH (a {name: 'Caroline Chen'}),\n",
      "                  (b {name: 'The Washington Post'})\n",
      "...\n",
      "Executed: \n",
      "            MATCH (a {name: 'Rachel Maddow'}),\n",
      "                  (b {name: 'MSNBC'})\n",
      "            ME...\n"
     ]
    },
    {
     "name": "stderr",
     "output_type": "stream",
     "text": [
      " 71%|███████   | 771/1090 [01:55<00:48,  6.60it/s]"
     ]
    },
    {
     "name": "stdout",
     "output_type": "stream",
     "text": [
      "Executed: \n",
      "            MATCH (a {name: 'Megyn Kelly'}),\n",
      "                  (b {name: 'The Washington Post'})\n",
      "  ...\n",
      "Executed: \n",
      "            MATCH (a {name: 'Meredith Viera'}),\n",
      "                  (b {name: 'The Washington Post'})...\n"
     ]
    },
    {
     "name": "stderr",
     "output_type": "stream",
     "text": [
      " 71%|███████   | 773/1090 [01:55<00:45,  6.94it/s]"
     ]
    },
    {
     "name": "stdout",
     "output_type": "stream",
     "text": [
      "Executed: \n",
      "            MATCH (a {name: 'Meghan McCain'}),\n",
      "                  (b {name: 'The Washington Post'})\n",
      "...\n",
      "Executed: \n",
      "            MATCH (a {name: 'James Mease'}),\n",
      "                  (b {name: 'Ketchup'})\n",
      "            ME...\n"
     ]
    },
    {
     "name": "stderr",
     "output_type": "stream",
     "text": [
      " 71%|███████   | 775/1090 [01:55<00:44,  7.13it/s]"
     ]
    },
    {
     "name": "stdout",
     "output_type": "stream",
     "text": [
      "Executed: \n",
      "            MATCH (a {name: 'Southwest Airlines'}),\n",
      "                  (b {name: 'Credit Card Issuer...\n",
      "Executed: \n",
      "            MATCH (a {name: 'CNN Underscored'}),\n",
      "                  (b {name: 'Sol de Janeiro'})\n",
      "   ...\n"
     ]
    },
    {
     "name": "stderr",
     "output_type": "stream",
     "text": [
      " 71%|███████▏  | 777/1090 [01:55<00:43,  7.23it/s]"
     ]
    },
    {
     "name": "stdout",
     "output_type": "stream",
     "text": [
      "Executed: \n",
      "            MATCH (a {name: 'Judy Garland'}),\n",
      "                  (b {name: 'LGBTQ community'})\n",
      "     ...\n",
      "Executed: \n",
      "            MATCH (a {name: 'CNN Underscored'}),\n",
      "                  (b {name: 'Icewater'})\n",
      "         ...\n"
     ]
    },
    {
     "name": "stderr",
     "output_type": "stream",
     "text": [
      " 71%|███████▏  | 779/1090 [01:56<00:46,  6.67it/s]"
     ]
    },
    {
     "name": "stdout",
     "output_type": "stream",
     "text": [
      "Executed: \n",
      "            MATCH (a {name: 'Lexx'}),\n",
      "                  (b {name: 'Queer Nation'})\n",
      "            MERG...\n",
      "Executed: \n",
      "            MATCH (a {name: 'Ron Amadeo'}),\n",
      "                  (b {name: 'Google'})\n",
      "            MERG...\n"
     ]
    },
    {
     "name": "stderr",
     "output_type": "stream",
     "text": [
      " 72%|███████▏  | 781/1090 [01:56<00:48,  6.41it/s]"
     ]
    },
    {
     "name": "stdout",
     "output_type": "stream",
     "text": [
      "Executed: \n",
      "            MATCH (a {name: 'Reddit users'}),\n",
      "                  (b {name: 'Google'})\n",
      "            ME...\n",
      "Executed: \n",
      "            MATCH (a {name: 'Ben Azelart'}),\n",
      "                  (b {name: 'Snapchat'})\n",
      "            M...\n"
     ]
    },
    {
     "name": "stderr",
     "output_type": "stream",
     "text": [
      " 72%|███████▏  | 783/1090 [01:56<00:47,  6.41it/s]"
     ]
    },
    {
     "name": "stdout",
     "output_type": "stream",
     "text": [
      "Executed: \n",
      "            MATCH (a {name: 'Lindsey Vonn'}),\n",
      "                  (b {name: 'Under Armour'})\n",
      "        ...\n",
      "Executed: \n",
      "            MATCH (a {name: 'JoJo Siwa'}),\n",
      "                  (b {name: 'Nickelodeon'})\n",
      "            ...\n"
     ]
    },
    {
     "name": "stderr",
     "output_type": "stream",
     "text": [
      " 72%|███████▏  | 785/1090 [01:57<00:44,  6.87it/s]"
     ]
    },
    {
     "name": "stdout",
     "output_type": "stream",
     "text": [
      "Executed: \n",
      "            MATCH (a {name: 'Adelaine Morin'}),\n",
      "                  (b {name: 'NARS'})\n",
      "            ME...\n",
      "Executed: \n",
      "            MATCH (a {name: 'Roy Wood Jr.'}),\n",
      "                  (b {name: 'Kara Swisher'})\n",
      "        ...\n"
     ]
    },
    {
     "name": "stderr",
     "output_type": "stream",
     "text": [
      " 72%|███████▏  | 787/1090 [01:57<00:45,  6.67it/s]"
     ]
    },
    {
     "name": "stdout",
     "output_type": "stream",
     "text": [
      "Executed: \n",
      "            MATCH (a {name: 'Barish'}),\n",
      "                  (b {name: 'Ego'})\n",
      "            MERGE (a)-[...\n",
      "Executed: \n",
      "            MATCH (a {name: 'Barish'}),\n",
      "                  (b {name: 'Yeti'})\n",
      "            MERGE (a)-...\n"
     ]
    },
    {
     "name": "stderr",
     "output_type": "stream",
     "text": [
      " 72%|███████▏  | 789/1090 [01:57<00:45,  6.56it/s]"
     ]
    },
    {
     "name": "stdout",
     "output_type": "stream",
     "text": [
      "Executed: \n",
      "            MATCH (a {name: 'Barish'}),\n",
      "                  (b {name: 'Gleener'})\n",
      "            MERGE (...\n",
      "Executed: \n",
      "            MATCH (a {name: 'Rihanna'}),\n",
      "                  (b {name: 'Fenty Beauty'})\n",
      "            M...\n"
     ]
    },
    {
     "name": "stderr",
     "output_type": "stream",
     "text": [
      " 73%|███████▎  | 791/1090 [01:57<00:43,  6.92it/s]"
     ]
    },
    {
     "name": "stdout",
     "output_type": "stream",
     "text": [
      "Executed: \n",
      "            MATCH (a {name: 'Rep. Dina Titus'}),\n",
      "                  (b {name: 'Retail Industry Leade...\n",
      "Executed: \n",
      "            MATCH (a {name: 'CNN Underscored'}),\n",
      "                  (b {name: 'Maybelline'})\n",
      "       ...\n"
     ]
    },
    {
     "name": "stderr",
     "output_type": "stream",
     "text": [
      " 73%|███████▎  | 793/1090 [01:58<00:41,  7.13it/s]"
     ]
    },
    {
     "name": "stdout",
     "output_type": "stream",
     "text": [
      "Executed: \n",
      "            MATCH (a {name: 'Rajkummar Rao'}),\n",
      "                  (b {name: 'Sony Pictures Network'}...\n",
      "Executed: \n",
      "            MATCH (a {name: 'Whitman'}),\n",
      "                  (b {name: 'American democracy'})\n",
      "       ...\n"
     ]
    },
    {
     "name": "stderr",
     "output_type": "stream",
     "text": [
      " 73%|███████▎  | 795/1090 [01:58<00:40,  7.23it/s]"
     ]
    },
    {
     "name": "stdout",
     "output_type": "stream",
     "text": [
      "Executed: \n",
      "            MATCH (a {name: 'Rachel Hollis'}),\n",
      "                  (b {name: 'The Hollis Company'})\n",
      " ...\n",
      "Executed: \n",
      "            MATCH (a {name: 'Marques Brownlee'}),\n",
      "                  (b {name: 'Google'})\n",
      "          ...\n"
     ]
    },
    {
     "name": "stderr",
     "output_type": "stream",
     "text": [
      " 73%|███████▎  | 797/1090 [01:58<00:40,  7.29it/s]"
     ]
    },
    {
     "name": "stdout",
     "output_type": "stream",
     "text": [
      "Executed: \n",
      "            MATCH (a {name: 'Kendall Jenner'}),\n",
      "                  (b {name: 'Calvin Klein'})\n",
      "      ...\n",
      "Executed: \n",
      "            MATCH (a {name: 'Amber Scholl'}),\n",
      "                  (b {name: 'The Home Depot'})\n",
      "      ...\n"
     ]
    },
    {
     "name": "stderr",
     "output_type": "stream",
     "text": [
      " 73%|███████▎  | 799/1090 [01:59<00:41,  7.01it/s]"
     ]
    },
    {
     "name": "stdout",
     "output_type": "stream",
     "text": [
      "Executed: \n",
      "            MATCH (a {name: 'Bilt'}),\n",
      "                  (b {name: 'American Express'})\n",
      "            ...\n",
      "Executed: \n",
      "            MATCH (a {name: 'Bilt'}),\n",
      "                  (b {name: 'Hilton'})\n",
      "            MERGE (a)-...\n"
     ]
    },
    {
     "name": "stderr",
     "output_type": "stream",
     "text": [
      " 73%|███████▎  | 801/1090 [01:59<00:40,  7.19it/s]"
     ]
    },
    {
     "name": "stdout",
     "output_type": "stream",
     "text": [
      "Executed: \n",
      "            MATCH (a {name: 'Bilt'}),\n",
      "                  (b {name: 'Marriott International'})\n",
      "      ...\n",
      "Executed: \n",
      "            MATCH (a {name: 'Bilt'}),\n",
      "                  (b {name: 'Hyatt'})\n",
      "            MERGE (a)-[...\n"
     ]
    },
    {
     "name": "stderr",
     "output_type": "stream",
     "text": [
      " 74%|███████▎  | 803/1090 [01:59<00:39,  7.27it/s]"
     ]
    },
    {
     "name": "stdout",
     "output_type": "stream",
     "text": [
      "Executed: \n",
      "            MATCH (a {name: 'Mark Gordon'}),\n",
      "                  (b {name: 'Cody Enterprise'})\n",
      "      ...\n",
      "Executed: \n",
      "            MATCH (a {name: 'son machine testing methodology'}),\n",
      "                  (b {name: 'Dyson...\n"
     ]
    },
    {
     "name": "stderr",
     "output_type": "stream",
     "text": [
      " 74%|███████▍  | 805/1090 [01:59<00:38,  7.32it/s]"
     ]
    },
    {
     "name": "stdout",
     "output_type": "stream",
     "text": [
      "Executed: \n",
      "            MATCH (a {name: 'David Edgar El-Magraby'}),\n",
      "                  (b {name: 'Canada Soccer'...\n",
      "Executed: \n",
      "            MATCH (a {name: 'Dr. Ruth Westheimer'}),\n",
      "                  (b {name: 'Various brands'})...\n"
     ]
    },
    {
     "name": "stderr",
     "output_type": "stream",
     "text": [
      " 74%|███████▍  | 807/1090 [02:00<00:40,  7.06it/s]"
     ]
    },
    {
     "name": "stdout",
     "output_type": "stream",
     "text": [
      "Executed: \n",
      "            MATCH (a {name: 'Maryam Sanati'}),\n",
      "                  (b {name: 'Product Growth and Inno...\n",
      "Executed: \n",
      "            MATCH (a {name: 'Claire Dederer'}),\n",
      "                  (b {name: 'Monsters: A Fan’s Dile...\n"
     ]
    },
    {
     "name": "stderr",
     "output_type": "stream",
     "text": [
      " 74%|███████▍  | 809/1090 [02:00<00:39,  7.14it/s]"
     ]
    },
    {
     "name": "stdout",
     "output_type": "stream",
     "text": [
      "Executed: \n",
      "            MATCH (a {name: 'Frances Peck'}),\n",
      "                  (b {name: 'The Broken Places'})\n",
      "   ...\n",
      "Executed: \n",
      "            MATCH (a {name: 'Lottie Hazell'}),\n",
      "                  (b {name: 'Piglet'})\n",
      "            M...\n"
     ]
    },
    {
     "name": "stderr",
     "output_type": "stream",
     "text": [
      " 74%|███████▍  | 811/1090 [02:00<00:39,  6.99it/s]"
     ]
    },
    {
     "name": "stdout",
     "output_type": "stream",
     "text": [
      "Executed: \n",
      "            MATCH (a {name: 'Michael Green'}),\n",
      "                  (b {name: 'Nvidia'})\n",
      "            M...\n",
      "Executed: \n",
      "            MATCH (a {name: 'Callie Cox'}),\n",
      "                  (b {name: 'Ritholtz Wealth Management...\n"
     ]
    },
    {
     "name": "stderr",
     "output_type": "stream",
     "text": [
      " 75%|███████▍  | 813/1090 [02:01<00:39,  6.97it/s]"
     ]
    },
    {
     "name": "stdout",
     "output_type": "stream",
     "text": [
      "Executed: \n",
      "            MATCH (a {name: 'Prof. Lister'}),\n",
      "                  (b {name: 'TRCA'})\n",
      "            MERG...\n",
      "Executed: \n",
      "            MATCH (a {name: 'Charles St-Arnaud'}),\n",
      "                  (b {name: 'Bank of Canada'})\n",
      " ...\n"
     ]
    },
    {
     "name": "stderr",
     "output_type": "stream",
     "text": [
      " 75%|███████▍  | 815/1090 [02:01<00:38,  7.18it/s]"
     ]
    },
    {
     "name": "stdout",
     "output_type": "stream",
     "text": [
      "Executed: \n",
      "            MATCH (a {name: 'Bryan Yu'}),\n",
      "                  (b {name: 'Bank of Canada'})\n",
      "          ...\n",
      "Executed: \n",
      "            MATCH (a {name: 'Abbey Xu'}),\n",
      "                  (b {name: 'Bank of Canada'})\n",
      "          ...\n"
     ]
    },
    {
     "name": "stderr",
     "output_type": "stream",
     "text": [
      " 75%|███████▍  | 817/1090 [02:01<00:37,  7.22it/s]"
     ]
    },
    {
     "name": "stdout",
     "output_type": "stream",
     "text": [
      "Executed: \n",
      "            MATCH (a {name: 'Mr. Gabinet'}),\n",
      "                  (b {name: 'Ontario Ministry of Educa...\n",
      "Executed: \n",
      "            MATCH (a {name: 'Jeffree Star'}),\n",
      "                  (b {name: 'Jeffree Star Cosmetics'}...\n"
     ]
    },
    {
     "name": "stderr",
     "output_type": "stream",
     "text": [
      " 75%|███████▌  | 819/1090 [02:01<00:40,  6.62it/s]"
     ]
    },
    {
     "name": "stdout",
     "output_type": "stream",
     "text": [
      "Executed: \n",
      "            MATCH (a {name: 'Tati Westbrook'}),\n",
      "                  (b {name: 'GlamLifeGuru'})\n",
      "      ...\n",
      "Executed: \n",
      "            MATCH (a {name: 'Aimee Song'}),\n",
      "                  (b {name: 'Revolve'})\n",
      "            MER...\n"
     ]
    },
    {
     "name": "stderr",
     "output_type": "stream",
     "text": [
      " 75%|███████▌  | 821/1090 [02:02<00:42,  6.34it/s]"
     ]
    },
    {
     "name": "stdout",
     "output_type": "stream",
     "text": [
      "Executed: \n",
      "            MATCH (a {name: 'Camila Coelho'}),\n",
      "                  (b {name: 'Dior'})\n",
      "            MER...\n",
      "Executed: \n",
      "            MATCH (a {name: 'Tarun Kaur'}),\n",
      "                  (b {name: 'Brands'})\n",
      "            MERG...\n"
     ]
    },
    {
     "name": "stderr",
     "output_type": "stream",
     "text": [
      " 76%|███████▌  | 823/1090 [02:02<00:39,  6.82it/s]"
     ]
    },
    {
     "name": "stdout",
     "output_type": "stream",
     "text": [
      "Executed: \n",
      "            MATCH (a {name: 'John Stackhouse'}),\n",
      "                  (b {name: 'The Globe and Mail'})...\n",
      "Executed: \n",
      "            MATCH (a {name: 'Kelly Phan'}),\n",
      "                  (b {name: 'SNS Exclusive Salon'})\n",
      "   ...\n"
     ]
    },
    {
     "name": "stderr",
     "output_type": "stream",
     "text": [
      " 76%|███████▌  | 825/1090 [02:02<00:38,  6.88it/s]"
     ]
    },
    {
     "name": "stdout",
     "output_type": "stream",
     "text": [
      "Executed: \n",
      "            MATCH (a {name: 'Nike'}),\n",
      "                  (b {name: 'Keely Hodgkinson'})\n",
      "            ...\n",
      "Executed: \n",
      "            MATCH (a {name: 'Dr. Bitew'}),\n",
      "                  (b {name: 'Hospitals in Dessie'})\n",
      "    ...\n"
     ]
    },
    {
     "name": "stderr",
     "output_type": "stream",
     "text": [
      " 76%|███████▌  | 827/1090 [02:03<00:46,  5.66it/s]"
     ]
    },
    {
     "name": "stdout",
     "output_type": "stream",
     "text": [
      "Executed: \n",
      "            MATCH (a {name: 'Doctors and Nurses'}),\n",
      "                  (b {name: 'Hospitals in Lagos...\n",
      "Executed: \n",
      "            MATCH (a {name: 'Dr. Laura King'}),\n",
      "                  (b {name: 'University of Missouri...\n"
     ]
    },
    {
     "name": "stderr",
     "output_type": "stream",
     "text": [
      " 76%|███████▌  | 829/1090 [02:03<00:40,  6.40it/s]"
     ]
    },
    {
     "name": "stdout",
     "output_type": "stream",
     "text": [
      "Executed: \n",
      "            MATCH (a {name: 'Dr. Sonja Lyubomirsky'}),\n",
      "                  (b {name: 'University of C...\n",
      "Executed: \n",
      "            MATCH (a {name: 'Allan Hearn'}),\n",
      "                  (b {name: 'Lou Reed'})\n",
      "            M...\n"
     ]
    },
    {
     "name": "stderr",
     "output_type": "stream",
     "text": [
      " 76%|███████▌  | 831/1090 [02:03<00:37,  6.86it/s]"
     ]
    },
    {
     "name": "stdout",
     "output_type": "stream",
     "text": [
      "Executed: \n",
      "            MATCH (a {name: 'Allan Cosgrove'}),\n",
      "                  (b {name: 'Fleetwood Mac'})\n",
      "     ...\n",
      "Executed: \n",
      "            MATCH (a {name: 'Neelam Ahooja'}),\n",
      "                  (b {name: 'the Row'})\n",
      "            ...\n"
     ]
    },
    {
     "name": "stderr",
     "output_type": "stream",
     "text": [
      " 76%|███████▋  | 833/1090 [02:04<00:36,  7.09it/s]"
     ]
    },
    {
     "name": "stdout",
     "output_type": "stream",
     "text": [
      "Executed: \n",
      "            MATCH (a {name: 'Jennifer Wang'}),\n",
      "                  (b {name: 'Zara'})\n",
      "            MER...\n",
      "Executed: \n",
      "            MATCH (a {name: 'Jennifer Wang'}),\n",
      "                  (b {name: 'Aritzia'})\n",
      "            ...\n"
     ]
    },
    {
     "name": "stderr",
     "output_type": "stream",
     "text": [
      " 77%|███████▋  | 835/1090 [02:04<00:36,  6.93it/s]"
     ]
    },
    {
     "name": "stdout",
     "output_type": "stream",
     "text": [
      "Executed: \n",
      "            MATCH (a {name: 'Maria'}),\n",
      "                  (b {name: 'Sofia Nin̋o de Rivera'})\n",
      "      ...\n",
      "Executed: \n",
      "            MATCH (a {name: 'Maya Jama'}),\n",
      "                  (b {name: 'Reebok'})\n",
      "            MERGE...\n"
     ]
    },
    {
     "name": "stderr",
     "output_type": "stream",
     "text": [
      " 77%|███████▋  | 837/1090 [02:04<00:35,  7.08it/s]"
     ]
    },
    {
     "name": "stdout",
     "output_type": "stream",
     "text": [
      "Executed: \n",
      "            MATCH (a {name: 'Lindsey Stirling'}),\n",
      "                  (b {name: 'Monster Energy'})\n",
      "  ...\n",
      "Executed: \n",
      "            MATCH (a {name: 'Cameron Dallas'}),\n",
      "                  (b {name: 'Calvin Klein'})\n",
      "      ...\n"
     ]
    },
    {
     "name": "stderr",
     "output_type": "stream",
     "text": [
      " 77%|███████▋  | 839/1090 [02:04<00:36,  6.87it/s]"
     ]
    },
    {
     "name": "stdout",
     "output_type": "stream",
     "text": [
      "Executed: \n",
      "            MATCH (a {name: 'Marine Le Pen'}),\n",
      "                  (b {name: 'RN'})\n",
      "            MERGE...\n",
      "Executed: \n",
      "            MATCH (a {name: 'Emmanuel Macron'}),\n",
      "                  (b {name: 'RN'})\n",
      "            MER...\n"
     ]
    },
    {
     "name": "stderr",
     "output_type": "stream",
     "text": [
      " 77%|███████▋  | 841/1090 [02:05<00:36,  6.89it/s]"
     ]
    },
    {
     "name": "stdout",
     "output_type": "stream",
     "text": [
      "Executed: \n",
      "            MATCH (a {name: 'Bank of Canada'}),\n",
      "                  (b {name: 'Markets'})\n",
      "           ...\n",
      "Executed: \n",
      "            MATCH (a {name: 'Chris Cobb'}),\n",
      "                  (b {name: 'The Globe and Mail'})\n",
      "    ...\n"
     ]
    },
    {
     "name": "stderr",
     "output_type": "stream",
     "text": [
      " 77%|███████▋  | 843/1090 [02:05<00:36,  6.83it/s]"
     ]
    },
    {
     "name": "stdout",
     "output_type": "stream",
     "text": [
      "Executed: \n",
      "            MATCH (a {name: 'Roy MacGregor'}),\n",
      "                  (b {name: 'The Globe and Mail'})\n",
      " ...\n",
      "Executed: \n",
      "            MATCH (a {name: 'Sun Life'}),\n",
      "                  (b {name: 'client'})\n",
      "            MERGE ...\n"
     ]
    },
    {
     "name": "stderr",
     "output_type": "stream",
     "text": [
      " 78%|███████▊  | 845/1090 [02:05<00:34,  7.11it/s]"
     ]
    },
    {
     "name": "stdout",
     "output_type": "stream",
     "text": [
      "Executed: \n",
      "            MATCH (a {name: 'Kylie Jenner'}),\n",
      "                  (b {name: 'Kylie Cosmetics'})\n",
      "     ...\n",
      "Executed: \n",
      "            MATCH (a {name: 'Jenna Ortega'}),\n",
      "                  (b {name: 'Neutrogena'})\n",
      "          ...\n"
     ]
    },
    {
     "name": "stderr",
     "output_type": "stream",
     "text": [
      " 78%|███████▊  | 847/1090 [02:06<00:33,  7.23it/s]"
     ]
    },
    {
     "name": "stdout",
     "output_type": "stream",
     "text": [
      "Executed: \n",
      "            MATCH (a {name: 'Holmes'}),\n",
      "                  (b {name: 'RoC'})\n",
      "            MERGE (a)-[...\n",
      "Executed: \n",
      "            MATCH (a {name: 'Will Smith'}),\n",
      "                  (b {name: 'Mark\\'s Hot Sauce Fermente...\n"
     ]
    },
    {
     "name": "stderr",
     "output_type": "stream",
     "text": [
      " 78%|███████▊  | 849/1090 [02:06<00:33,  7.30it/s]"
     ]
    },
    {
     "name": "stdout",
     "output_type": "stream",
     "text": [
      "Executed: \n",
      "            MATCH (a {name: 'Lewis Hamilton'}),\n",
      "                  (b {name: 'Mark\\'s Hot Sauce Ferm...\n",
      "Executed: \n",
      "            MATCH (a {name: 'Heidi Klum'}),\n",
      "                  (b {name: 'Mark\\'s Hot Sauce Fermente...\n"
     ]
    },
    {
     "name": "stderr",
     "output_type": "stream",
     "text": [
      " 78%|███████▊  | 851/1090 [02:06<00:33,  7.07it/s]"
     ]
    },
    {
     "name": "stdout",
     "output_type": "stream",
     "text": [
      "Executed: \n",
      "            MATCH (a {name: 'Kajiura'}),\n",
      "                  (b {name: 'Global News'})\n",
      "            ME...\n",
      "Executed: \n",
      "            MATCH (a {name: 'Hammerschlag'}),\n",
      "                  (b {name: 'Global News'})\n",
      "         ...\n"
     ]
    },
    {
     "name": "stderr",
     "output_type": "stream",
     "text": [
      " 78%|███████▊  | 853/1090 [02:06<00:32,  7.20it/s]"
     ]
    },
    {
     "name": "stdout",
     "output_type": "stream",
     "text": [
      "Executed: \n",
      "            MATCH (a {name: 'Hunter Hunter'}),\n",
      "                  (b {name: 'Argos Cappadocia'})\n",
      "   ...\n",
      "Executed: \n",
      "            MATCH (a {name: 'Hawk Tuah'}),\n",
      "                  (b {name: 'Playboy'})\n",
      "            MERG...\n"
     ]
    },
    {
     "name": "stderr",
     "output_type": "stream",
     "text": [
      " 78%|███████▊  | 855/1090 [02:07<00:34,  6.80it/s]"
     ]
    },
    {
     "name": "stdout",
     "output_type": "stream",
     "text": [
      "Executed: \n",
      "            MATCH (a {name: 'Leo'}),\n",
      "                  (b {name: 'Sagittarius'})\n",
      "            MERGE ...\n",
      "Executed: \n",
      "            MATCH (a {name: 'Capricorn'}),\n",
      "                  (b {name: 'Aquarius'})\n",
      "            MER...\n"
     ]
    },
    {
     "name": "stderr",
     "output_type": "stream",
     "text": [
      " 79%|███████▊  | 857/1090 [02:07<00:33,  6.88it/s]"
     ]
    },
    {
     "name": "stdout",
     "output_type": "stream",
     "text": [
      "Executed: \n",
      "            MATCH (a {name: 'Gabor Maté'}),\n",
      "                  (b {name: 'HarperCollins Publishers'}...\n",
      "Executed: \n",
      "            MATCH (a {name: 'Daniel Maté'}),\n",
      "                  (b {name: 'HarperCollins Publishers'...\n"
     ]
    },
    {
     "name": "stderr",
     "output_type": "stream",
     "text": [
      " 79%|███████▉  | 859/1090 [02:07<00:32,  7.13it/s]"
     ]
    },
    {
     "name": "stdout",
     "output_type": "stream",
     "text": [
      "Executed: \n",
      "            MATCH (a {name: 'Michelle Good'}),\n",
      "                  (b {name: 'HarperCollins Publisher...\n",
      "Executed: \n",
      "            MATCH (a {name: 'John Vaillant'}),\n",
      "                  (b {name: 'HarperCollins Publisher...\n"
     ]
    },
    {
     "name": "stderr",
     "output_type": "stream",
     "text": [
      " 79%|███████▉  | 861/1090 [02:08<00:32,  7.04it/s]"
     ]
    },
    {
     "name": "stdout",
     "output_type": "stream",
     "text": [
      "Executed: \n",
      "            MATCH (a {name: 'Christian Teuber'}),\n",
      "                  (b {name: 'Catan'})\n",
      "           ...\n",
      "Executed: \n",
      "            MATCH (a {name: 'Ava Tyson'}),\n",
      "                  (b {name: 'MrBeast'})\n",
      "            MERG...\n"
     ]
    },
    {
     "name": "stderr",
     "output_type": "stream",
     "text": [
      " 79%|███████▉  | 863/1090 [02:08<00:31,  7.19it/s]"
     ]
    },
    {
     "name": "stdout",
     "output_type": "stream",
     "text": [
      "Executed: \n",
      "            MATCH (a {name: 'Jarred Pasta Sauce'}),\n",
      "                  (b {name: 'Moon Water'})\n",
      "    ...\n",
      "Executed: \n",
      "            MATCH (a {name: 'Angélique Kidjo'}),\n",
      "                  (b {name: 'World Economic Forum'...\n"
     ]
    },
    {
     "name": "stderr",
     "output_type": "stream",
     "text": [
      " 79%|███████▉  | 865/1090 [02:08<00:31,  7.04it/s]"
     ]
    },
    {
     "name": "stdout",
     "output_type": "stream",
     "text": [
      "Executed: \n",
      "            MATCH (a {name: 'Angélique Kidjo'}),\n",
      "                  (b {name: 'Festival Internationa...\n",
      "Executed: \n",
      "            MATCH (a {name: 'Lauren Windsor'}),\n",
      "                  (b {name: 'Daily Kos'})\n",
      "         ...\n"
     ]
    },
    {
     "name": "stderr",
     "output_type": "stream",
     "text": [
      " 80%|███████▉  | 867/1090 [02:08<00:33,  6.74it/s]"
     ]
    },
    {
     "name": "stdout",
     "output_type": "stream",
     "text": [
      "Executed: \n",
      "            MATCH (a {name: 'Spielberg'}),\n",
      "                  (b {name: 'National Review'})\n",
      "        ...\n",
      "Executed: \n",
      "            MATCH (a {name: 'Gutenberg'}),\n",
      "                  (b {name: 'education technology'})\n",
      "   ...\n"
     ]
    },
    {
     "name": "stderr",
     "output_type": "stream",
     "text": [
      " 80%|███████▉  | 869/1090 [02:09<00:32,  6.73it/s]"
     ]
    },
    {
     "name": "stdout",
     "output_type": "stream",
     "text": [
      "Executed: \n",
      "            MATCH (a {name: 'coach\\'s office of a powerhouse high-school football team'}),\n",
      "        ...\n",
      "Executed: \n",
      "            MATCH (a {name: 'Frank Auerbach'}),\n",
      "                  (b {name: 'No Spatula Left Behind...\n"
     ]
    },
    {
     "name": "stderr",
     "output_type": "stream",
     "text": [
      " 80%|███████▉  | 871/1090 [02:09<00:32,  6.76it/s]"
     ]
    },
    {
     "name": "stdout",
     "output_type": "stream",
     "text": [
      "Executed: \n",
      "            MATCH (a {name: 'Colby College Museum of Art'}),\n",
      "                  (b {name: 'Deep Time...\n",
      "Executed: \n",
      "            MATCH (a {name: 'Anonymous Influencer'}),\n",
      "                  (b {name: 'Walgreens'})\n",
      "   ...\n"
     ]
    },
    {
     "name": "stderr",
     "output_type": "stream",
     "text": [
      " 80%|████████  | 873/1090 [02:09<00:30,  7.02it/s]"
     ]
    },
    {
     "name": "stdout",
     "output_type": "stream",
     "text": [
      "Executed: \n",
      "            MATCH (a {name: 'Phil'}),\n",
      "                  (b {name: 'J. D. Vance'})\n",
      "            MERGE...\n",
      "Executed: \n",
      "            MATCH (a {name: 'Ivan Novachki'}),\n",
      "                  (b {name: 'Trump Media Group'})\n",
      "  ...\n"
     ]
    },
    {
     "name": "stderr",
     "output_type": "stream",
     "text": [
      " 80%|████████  | 875/1090 [02:10<00:29,  7.19it/s]"
     ]
    },
    {
     "name": "stdout",
     "output_type": "stream",
     "text": [
      "Executed: \n",
      "            MATCH (a {name: 'Ira Glass'}),\n",
      "                  (b {name: 'This American Life'})\n",
      "     ...\n",
      "Executed: \n",
      "            MATCH (a {name: 'Dr. Sarah Foulkes'}),\n",
      "                  (b {name: 'Atlantic Media Comp...\n"
     ]
    },
    {
     "name": "stderr",
     "output_type": "stream",
     "text": [
      " 80%|████████  | 877/1090 [02:10<00:29,  7.25it/s]"
     ]
    },
    {
     "name": "stdout",
     "output_type": "stream",
     "text": [
      "Executed: \n",
      "            MATCH (a {name: 'Adam Ozimek'}),\n",
      "                  (b {name: 'Atlantic'})\n",
      "            M...\n",
      "Executed: \n",
      "            MATCH (a {name: 'David Mason'}),\n",
      "                  (b {name: 'Rhodes College'})\n",
      "       ...\n"
     ]
    },
    {
     "name": "stderr",
     "output_type": "stream",
     "text": [
      " 81%|████████  | 879/1090 [02:10<00:30,  6.85it/s]"
     ]
    },
    {
     "name": "stdout",
     "output_type": "stream",
     "text": [
      "Executed: \n",
      "            MATCH (a {name: 'Dori Zinn'}),\n",
      "                  (b {name: 'Newsweek'})\n",
      "            MER...\n",
      "Executed: \n",
      "            MATCH (a {name: 'Lyndsay'}),\n",
      "                  (b {name: 'The Tower Hotel'})\n",
      "          ...\n"
     ]
    },
    {
     "name": "stderr",
     "output_type": "stream",
     "text": [
      " 81%|████████  | 881/1090 [02:10<00:30,  6.93it/s]"
     ]
    },
    {
     "name": "stdout",
     "output_type": "stream",
     "text": [
      "Executed: \n",
      "            MATCH (a {name: 'Dr. Nader Cheraghlou'}),\n",
      "                  (b {name: 'Juvederm'})\n",
      "    ...\n",
      "Executed: \n",
      "            MATCH (a {name: 'Dr. Roshan Kapoor'}),\n",
      "                  (b {name: 'SkinMedica'})\n",
      "     ...\n"
     ]
    },
    {
     "name": "stderr",
     "output_type": "stream",
     "text": [
      " 81%|████████  | 883/1090 [02:11<00:28,  7.17it/s]"
     ]
    },
    {
     "name": "stdout",
     "output_type": "stream",
     "text": [
      "Executed: \n",
      "            MATCH (a {name: 'Faith Bussey'}),\n",
      "                  (b {name: 'Texans for Homeschool Fr...\n",
      "Executed: \n",
      "            MATCH (a {name: 'Jube Dankworth'}),\n",
      "                  (b {name: 'Homeschooling communit...\n"
     ]
    },
    {
     "name": "stderr",
     "output_type": "stream",
     "text": [
      " 81%|████████  | 885/1090 [02:11<00:28,  7.29it/s]"
     ]
    },
    {
     "name": "stdout",
     "output_type": "stream",
     "text": [
      "Executed: \n",
      "            MATCH (a {name: 'Nathan Mustać'}),\n",
      "                  (b {name: 'Curzon PR'})\n",
      "          ...\n",
      "Executed: \n",
      "            MATCH (a {name: 'Zoe Lively'}),\n",
      "                  (b {name: 'Brand (not explicitly stat...\n"
     ]
    },
    {
     "name": "stderr",
     "output_type": "stream",
     "text": [
      " 81%|████████▏ | 887/1090 [02:11<00:27,  7.34it/s]"
     ]
    },
    {
     "name": "stdout",
     "output_type": "stream",
     "text": [
      "Executed: \n",
      "            MATCH (a {name: 'acquiredstyle'}),\n",
      "                  (b {name: 'No explicit brand menti...\n",
      "Executed: \n",
      "            MATCH (a {name: 'mireyarios'}),\n",
      "                  (b {name: 'No explicit brand mentione...\n"
     ]
    },
    {
     "name": "stderr",
     "output_type": "stream",
     "text": [
      " 82%|████████▏ | 889/1090 [02:11<00:27,  7.34it/s]"
     ]
    },
    {
     "name": "stdout",
     "output_type": "stream",
     "text": [
      "Executed: \n",
      "            MATCH (a {name: 'emchan13'}),\n",
      "                  (b {name: 'No explicit brand mentioned'...\n",
      "Executed: \n",
      "            MATCH (a {name: 'David Dobrik'}),\n",
      "                  (b {name: 'SeatGeek'})\n",
      "            ...\n"
     ]
    },
    {
     "name": "stderr",
     "output_type": "stream",
     "text": [
      " 82%|████████▏ | 891/1090 [02:12<00:28,  6.97it/s]"
     ]
    },
    {
     "name": "stdout",
     "output_type": "stream",
     "text": [
      "Executed: \n",
      "            MATCH (a {name: 'Dr. Maddox'}),\n",
      "                  (b {name: 'OpenEvidence'})\n",
      "          ...\n",
      "Executed: \n",
      "            MATCH (a {name: 'Dr. Gombar'}),\n",
      "                  (b {name: 'ChatRWD'})\n",
      "            MER...\n"
     ]
    },
    {
     "name": "stderr",
     "output_type": "stream",
     "text": [
      " 82%|████████▏ | 893/1090 [02:12<00:27,  7.12it/s]"
     ]
    },
    {
     "name": "stdout",
     "output_type": "stream",
     "text": [
      "Executed: \n",
      "            MATCH (a {name: 'Meta AI'}),\n",
      "                  (b {name: 'BouncingBall Application'})\n",
      " ...\n",
      "Executed: \n",
      "            MATCH (a {name: 'Emma Smith'}),\n",
      "                  (b {name: 'MAC Cosmetics'})\n",
      "         ...\n"
     ]
    },
    {
     "name": "stderr",
     "output_type": "stream",
     "text": [
      " 82%|████████▏ | 895/1090 [02:12<00:28,  6.94it/s]"
     ]
    },
    {
     "name": "stdout",
     "output_type": "stream",
     "text": [
      "Executed: \n",
      "            MATCH (a {name: 'Robert Putnam'}),\n",
      "                  (b {name: 'Harvard University Pres...\n",
      "Executed: \n",
      "            MATCH (a {name: 'Ben S. Lies'}),\n",
      "                  (b {name: 'Delphi Advisers, LLC'})\n",
      " ...\n"
     ]
    },
    {
     "name": "stderr",
     "output_type": "stream",
     "text": [
      "\r 82%|████████▏ | 896/1090 [02:12<00:27,  7.05it/s]"
     ]
    },
    {
     "name": "stdout",
     "output_type": "stream",
     "text": [
      "Executed: \n",
      "            MATCH (a {name: 'Emma Smith'}),\n",
      "                  (b {name: 'MAC Cosmetics'})\n",
      "         ...\n"
     ]
    },
    {
     "name": "stderr",
     "output_type": "stream",
     "text": [
      " 82%|████████▏ | 898/1090 [02:13<00:31,  6.05it/s]"
     ]
    },
    {
     "name": "stdout",
     "output_type": "stream",
     "text": [
      "Executed: \n",
      "            MATCH (a {name: 'TIME Stamped'}),\n",
      "                  (b {name: 'Herring RIA Sub, LLC (Pl...\n",
      "Executed: \n",
      "            MATCH (a {name: 'Andrews-Hanna'}),\n",
      "                  (b {name: 'Unknown Brand'})\n",
      "      ...\n"
     ]
    },
    {
     "name": "stderr",
     "output_type": "stream",
     "text": [
      " 83%|████████▎ | 900/1090 [02:13<00:29,  6.49it/s]"
     ]
    },
    {
     "name": "stdout",
     "output_type": "stream",
     "text": [
      "Executed: \n",
      "            MATCH (a {name: 'TIME Magazine'}),\n",
      "                  (b {name: 'CFP Board'})\n",
      "          ...\n",
      "Executed: \n",
      "            MATCH (a {name: 'Emma Smith'}),\n",
      "                  (b {name: 'MAC Cosmetics'})\n",
      "         ...\n"
     ]
    },
    {
     "name": "stderr",
     "output_type": "stream",
     "text": [
      " 83%|████████▎ | 902/1090 [02:13<00:27,  6.89it/s]"
     ]
    },
    {
     "name": "stdout",
     "output_type": "stream",
     "text": [
      "Executed: \n",
      "            MATCH (a {name: 'Gabrielle Union'}),\n",
      "                  (b {name: 'Random House'})\n",
      "     ...\n",
      "Executed: \n",
      "            MATCH (a {name: 'Michelle Zauner'}),\n",
      "                  (b {name: 'Random House'})\n",
      "     ...\n"
     ]
    },
    {
     "name": "stderr",
     "output_type": "stream",
     "text": [
      " 83%|████████▎ | 904/1090 [02:14<00:26,  6.95it/s]"
     ]
    },
    {
     "name": "stdout",
     "output_type": "stream",
     "text": [
      "Executed: \n",
      "            MATCH (a {name: 'Shay Mitchell'}),\n",
      "                  (b {name: 'Boohoo'})\n",
      "            M...\n",
      "Executed: \n",
      "            MATCH (a {name: 'Drew Binsky'}),\n",
      "                  (b {name: 'Travel With Drew'})\n",
      "     ...\n"
     ]
    },
    {
     "name": "stderr",
     "output_type": "stream",
     "text": [
      " 83%|████████▎ | 906/1090 [02:14<00:26,  6.98it/s]"
     ]
    },
    {
     "name": "stdout",
     "output_type": "stream",
     "text": [
      "Executed: \n",
      "            MATCH (a {name: 'Danielle Peazer'}),\n",
      "                  (b {name: 'H&M'})\n",
      "            ME...\n",
      "Executed: \n",
      "            MATCH (a {name: 'Harriet Fitch Little'}),\n",
      "                  (b {name: 'Time Out Beirut'...\n"
     ]
    },
    {
     "name": "stderr",
     "output_type": "stream",
     "text": [
      " 83%|████████▎ | 908/1090 [02:14<00:25,  7.04it/s]"
     ]
    },
    {
     "name": "stdout",
     "output_type": "stream",
     "text": [
      "Executed: \n",
      "            MATCH (a {name: 'Hannah Murphy'}),\n",
      "                  (b {name: 'Apple'})\n",
      "            ME...\n",
      "Executed: \n",
      "            MATCH (a {name: 'Hannah Murphy'}),\n",
      "                  (b {name: 'Google'})\n",
      "            M...\n"
     ]
    },
    {
     "name": "stderr",
     "output_type": "stream",
     "text": [
      " 83%|████████▎ | 910/1090 [02:15<00:26,  6.84it/s]"
     ]
    },
    {
     "name": "stdout",
     "output_type": "stream",
     "text": [
      "Executed: \n",
      "            MATCH (a {name: 'Rachel Reeves'}),\n",
      "                  (b {name: 'HM Treasury'})\n",
      "        ...\n",
      "Executed: \n",
      "            MATCH (a {name: 'Dan Neidle'}),\n",
      "                  (b {name: 'The TaxPayers\\' Alliance'}...\n"
     ]
    },
    {
     "name": "stderr",
     "output_type": "stream",
     "text": [
      " 84%|████████▎ | 912/1090 [02:15<00:25,  6.89it/s]"
     ]
    },
    {
     "name": "stdout",
     "output_type": "stream",
     "text": [
      "Executed: \n",
      "            MATCH (a {name: 'Agag'}),\n",
      "                  (b {name: 'Formula E'})\n",
      "            MERGE (...\n",
      "Executed: \n",
      "            MATCH (a {name: 'Giovanni Sgro'}),\n",
      "                  (b {name: 'Maserati'})\n",
      "           ...\n"
     ]
    },
    {
     "name": "stderr",
     "output_type": "stream",
     "text": [
      " 84%|████████▍ | 914/1090 [02:15<00:25,  6.93it/s]"
     ]
    },
    {
     "name": "stdout",
     "output_type": "stream",
     "text": [
      "Executed: \n",
      "            MATCH (a {name: 'Daron Acemoğlu'}),\n",
      "                  (b {name: 'MIT Press'})\n",
      "         ...\n",
      "Executed: \n",
      "            MATCH (a {name: 'Soumaya Keynes'}),\n",
      "                  (b {name: 'The Economist Group'})...\n"
     ]
    },
    {
     "name": "stderr",
     "output_type": "stream",
     "text": [
      " 84%|████████▍ | 916/1090 [02:16<00:26,  6.61it/s]"
     ]
    },
    {
     "name": "stdout",
     "output_type": "stream",
     "text": [
      "Executed: \n",
      "            MATCH (a {name: 'Couche-Tard'}),\n",
      "                  (b {name: 'Seven & i'})\n",
      "            ...\n",
      "Executed: \n",
      "            MATCH (a {name: 'Japanese government'}),\n",
      "                  (b {name: 'Seven & i'})\n",
      "    ...\n"
     ]
    },
    {
     "name": "stderr",
     "output_type": "stream",
     "text": [
      " 84%|████████▍ | 918/1090 [02:16<00:24,  6.97it/s]"
     ]
    },
    {
     "name": "stdout",
     "output_type": "stream",
     "text": [
      "Executed: \n",
      "            MATCH (a {name: 'Gustavo Dudamel'}),\n",
      "                  (b {name: 'Fidelio'})\n",
      "          ...\n",
      "Executed: \n",
      "            MATCH (a {name: 'Gustavo Dudamel'}),\n",
      "                  (b {name: 'María Valverde'})\n",
      "   ...\n"
     ]
    },
    {
     "name": "stderr",
     "output_type": "stream",
     "text": [
      " 84%|████████▍ | 920/1090 [02:16<00:25,  6.70it/s]"
     ]
    },
    {
     "name": "stdout",
     "output_type": "stream",
     "text": [
      "Executed: \n",
      "            MATCH (a {name: 'Maria Shollenbarger'}),\n",
      "                  (b {name: 'Zash Country Bout...\n",
      "Executed: \n",
      "            MATCH (a {name: 'Jon Moslet'}),\n",
      "                  (b {name: 'Rocca delle Tre contrade'}...\n"
     ]
    },
    {
     "name": "stderr",
     "output_type": "stream",
     "text": [
      " 85%|████████▍ | 922/1090 [02:16<00:24,  6.76it/s]"
     ]
    },
    {
     "name": "stdout",
     "output_type": "stream",
     "text": [
      "Executed: \n",
      "            MATCH (a {name: 'Stefan Sundin'}),\n",
      "                  (b {name: 'IKEA'})\n",
      "            MER...\n",
      "Executed: \n",
      "            MATCH (a {name: 'Tim Brooks'}),\n",
      "                  (b {name: 'Lego'})\n",
      "            MERGE ...\n"
     ]
    },
    {
     "name": "stderr",
     "output_type": "stream",
     "text": [
      " 85%|████████▍ | 924/1090 [02:17<00:25,  6.63it/s]"
     ]
    },
    {
     "name": "stdout",
     "output_type": "stream",
     "text": [
      "Executed: \n",
      "            MATCH (a {name: 'Drew Binsky'}),\n",
      "                  (b {name: 'Airbnb'})\n",
      "            MER...\n",
      "Executed: \n",
      "            MATCH (a {name: 'MrBeast'}),\n",
      "                  (b {name: 'Honey'})\n",
      "            MERGE (a...\n"
     ]
    },
    {
     "name": "stderr",
     "output_type": "stream",
     "text": [
      " 85%|████████▍ | 926/1090 [02:17<00:23,  7.00it/s]"
     ]
    },
    {
     "name": "stdout",
     "output_type": "stream",
     "text": [
      "Executed: \n",
      "            MATCH (a {name: 'Cécile Davis'}),\n",
      "                  (b {name: 'Hotel de Gallifet'})\n",
      "   ...\n",
      "Executed: \n",
      "            MATCH (a {name: 'Julien Mazet'}),\n",
      "                  (b {name: 'Hotel de Gallifet'})\n",
      "   ...\n"
     ]
    },
    {
     "name": "stderr",
     "output_type": "stream",
     "text": [
      " 85%|████████▌ | 928/1090 [02:17<00:23,  7.03it/s]"
     ]
    },
    {
     "name": "stdout",
     "output_type": "stream",
     "text": [
      "Executed: \n",
      "            MATCH (a {name: 'Haycock'}),\n",
      "                  (b {name: 'BioNTech'})\n",
      "            MERGE...\n",
      "Executed: \n",
      "            MATCH (a {name: 'Haycock'}),\n",
      "                  (b {name: 'Moderna'})\n",
      "            MERGE ...\n"
     ]
    },
    {
     "name": "stderr",
     "output_type": "stream",
     "text": [
      " 85%|████████▌ | 930/1090 [02:18<00:23,  6.76it/s]"
     ]
    },
    {
     "name": "stdout",
     "output_type": "stream",
     "text": [
      "Executed: \n",
      "            MATCH (a {name: 'Nvidia'}),\n",
      "                  (b {name: 'Unhedged'})\n",
      "            MERGE ...\n",
      "Executed: \n",
      "            MATCH (a {name: 'Chloe Combi'}),\n",
      "                  (b {name: 'Deloitte'})\n",
      "            M...\n"
     ]
    },
    {
     "name": "stderr",
     "output_type": "stream",
     "text": [
      " 86%|████████▌ | 932/1090 [02:18<00:22,  7.05it/s]"
     ]
    },
    {
     "name": "stdout",
     "output_type": "stream",
     "text": [
      "Executed: \n",
      "            MATCH (a {name: 'Pilita Clark'}),\n",
      "                  (b {name: 'The Financial Times'})\n",
      " ...\n",
      "Executed: \n",
      "            MATCH (a {name: 'Ivan Pusnik'}),\n",
      "                  (b {name: 'Saab'})\n",
      "            MERGE...\n"
     ]
    },
    {
     "name": "stderr",
     "output_type": "stream",
     "text": [
      " 86%|████████▌ | 934/1090 [02:18<00:21,  7.19it/s]"
     ]
    },
    {
     "name": "stdout",
     "output_type": "stream",
     "text": [
      "Executed: \n",
      "            MATCH (a {name: 'Submariner'}),\n",
      "                  (b {name: 'Panerai'})\n",
      "            MER...\n",
      "Executed: \n",
      "            MATCH (a {name: 'Submariner'}),\n",
      "                  (b {name: 'Omega'})\n",
      "            MERGE...\n"
     ]
    },
    {
     "name": "stderr",
     "output_type": "stream",
     "text": [
      " 86%|████████▌ | 936/1090 [02:18<00:21,  7.27it/s]"
     ]
    },
    {
     "name": "stdout",
     "output_type": "stream",
     "text": [
      "Executed: \n",
      "            MATCH (a {name: 'Submariner'}),\n",
      "                  (b {name: 'Tag'})\n",
      "            MERGE (...\n",
      "Executed: \n",
      "            MATCH (a {name: 'Susanna Thomas'}),\n",
      "                  (b {name: 'Retrouvius'})\n",
      "        ...\n"
     ]
    },
    {
     "name": "stderr",
     "output_type": "stream",
     "text": [
      " 86%|████████▌ | 938/1090 [02:19<00:21,  7.08it/s]"
     ]
    },
    {
     "name": "stdout",
     "output_type": "stream",
     "text": [
      "Executed: \n",
      "            MATCH (a {name: 'Bridget Elworthy'}),\n",
      "                  (b {name: 'The Land Gardeners'}...\n",
      "Executed: \n",
      "            MATCH (a {name: 'Claire Perry O\\'Neill'}),\n",
      "                  (b {name: 'Occidental Petr...\n"
     ]
    },
    {
     "name": "stderr",
     "output_type": "stream",
     "text": [
      " 86%|████████▌ | 940/1090 [02:19<00:21,  7.02it/s]"
     ]
    },
    {
     "name": "stdout",
     "output_type": "stream",
     "text": [
      "Executed: \n",
      "            MATCH (a {name: 'Hany Farid'}),\n",
      "                  (b {name: 'Financial Times'})\n",
      "       ...\n",
      "Executed: \n",
      "            MATCH (a {name: 'Rachel Reeves'}),\n",
      "                  (b {name: 'Labour Party'})\n",
      "       ...\n"
     ]
    },
    {
     "name": "stderr",
     "output_type": "stream",
     "text": [
      " 86%|████████▋ | 942/1090 [02:19<00:20,  7.18it/s]"
     ]
    },
    {
     "name": "stdout",
     "output_type": "stream",
     "text": [
      "Executed: \n",
      "            MATCH (a {name: 'Merck Mercuriadis'}),\n",
      "                  (b {name: 'Hipgnosis Songs Fun...\n",
      "Executed: \n",
      "            MATCH (a {name: 'Brigid Schulte'}),\n",
      "                  (b {name: 'Slack Future Forum'})\n",
      "...\n"
     ]
    },
    {
     "name": "stderr",
     "output_type": "stream",
     "text": [
      " 87%|████████▋ | 944/1090 [02:19<00:19,  7.30it/s]"
     ]
    },
    {
     "name": "stdout",
     "output_type": "stream",
     "text": [
      "Executed: \n",
      "            MATCH (a {name: 'Oliver Balch'}),\n",
      "                  (b {name: 'Slack Future Forum'})\n",
      "  ...\n",
      "Executed: \n",
      "            MATCH (a {name: 'US ambassador Mushingi'}),\n",
      "                  (b {name: 'Lobito Corrido...\n"
     ]
    },
    {
     "name": "stderr",
     "output_type": "stream",
     "text": [
      " 87%|████████▋ | 946/1090 [02:20<00:20,  7.07it/s]"
     ]
    },
    {
     "name": "stdout",
     "output_type": "stream",
     "text": [
      "Executed: \n",
      "            MATCH (a {name: 'Louis Hagen Hall'}),\n",
      "                  (b {name: 'Case Study House arc...\n",
      "Executed: \n",
      "            MATCH (a {name: 'Derek Guy'}),\n",
      "                  (b {name: 'Allbirds'})\n",
      "            MER...\n"
     ]
    },
    {
     "name": "stderr",
     "output_type": "stream",
     "text": [
      " 87%|████████▋ | 948/1090 [02:20<00:21,  6.74it/s]"
     ]
    },
    {
     "name": "stdout",
     "output_type": "stream",
     "text": [
      "Executed: \n",
      "            MATCH (a {name: 'Derek Guy'}),\n",
      "                  (b {name: 'Tommy Hilfiger'})\n",
      "         ...\n",
      "Executed: \n",
      "            MATCH (a {name: 'Chris Giles'}),\n",
      "                  (b {name: 'Financial Times'})\n",
      "      ...\n"
     ]
    },
    {
     "name": "stderr",
     "output_type": "stream",
     "text": [
      " 87%|████████▋ | 950/1090 [02:20<00:20,  6.76it/s]"
     ]
    },
    {
     "name": "stdout",
     "output_type": "stream",
     "text": [
      "Executed: \n",
      "            MATCH (a {name: 'Sam Altman'}),\n",
      "                  (b {name: 'FT'})\n",
      "            MERGE (a...\n",
      "Executed: \n",
      "            MATCH (a {name: 'Maria Grazia Chiuri'}),\n",
      "                  (b {name: 'Dior'})\n",
      "         ...\n"
     ]
    },
    {
     "name": "stderr",
     "output_type": "stream",
     "text": [
      " 87%|████████▋ | 952/1090 [02:21<00:19,  7.02it/s]"
     ]
    },
    {
     "name": "stdout",
     "output_type": "stream",
     "text": [
      "Executed: \n",
      "            MATCH (a {name: 'Rachel Reeves'}),\n",
      "                  (b {name: 'UK Government'})\n",
      "      ...\n",
      "Executed: \n",
      "            MATCH (a {name: 'Stephen Evans'}),\n",
      "                  (b {name: 'Learning and Work Insti...\n"
     ]
    },
    {
     "name": "stderr",
     "output_type": "stream",
     "text": [
      " 88%|████████▊ | 954/1090 [02:21<00:19,  6.86it/s]"
     ]
    },
    {
     "name": "stdout",
     "output_type": "stream",
     "text": [
      "Executed: \n",
      "            MATCH (a {name: 'Jamie Cater'}),\n",
      "                  (b {name: 'Make UK'})\n",
      "            ME...\n",
      "Executed: \n",
      "            MATCH (a {name: 'Mr Crastes'}),\n",
      "                  (b {name: 'H2O'})\n",
      "            MERGE (...\n"
     ]
    },
    {
     "name": "stderr",
     "output_type": "stream",
     "text": [
      " 88%|████████▊ | 956/1090 [02:21<00:20,  6.58it/s]"
     ]
    },
    {
     "name": "stdout",
     "output_type": "stream",
     "text": [
      "Executed: \n",
      "            MATCH (a {name: 'Tim Hetherington'}),\n",
      "                  (b {name: 'British Council Coll...\n",
      "Executed: \n",
      "            MATCH (a {name: 'Suwon Lee'}),\n",
      "                  (b {name: 'Walther Koenig'})\n",
      "         ...\n"
     ]
    },
    {
     "name": "stderr",
     "output_type": "stream",
     "text": [
      " 88%|████████▊ | 958/1090 [02:22<00:19,  6.94it/s]"
     ]
    },
    {
     "name": "stdout",
     "output_type": "stream",
     "text": [
      "Executed: \n",
      "            MATCH (a {name: 'Roden Roden'}),\n",
      "                  (b {name: 'Unlocking Potential'})\n",
      "  ...\n",
      "Executed: \n",
      "            MATCH (a {name: 'George Parker'}),\n",
      "                  (b {name: 'The Financial Times'})\n",
      "...\n"
     ]
    },
    {
     "name": "stderr",
     "output_type": "stream",
     "text": [
      " 88%|████████▊ | 960/1090 [02:22<00:18,  6.91it/s]"
     ]
    },
    {
     "name": "stdout",
     "output_type": "stream",
     "text": [
      "Executed: \n",
      "            MATCH (a {name: 'Miranda Green'}),\n",
      "                  (b {name: 'The Financial Times'})\n",
      "...\n",
      "Executed: \n",
      "            MATCH (a {name: 'Elon Musk'}),\n",
      "                  (b {name: 'X (formerly Twitter)'})\n",
      "   ...\n"
     ]
    },
    {
     "name": "stderr",
     "output_type": "stream",
     "text": [
      " 88%|████████▊ | 962/1090 [02:22<00:18,  6.96it/s]"
     ]
    },
    {
     "name": "stdout",
     "output_type": "stream",
     "text": [
      "Executed: \n",
      "            MATCH (a {name: 'Gigi Hadid'}),\n",
      "                  (b {name: 'Maybelline'})\n",
      "            ...\n",
      "Executed: \n",
      "            MATCH (a {name: 'Kate Elwell'}),\n",
      "                  (b {name: 'Master The Art'})\n",
      "       ...\n"
     ]
    },
    {
     "name": "stderr",
     "output_type": "stream",
     "text": [
      " 88%|████████▊ | 964/1090 [02:22<00:18,  6.93it/s]"
     ]
    },
    {
     "name": "stdout",
     "output_type": "stream",
     "text": [
      "Executed: \n",
      "            MATCH (a {name: 'Roger Newton'}),\n",
      "                  (b {name: 'Master The Art'})\n",
      "      ...\n",
      "Executed: \n",
      "            MATCH (a {name: 'Jared Bernstein'}),\n",
      "                  (b {name: 'Unhedged'})\n",
      "         ...\n"
     ]
    },
    {
     "name": "stderr",
     "output_type": "stream",
     "text": [
      " 89%|████████▊ | 966/1090 [02:23<00:17,  6.91it/s]"
     ]
    },
    {
     "name": "stdout",
     "output_type": "stream",
     "text": [
      "Executed: \n",
      "            MATCH (a {name: 'Shekhar Aiyar'}),\n",
      "                  (b {name: 'FT'})\n",
      "            MERGE...\n",
      "Executed: \n",
      "            MATCH (a {name: 'Emma Jacobs'}),\n",
      "                  (b {name: 'PokerStars'})\n",
      "           ...\n"
     ]
    },
    {
     "name": "stderr",
     "output_type": "stream",
     "text": [
      " 89%|████████▉ | 968/1090 [02:23<00:20,  6.00it/s]"
     ]
    },
    {
     "name": "stdout",
     "output_type": "stream",
     "text": [
      "Executed: \n",
      "            MATCH (a {name: 'Nate Silver'}),\n",
      "                  (b {name: 'FiveThirtyEight'})\n",
      "      ...\n",
      "Executed: \n",
      "            MATCH (a {name: 'Katie Martin'}),\n",
      "                  (b {name: 'Financial Times'})\n",
      "     ...\n"
     ]
    },
    {
     "name": "stderr",
     "output_type": "stream",
     "text": [
      " 89%|████████▉ | 970/1090 [02:23<00:18,  6.38it/s]"
     ]
    },
    {
     "name": "stdout",
     "output_type": "stream",
     "text": [
      "Executed: \n",
      "            MATCH (a {name: 'Jim Leaviss'}),\n",
      "                  (b {name: 'Financial Times'})\n",
      "      ...\n",
      "Executed: \n",
      "            MATCH (a {name: 'Jeff Bezos'}),\n",
      "                  (b {name: 'Greenhouse Gas Protocol'})...\n"
     ]
    },
    {
     "name": "stderr",
     "output_type": "stream",
     "text": [
      " 89%|████████▉ | 972/1090 [02:24<00:17,  6.79it/s]"
     ]
    },
    {
     "name": "stdout",
     "output_type": "stream",
     "text": [
      "Executed: \n",
      "            MATCH (a {name: 'Amazon'}),\n",
      "                  (b {name: 'Greenhouse Gas Protocol'})\n",
      "   ...\n",
      "Executed: \n",
      "            MATCH (a {name: 'Catherine Mann'}),\n",
      "                  (b {name: 'Bank of England'})\n",
      "   ...\n"
     ]
    },
    {
     "name": "stderr",
     "output_type": "stream",
     "text": [
      " 89%|████████▉ | 974/1090 [02:24<00:16,  7.08it/s]"
     ]
    },
    {
     "name": "stdout",
     "output_type": "stream",
     "text": [
      "Executed: \n",
      "            MATCH (a {name: 'David Beckham'}),\n",
      "                  (b {name: 'Haig Club'})\n",
      "          ...\n",
      "Executed: \n",
      "            MATCH (a {name: 'David Giroux'}),\n",
      "                  (b {name: 'T Rowe Price'})\n",
      "        ...\n"
     ]
    },
    {
     "name": "stderr",
     "output_type": "stream",
     "text": [
      " 90%|████████▉ | 976/1090 [02:24<00:16,  6.85it/s]"
     ]
    },
    {
     "name": "stdout",
     "output_type": "stream",
     "text": [
      "Executed: \n",
      "            MATCH (a {name: 'Tierney Tierney'}),\n",
      "                  (b {name: 'GTS'})\n",
      "            ME...\n",
      "Executed: \n",
      "            MATCH (a {name: 'Microsoft'}),\n",
      "                  (b {name: 'OpenAI'})\n",
      "            MERGE...\n"
     ]
    },
    {
     "name": "stderr",
     "output_type": "stream",
     "text": [
      " 90%|████████▉ | 978/1090 [02:24<00:15,  7.10it/s]"
     ]
    },
    {
     "name": "stdout",
     "output_type": "stream",
     "text": [
      "Executed: \n",
      "            MATCH (a {name: 'Meta'}),\n",
      "                  (b {name: 'Google'})\n",
      "            MERGE (a)-...\n",
      "Executed: \n",
      "            MATCH (a {name: 'Claer Barrett'}),\n",
      "                  (b {name: 'Bose'})\n",
      "            MER...\n"
     ]
    },
    {
     "name": "stderr",
     "output_type": "stream",
     "text": [
      " 90%|████████▉ | 980/1090 [02:25<00:15,  6.94it/s]"
     ]
    },
    {
     "name": "stdout",
     "output_type": "stream",
     "text": [
      "Executed: \n",
      "            MATCH (a {name: 'Andrew Thompson'}),\n",
      "                  (b {name: 'The Economist'})\n",
      "    ...\n",
      "Executed: \n",
      "            MATCH (a {name: 'Fatih Birol'}),\n",
      "                  (b {name: 'International Energy Agen...\n"
     ]
    },
    {
     "name": "stderr",
     "output_type": "stream",
     "text": [
      " 90%|█████████ | 982/1090 [02:25<00:16,  6.70it/s]"
     ]
    },
    {
     "name": "stdout",
     "output_type": "stream",
     "text": [
      "Executed: \n",
      "            MATCH (a {name: 'Laura Cozzi'}),\n",
      "                  (b {name: 'International Energy Agen...\n",
      "Executed: \n",
      "            MATCH (a {name: 'Lilly Singh'}),\n",
      "                  (b {name: 'Sephora'})\n",
      "            ME...\n"
     ]
    },
    {
     "name": "stderr",
     "output_type": "stream",
     "text": [
      " 90%|█████████ | 984/1090 [02:25<00:15,  6.79it/s]"
     ]
    },
    {
     "name": "stdout",
     "output_type": "stream",
     "text": [
      "Executed: \n",
      "            MATCH (a {name: 'Nikita Dragun'}),\n",
      "                  (b {name: 'NARS'})\n",
      "            MER...\n",
      "Executed: \n",
      "            MATCH (a {name: 'Tourists'}),\n",
      "                  (b {name: 'The Goat Farm'})\n",
      "           ...\n"
     ]
    },
    {
     "name": "stderr",
     "output_type": "stream",
     "text": [
      " 90%|█████████ | 986/1090 [02:26<00:15,  6.63it/s]"
     ]
    },
    {
     "name": "stdout",
     "output_type": "stream",
     "text": [
      "Executed: \n",
      "            MATCH (a {name: 'Coe'}),\n",
      "                  (b {name: 'Winners Alliance'})\n",
      "            M...\n",
      "Executed: \n",
      "            MATCH (a {name: 'Coe'}),\n",
      "                  (b {name: 'Two Circles'})\n",
      "            MERGE ...\n"
     ]
    },
    {
     "name": "stderr",
     "output_type": "stream",
     "text": [
      " 91%|█████████ | 988/1090 [02:26<00:15,  6.73it/s]"
     ]
    },
    {
     "name": "stdout",
     "output_type": "stream",
     "text": [
      "Executed: \n",
      "            MATCH (a {name: 'Sandra Sucher'}),\n",
      "                  (b {name: 'Boston Consulting Group...\n",
      "Executed: \n",
      "            MATCH (a {name: 'Bill Ackman'}),\n",
      "                  (b {name: 'Starboard Value LP'})\n",
      "   ...\n"
     ]
    },
    {
     "name": "stderr",
     "output_type": "stream",
     "text": [
      " 91%|█████████ | 990/1090 [02:26<00:14,  7.05it/s]"
     ]
    },
    {
     "name": "stdout",
     "output_type": "stream",
     "text": [
      "Executed: \n",
      "            MATCH (a {name: 'James Fontanella-Khan'}),\n",
      "                  (b {name: 'McDonald\\'s Cor...\n",
      "Executed: \n",
      "            MATCH (a {name: 'Amy Goldstein'}),\n",
      "                  (b {name: 'The New York Times'})\n",
      " ...\n"
     ]
    },
    {
     "name": "stderr",
     "output_type": "stream",
     "text": [
      " 91%|█████████ | 992/1090 [02:27<00:14,  6.90it/s]"
     ]
    },
    {
     "name": "stdout",
     "output_type": "stream",
     "text": [
      "Executed: \n",
      "            MATCH (a {name: 'Larry Fink'}),\n",
      "                  (b {name: 'BlackRock'})\n",
      "            M...\n",
      "Executed: \n",
      "            MATCH (a {name: 'Joe Bae'}),\n",
      "                  (b {name: 'KKR'})\n",
      "            MERGE (a)-...\n"
     ]
    },
    {
     "name": "stderr",
     "output_type": "stream",
     "text": [
      " 91%|█████████ | 994/1090 [02:27<00:13,  7.12it/s]"
     ]
    },
    {
     "name": "stdout",
     "output_type": "stream",
     "text": [
      "Executed: \n",
      "            MATCH (a {name: 'Steve Schwarzman'}),\n",
      "                  (b {name: 'Blackstone'})\n",
      "      ...\n",
      "Executed: \n",
      "            MATCH (a {name: 'David Rubenstein'}),\n",
      "                  (b {name: 'Carlyle'})\n",
      "         ...\n"
     ]
    },
    {
     "name": "stderr",
     "output_type": "stream",
     "text": [
      " 91%|█████████▏| 996/1090 [02:27<00:13,  6.97it/s]"
     ]
    },
    {
     "name": "stdout",
     "output_type": "stream",
     "text": [
      "Executed: \n",
      "            MATCH (a {name: 'Madison Darbyshire'}),\n",
      "                  (b {name: 'Charlie XCX'})\n",
      "   ...\n",
      "Executed: \n",
      "            MATCH (a {name: 'Lilah Raptopoulos'}),\n",
      "                  (b {name: 'FT Weekend'})\n",
      "     ...\n"
     ]
    },
    {
     "name": "stderr",
     "output_type": "stream",
     "text": [
      " 92%|█████████▏| 998/1090 [02:27<00:12,  7.16it/s]"
     ]
    },
    {
     "name": "stdout",
     "output_type": "stream",
     "text": [
      "Executed: \n",
      "            MATCH (a {name: 'Stephen Bush'}),\n",
      "                  (b {name: 'The Financial Times'})\n",
      " ...\n",
      "Executed: \n",
      "            MATCH (a {name: 'Robert Shrimsley'}),\n",
      "                  (b {name: 'The Financial Times'...\n"
     ]
    },
    {
     "name": "stderr",
     "output_type": "stream",
     "text": [
      " 92%|█████████▏| 1000/1090 [02:28<00:13,  6.91it/s]"
     ]
    },
    {
     "name": "stdout",
     "output_type": "stream",
     "text": [
      "Executed: \n",
      "            MATCH (a {name: 'George Parker'}),\n",
      "                  (b {name: 'The Financial Times'})\n",
      "...\n",
      "Executed: \n",
      "            MATCH (a {name: 'Porter'}),\n",
      "                  (b {name: 'Northern Data'})\n",
      "            M...\n"
     ]
    },
    {
     "name": "stderr",
     "output_type": "stream",
     "text": [
      " 92%|█████████▏| 1002/1090 [02:28<00:12,  7.01it/s]"
     ]
    },
    {
     "name": "stdout",
     "output_type": "stream",
     "text": [
      "Executed: \n",
      "            MATCH (a {name: 'Kama'}),\n",
      "                  (b {name: 'Northern Data'})\n",
      "            MER...\n",
      "Executed: \n",
      "            MATCH (a {name: 'Habiba Chowdhury'}),\n",
      "                  (b {name: 'Charlotte Tilbury'})...\n"
     ]
    },
    {
     "name": "stderr",
     "output_type": "stream",
     "text": [
      " 92%|█████████▏| 1004/1090 [02:28<00:12,  7.15it/s]"
     ]
    },
    {
     "name": "stdout",
     "output_type": "stream",
     "text": [
      "Executed: \n",
      "            MATCH (a {name: 'Habiba Chowdhury'}),\n",
      "                  (b {name: 'Rare Beauty'})\n",
      "     ...\n",
      "Executed: \n",
      "            MATCH (a {name: 'Arti Singhal'}),\n",
      "                  (b {name: 'Dior beauty'})\n",
      "         ...\n"
     ]
    },
    {
     "name": "stderr",
     "output_type": "stream",
     "text": [
      " 92%|█████████▏| 1006/1090 [02:29<00:11,  7.15it/s]"
     ]
    },
    {
     "name": "stdout",
     "output_type": "stream",
     "text": [
      "Executed: \n",
      "            MATCH (a {name: 'Arti Singhal'}),\n",
      "                  (b {name: 'Charlotte Tilbury'})\n",
      "   ...\n",
      "Executed: \n",
      "            MATCH (a {name: 'Justin Johnson'}),\n",
      "                  (b {name: 'BMP'})\n",
      "            MER...\n"
     ]
    },
    {
     "name": "stderr",
     "output_type": "stream",
     "text": [
      " 92%|█████████▏| 1008/1090 [02:29<00:11,  7.25it/s]"
     ]
    },
    {
     "name": "stdout",
     "output_type": "stream",
     "text": [
      "Executed: \n",
      "            MATCH (a {name: 'Cristiano Ronaldo'}),\n",
      "                  (b {name: 'Louis Vuitton'})\n",
      "  ...\n",
      "Executed: \n",
      "            MATCH (a {name: 'Lionel Messi'}),\n",
      "                  (b {name: 'Louis Vuitton'})\n",
      "       ...\n"
     ]
    },
    {
     "name": "stderr",
     "output_type": "stream",
     "text": [
      " 93%|█████████▎| 1010/1090 [02:29<00:11,  7.26it/s]"
     ]
    },
    {
     "name": "stdout",
     "output_type": "stream",
     "text": [
      "Executed: \n",
      "            MATCH (a {name: 'Roger Federer'}),\n",
      "                  (b {name: 'Louis Vuitton'})\n",
      "      ...\n",
      "Executed: \n",
      "            MATCH (a {name: 'Rafael Nadal'}),\n",
      "                  (b {name: 'Louis Vuitton'})\n",
      "       ...\n"
     ]
    },
    {
     "name": "stderr",
     "output_type": "stream",
     "text": [
      " 93%|█████████▎| 1012/1090 [02:29<00:10,  7.31it/s]"
     ]
    },
    {
     "name": "stdout",
     "output_type": "stream",
     "text": [
      "Executed: \n",
      "            MATCH (a {name: 'Victor Wembanyama'}),\n",
      "                  (b {name: 'Louis Vuitton'})\n",
      "  ...\n",
      "Executed: \n",
      "            MATCH (a {name: 'Léon Marchand'}),\n",
      "                  (b {name: 'Dior'})\n",
      "            MER...\n"
     ]
    },
    {
     "name": "stderr",
     "output_type": "stream",
     "text": [
      " 93%|█████████▎| 1014/1090 [02:30<00:10,  7.02it/s]"
     ]
    },
    {
     "name": "stdout",
     "output_type": "stream",
     "text": [
      "Executed: \n",
      "            MATCH (a {name: 'Enzo Lefort'}),\n",
      "                  (b {name: 'Louis Vuitton'})\n",
      "        ...\n",
      "Executed: \n",
      "            MATCH (a {name: 'Patrick Grant'}),\n",
      "                  (b {name: 'Community Clothing'})\n",
      " ...\n"
     ]
    },
    {
     "name": "stderr",
     "output_type": "stream",
     "text": [
      " 93%|█████████▎| 1016/1090 [02:30<00:10,  7.13it/s]"
     ]
    },
    {
     "name": "stdout",
     "output_type": "stream",
     "text": [
      "Executed: \n",
      "            MATCH (a {name: 'Brooke Masters'}),\n",
      "                  (b {name: 'Le Bernardin'})\n",
      "      ...\n",
      "Executed: \n",
      "            MATCH (a {name: 'Bella Hadid'}),\n",
      "                  (b {name: 'Dior'})\n",
      "            MERGE...\n"
     ]
    },
    {
     "name": "stderr",
     "output_type": "stream",
     "text": [
      " 93%|█████████▎| 1018/1090 [02:30<00:10,  6.71it/s]"
     ]
    },
    {
     "name": "stdout",
     "output_type": "stream",
     "text": [
      "Executed: \n",
      "            MATCH (a {name: 'Rishi Sunak'}),\n",
      "                  (b {name: 'Labour Party'})\n",
      "         ...\n",
      "Executed: \n",
      "            MATCH (a {name: 'Kwasi Kwarteng'}),\n",
      "                  (b {name: 'Rishi Sunak'})\n",
      "       ...\n"
     ]
    },
    {
     "name": "stderr",
     "output_type": "stream",
     "text": [
      " 94%|█████████▎| 1020/1090 [02:31<00:10,  6.78it/s]"
     ]
    },
    {
     "name": "stdout",
     "output_type": "stream",
     "text": [
      "Executed: \n",
      "            MATCH (a {name: 'George Eustice'}),\n",
      "                  (b {name: 'Rishi Sunak'})\n",
      "       ...\n",
      "Executed: \n",
      "            MATCH (a {name: 'Pete Wishart'}),\n",
      "                  (b {name: 'Labour Party'})\n",
      "        ...\n"
     ]
    },
    {
     "name": "stderr",
     "output_type": "stream",
     "text": [
      " 94%|█████████▍| 1022/1090 [02:31<00:10,  6.80it/s]"
     ]
    },
    {
     "name": "stdout",
     "output_type": "stream",
     "text": [
      "Executed: \n",
      "            MATCH (a {name: 'Lucy Fisher'}),\n",
      "                  (b {name: 'Bob Blackman'})\n",
      "         ...\n",
      "Executed: \n",
      "            MATCH (a {name: 'Elon Musk'}),\n",
      "                  (b {name: 'X (Twitter)'})\n",
      "            ...\n"
     ]
    },
    {
     "name": "stderr",
     "output_type": "stream",
     "text": [
      " 94%|█████████▍| 1024/1090 [02:31<00:09,  7.04it/s]"
     ]
    },
    {
     "name": "stdout",
     "output_type": "stream",
     "text": [
      "Executed: \n",
      "            MATCH (a {name: 'Peter Thiel'}),\n",
      "                  (b {name: 'Donald Trump'})\n",
      "         ...\n",
      "Executed: \n",
      "            MATCH (a {name: 'Max Levchin'}),\n",
      "                  (b {name: 'Donald Trump'})\n",
      "         ...\n"
     ]
    },
    {
     "name": "stderr",
     "output_type": "stream",
     "text": [
      " 94%|█████████▍| 1026/1090 [02:31<00:08,  7.19it/s]"
     ]
    },
    {
     "name": "stdout",
     "output_type": "stream",
     "text": [
      "Executed: \n",
      "            MATCH (a {name: 'Lars Dalgaard'}),\n",
      "                  (b {name: 'Donald Trump'})\n",
      "       ...\n",
      "Executed: \n",
      "            MATCH (a {name: 'Anglo Price'}),\n",
      "                  (b {name: 'Allen & Overy'})\n",
      "        ...\n"
     ]
    },
    {
     "name": "stderr",
     "output_type": "stream",
     "text": [
      " 94%|█████████▍| 1028/1090 [02:32<00:08,  6.99it/s]"
     ]
    },
    {
     "name": "stdout",
     "output_type": "stream",
     "text": [
      "Executed: \n",
      "            MATCH (a {name: 'Anglo Price'}),\n",
      "                  (b {name: 'Shearman & Sterling'})\n",
      "  ...\n",
      "Executed: \n",
      "            MATCH (a {name: 'Adam Creen'}),\n",
      "                  (b {name: 'Hyundai'})\n",
      "            MER...\n"
     ]
    },
    {
     "name": "stderr",
     "output_type": "stream",
     "text": [
      " 94%|█████████▍| 1030/1090 [02:32<00:08,  7.15it/s]"
     ]
    },
    {
     "name": "stdout",
     "output_type": "stream",
     "text": [
      "Executed: \n",
      "            MATCH (a {name: 'Fairer Finance\\'s Daley'}),\n",
      "                  (b {name: 'Insurance Ind...\n",
      "Executed: \n",
      "            MATCH (a {name: 'Rishi Sunak'}),\n",
      "                  (b {name: 'City of London'})\n",
      "       ...\n"
     ]
    },
    {
     "name": "stderr",
     "output_type": "stream",
     "text": [
      " 95%|█████████▍| 1032/1090 [02:32<00:07,  7.25it/s]"
     ]
    },
    {
     "name": "stdout",
     "output_type": "stream",
     "text": [
      "Executed: \n",
      "            MATCH (a {name: 'atie Martin'}),\n",
      "                  (b {name: 'FT'})\n",
      "            MERGE (...\n",
      "Executed: \n",
      "            MATCH (a {name: 'Simon Mundy'}),\n",
      "                  (b {name: 'FT'})\n",
      "            MERGE (...\n"
     ]
    },
    {
     "name": "stderr",
     "output_type": "stream",
     "text": [
      " 95%|█████████▍| 1034/1090 [02:32<00:07,  7.31it/s]"
     ]
    },
    {
     "name": "stdout",
     "output_type": "stream",
     "text": [
      "Executed: \n",
      "            MATCH (a {name: 'Hyun Song Shin'}),\n",
      "                  (b {name: 'Bank for International...\n",
      "Executed: \n",
      "            MATCH (a {name: 'Rachel Reeves'}),\n",
      "                  (b {name: 'Labour Party'})\n",
      "       ...\n"
     ]
    },
    {
     "name": "stderr",
     "output_type": "stream",
     "text": [
      " 95%|█████████▌| 1036/1090 [02:33<00:07,  7.33it/s]"
     ]
    },
    {
     "name": "stdout",
     "output_type": "stream",
     "text": [
      "Executed: \n",
      "            MATCH (a {name: 'Laura Empson'}),\n",
      "                  (b {name: 'PwC'})\n",
      "            MERGE...\n",
      "Executed: \n",
      "            MATCH (a {name: 'Chris Giles'}),\n",
      "                  (b {name: 'The Financial Times'})\n",
      "  ...\n"
     ]
    },
    {
     "name": "stderr",
     "output_type": "stream",
     "text": [
      "\r 95%|█████████▌| 1037/1090 [02:33<00:07,  7.32it/s]"
     ]
    },
    {
     "name": "stdout",
     "output_type": "stream",
     "text": [
      "Executed: \n",
      "            MATCH (a {name: 'Katie Martin'}),\n",
      "                  (b {name: 'The Financial Times'})\n",
      " ...\n"
     ]
    },
    {
     "name": "stderr",
     "output_type": "stream",
     "text": [
      " 95%|█████████▌| 1039/1090 [02:33<00:08,  6.01it/s]"
     ]
    },
    {
     "name": "stdout",
     "output_type": "stream",
     "text": [
      "Executed: \n",
      "            MATCH (a {name: 'UK Ministry of Defence'}),\n",
      "                  (b {name: 'Saab'})\n",
      "      ...\n",
      "Executed: \n",
      "            MATCH (a {name: 'UK Ministry of Defence'}),\n",
      "                  (b {name: 'Airbus Defence...\n"
     ]
    },
    {
     "name": "stderr",
     "output_type": "stream",
     "text": [
      " 96%|█████████▌| 1041/1090 [02:34<00:07,  6.62it/s]"
     ]
    },
    {
     "name": "stdout",
     "output_type": "stream",
     "text": [
      "Executed: \n",
      "            MATCH (a {name: 'Angus Deaton'}),\n",
      "                  (b {name: 'Princeton University Pre...\n",
      "Executed: \n",
      "            MATCH (a {name: 'Marco Malagoni'}),\n",
      "                  (b {name: 'Waverton'})\n",
      "          ...\n"
     ]
    },
    {
     "name": "stderr",
     "output_type": "stream",
     "text": [
      " 96%|█████████▌| 1043/1090 [02:34<00:07,  6.68it/s]"
     ]
    },
    {
     "name": "stdout",
     "output_type": "stream",
     "text": [
      "Executed: \n",
      "            MATCH (a {name: 'Paul Collier'}),\n",
      "                  (b {name: 'The Economist'})\n",
      "       ...\n",
      "Executed: \n",
      "            MATCH (a {name: 'Rosanna Pansino'}),\n",
      "                  (b {name: 'Wilton'})\n",
      "           ...\n"
     ]
    },
    {
     "name": "stderr",
     "output_type": "stream",
     "text": [
      " 96%|█████████▌| 1045/1090 [02:34<00:06,  6.78it/s]"
     ]
    },
    {
     "name": "stdout",
     "output_type": "stream",
     "text": [
      "Executed: \n",
      "            MATCH (a {name: 'Sabrina Carpenter'}),\n",
      "                  (b {name: 'Samsung'})\n",
      "        ...\n",
      "Executed: \n",
      "            MATCH (a {name: 'Nikita Dragun'}),\n",
      "                  (b {name: 'Revolution Beauty'})\n",
      "  ...\n"
     ]
    },
    {
     "name": "stderr",
     "output_type": "stream",
     "text": [
      " 96%|█████████▌| 1047/1090 [02:34<00:06,  7.05it/s]"
     ]
    },
    {
     "name": "stdout",
     "output_type": "stream",
     "text": [
      "Executed: \n",
      "            MATCH (a {name: 'Ashley Graham'}),\n",
      "                  (b {name: 'Addition Elle'})\n",
      "      ...\n",
      "Executed: \n",
      "            MATCH (a {name: 'Raghuram Rajan'}),\n",
      "                  (b {name: 'Reserve Bank of India'...\n"
     ]
    },
    {
     "name": "stderr",
     "output_type": "stream",
     "text": [
      " 96%|█████████▌| 1049/1090 [02:35<00:06,  6.77it/s]"
     ]
    },
    {
     "name": "stdout",
     "output_type": "stream",
     "text": [
      "Executed: \n",
      "            MATCH (a {name: 'Barmes'}),\n",
      "                  (b {name: 'Amherst'})\n",
      "            MERGE (...\n",
      "Executed: \n",
      "            MATCH (a {name: 'Lister'}),\n",
      "                  (b {name: 'Gemcorp'})\n",
      "            MERGE (...\n"
     ]
    },
    {
     "name": "stderr",
     "output_type": "stream",
     "text": [
      " 96%|█████████▋| 1051/1090 [02:35<00:05,  7.08it/s]"
     ]
    },
    {
     "name": "stdout",
     "output_type": "stream",
     "text": [
      "Executed: \n",
      "            MATCH (a {name: 'Grimstone'}),\n",
      "                  (b {name: 'Gemcorp'})\n",
      "            MERG...\n",
      "Executed: \n",
      "            MATCH (a {name: 'Wallooppillai'}),\n",
      "                  (b {name: 'Gemcorp'})\n",
      "            ...\n"
     ]
    },
    {
     "name": "stderr",
     "output_type": "stream",
     "text": [
      " 97%|█████████▋| 1053/1090 [02:35<00:05,  6.96it/s]"
     ]
    },
    {
     "name": "stdout",
     "output_type": "stream",
     "text": [
      "Executed: \n",
      "            MATCH (a {name: 'Simon Penney'}),\n",
      "                  (b {name: 'Gemcorp'})\n",
      "            M...\n",
      "Executed: \n",
      "            MATCH (a {name: 'Baccio'}),\n",
      "                  (b {name: 'Microsoft'})\n",
      "            MERGE...\n"
     ]
    },
    {
     "name": "stderr",
     "output_type": "stream",
     "text": [
      " 97%|█████████▋| 1055/1090 [02:36<00:05,  6.85it/s]"
     ]
    },
    {
     "name": "stdout",
     "output_type": "stream",
     "text": [
      "Executed: \n",
      "            MATCH (a {name: 'Hittle'}),\n",
      "                  (b {name: 'Microsoft'})\n",
      "            MERGE...\n",
      "Executed: \n",
      "            MATCH (a {name: 'Jim Cramer'}),\n",
      "                  (b {name: 'Home Depot'})\n",
      "            ...\n"
     ]
    },
    {
     "name": "stderr",
     "output_type": "stream",
     "text": [
      " 97%|█████████▋| 1057/1090 [02:36<00:04,  7.06it/s]"
     ]
    },
    {
     "name": "stdout",
     "output_type": "stream",
     "text": [
      "Executed: \n",
      "            MATCH (a {name: 'Jim Cramer'}),\n",
      "                  (b {name: 'Lowe’s'})\n",
      "            MERG...\n",
      "Executed: \n",
      "            MATCH (a {name: 'Jim Cramer'}),\n",
      "                  (b {name: 'AbbVie (ABBV)'})\n",
      "         ...\n"
     ]
    },
    {
     "name": "stderr",
     "output_type": "stream",
     "text": [
      " 97%|█████████▋| 1059/1090 [02:36<00:04,  7.16it/s]"
     ]
    },
    {
     "name": "stdout",
     "output_type": "stream",
     "text": [
      "Executed: \n",
      "            MATCH (a {name: 'Jim Cramer'}),\n",
      "                  (b {name: 'Hasbro (HAS)'})\n",
      "          ...\n",
      "Executed: \n",
      "            MATCH (a {name: 'Jim Cramer'}),\n",
      "                  (b {name: 'Southwest Airlines Co. (LU...\n"
     ]
    },
    {
     "name": "stderr",
     "output_type": "stream",
     "text": [
      " 97%|█████████▋| 1061/1090 [02:36<00:04,  6.97it/s]"
     ]
    },
    {
     "name": "stdout",
     "output_type": "stream",
     "text": [
      "Executed: \n",
      "            MATCH (a {name: 'Jim Cramer'}),\n",
      "                  (b {name: 'New York Community Bancorp...\n",
      "Executed: \n",
      "            MATCH (a {name: 'Jim Cramer'}),\n",
      "                  (b {name: 'RTX Corporation (RTX)'})\n",
      " ...\n"
     ]
    },
    {
     "name": "stderr",
     "output_type": "stream",
     "text": [
      " 98%|█████████▊| 1063/1090 [02:37<00:03,  7.16it/s]"
     ]
    },
    {
     "name": "stdout",
     "output_type": "stream",
     "text": [
      "Executed: \n",
      "            MATCH (a {name: 'Jim Cramer'}),\n",
      "                  (b {name: 'AstraZeneca (AZN)'})\n",
      "     ...\n",
      "Executed: \n",
      "            MATCH (a {name: 'Jim Cramer'}),\n",
      "                  (b {name: 'Keurig Dr Pepper (KDP)'})\n",
      "...\n"
     ]
    },
    {
     "name": "stderr",
     "output_type": "stream",
     "text": [
      " 98%|█████████▊| 1065/1090 [02:37<00:03,  7.25it/s]"
     ]
    },
    {
     "name": "stdout",
     "output_type": "stream",
     "text": [
      "Executed: \n",
      "            MATCH (a {name: 'Jim Cramer'}),\n",
      "                  (b {name: 'Carrier Global Corporation...\n",
      "Executed: \n",
      "            MATCH (a {name: 'Jim Cramer'}),\n",
      "                  (b {name: 'Integer Holdings Corporati...\n"
     ]
    },
    {
     "name": "stderr",
     "output_type": "stream",
     "text": [
      " 98%|█████████▊| 1067/1090 [02:37<00:03,  7.33it/s]"
     ]
    },
    {
     "name": "stdout",
     "output_type": "stream",
     "text": [
      "Executed: \n",
      "            MATCH (a {name: 'Jim Cramer'}),\n",
      "                  (b {name: 'Valero Energy (VLO)'})\n",
      "   ...\n",
      "Executed: \n",
      "            MATCH (a {name: 'Hannah Simone'}),\n",
      "                  (b {name: 'MasterClass'})\n",
      "        ...\n"
     ]
    },
    {
     "name": "stderr",
     "output_type": "stream",
     "text": [
      " 98%|█████████▊| 1069/1090 [02:37<00:02,  7.33it/s]"
     ]
    },
    {
     "name": "stdout",
     "output_type": "stream",
     "text": [
      "Executed: \n",
      "            MATCH (a {name: 'Gigi Hadid'}),\n",
      "                  (b {name: 'Reebok'})\n",
      "            MERG...\n",
      "Executed: \n",
      "            MATCH (a {name: 'Maya Khamitova'}),\n",
      "                  (b {name: 'PrettyLittleThing'})\n",
      " ...\n"
     ]
    },
    {
     "name": "stderr",
     "output_type": "stream",
     "text": [
      " 98%|█████████▊| 1071/1090 [02:38<00:02,  7.34it/s]"
     ]
    },
    {
     "name": "stdout",
     "output_type": "stream",
     "text": [
      "Executed: \n",
      "            MATCH (a {name: 'Fernando Ramos'}),\n",
      "                  (b {name: 'The Parenting Hub'})\n",
      " ...\n",
      "Executed: \n",
      "            MATCH (a {name: 'Dr. Jennifer Friedrichs'}),\n",
      "                  (b {name: 'The Parenting...\n"
     ]
    },
    {
     "name": "stderr",
     "output_type": "stream",
     "text": [
      " 98%|█████████▊| 1073/1090 [02:38<00:02,  7.03it/s]"
     ]
    },
    {
     "name": "stdout",
     "output_type": "stream",
     "text": [
      "Executed: \n",
      "            MATCH (a {name: 'Emily'}),\n",
      "                  (b {name: 'Ami'})\n",
      "            MERGE (a)-[:...\n",
      "Executed: \n",
      "            MATCH (a {name: 'Alfie'}),\n",
      "                  (b {name: 'Ami'})\n",
      "            MERGE (a)-[:...\n"
     ]
    },
    {
     "name": "stderr",
     "output_type": "stream",
     "text": [
      " 99%|█████████▊| 1075/1090 [02:38<00:02,  7.04it/s]"
     ]
    },
    {
     "name": "stdout",
     "output_type": "stream",
     "text": [
      "Executed: \n",
      "            MATCH (a {name: 'Dr. Sophia Bernal'}),\n",
      "                  (b {name: 'PetSafe'})\n",
      "        ...\n",
      "Executed: \n",
      "            MATCH (a {name: 'Dr. Michael Walther'}),\n",
      "                  (b {name: 'PetSafe'})\n",
      "      ...\n"
     ]
    },
    {
     "name": "stderr",
     "output_type": "stream",
     "text": [
      " 99%|█████████▉| 1077/1090 [02:39<00:01,  6.72it/s]"
     ]
    },
    {
     "name": "stdout",
     "output_type": "stream",
     "text": [
      "Executed: \n",
      "            MATCH (a {name: 'Kane'}),\n",
      "                  (b {name: 'HuffPost'})\n",
      "            MERGE (a...\n",
      "Executed: \n",
      "            MATCH (a {name: 'Jacqueline LeKachman'}),\n",
      "                  (b {name: 'HuffPost'})\n",
      "    ...\n"
     ]
    },
    {
     "name": "stderr",
     "output_type": "stream",
     "text": [
      " 99%|█████████▉| 1079/1090 [02:39<00:01,  6.36it/s]"
     ]
    },
    {
     "name": "stdout",
     "output_type": "stream",
     "text": [
      "Executed: \n",
      "            MATCH (a {name: 'Chef Erin'}),\n",
      "                  (b {name: 'FX'})\n",
      "            MERGE (a)...\n",
      "Executed: \n",
      "            MATCH (a {name: 'Zoe Sugg'}),\n",
      "                  (b {name: 'Zoella Beauty'})\n",
      "           ...\n"
     ]
    },
    {
     "name": "stderr",
     "output_type": "stream",
     "text": [
      " 99%|█████████▉| 1081/1090 [02:39<00:01,  6.54it/s]"
     ]
    },
    {
     "name": "stdout",
     "output_type": "stream",
     "text": [
      "Executed: \n",
      "            MATCH (a {name: 'Cole Sprouse'}),\n",
      "                  (b {name: 'Stella McCartney'})\n",
      "    ...\n",
      "Executed: \n",
      "            MATCH (a {name: 'Lilly Singh'}),\n",
      "                  (b {name: 'Pepsi'})\n",
      "            MERG...\n"
     ]
    },
    {
     "name": "stderr",
     "output_type": "stream",
     "text": [
      " 99%|█████████▉| 1083/1090 [02:40<00:01,  6.86it/s]"
     ]
    },
    {
     "name": "stdout",
     "output_type": "stream",
     "text": [
      "Executed: \n",
      "            MATCH (a {name: 'Amanda Bryden'}),\n",
      "                  (b {name: 'Halifax'})\n",
      "            ...\n",
      "Executed: \n",
      "            MATCH (a {name: 'James Lovelock'}),\n",
      "                  (b {name: 'Hamilton Standard'})\n",
      " ...\n"
     ]
    },
    {
     "name": "stderr",
     "output_type": "stream",
     "text": [
      "100%|█████████▉| 1085/1090 [02:40<00:00,  7.13it/s]"
     ]
    },
    {
     "name": "stdout",
     "output_type": "stream",
     "text": [
      "Executed: \n",
      "            MATCH (a {name: 'Christa Hitchcock'}),\n",
      "                  (b {name: 'Hamilton Standard'}...\n",
      "Executed: \n",
      "            MATCH (a {name: 'Steve Smith'}),\n",
      "                  (b {name: 'Care4Calais'})\n",
      "          ...\n"
     ]
    },
    {
     "name": "stderr",
     "output_type": "stream",
     "text": [
      "100%|█████████▉| 1087/1090 [02:40<00:00,  7.24it/s]"
     ]
    },
    {
     "name": "stdout",
     "output_type": "stream",
     "text": [
      "Executed: \n",
      "            MATCH (a {name: 'Alex Fraser'}),\n",
      "                  (b {name: 'British Red Cross'})\n",
      "    ...\n",
      "Executed: \n",
      "            MATCH (a {name: 'Enver Solomon'}),\n",
      "                  (b {name: 'Refugee Council'})\n",
      "    ...\n"
     ]
    },
    {
     "name": "stderr",
     "output_type": "stream",
     "text": [
      "100%|█████████▉| 1089/1090 [02:40<00:00,  7.32it/s]"
     ]
    },
    {
     "name": "stdout",
     "output_type": "stream",
     "text": [
      "Executed: \n",
      "            MATCH (a {name: 'Gail Porter'}),\n",
      "                  (b {name: 'Fair for You'})\n",
      "         ...\n",
      "Executed: \n",
      "            MATCH (a {name: 'Guy Barker'}),\n",
      "                  (b {name: 'Incognito'})\n",
      "            M...\n"
     ]
    },
    {
     "name": "stderr",
     "output_type": "stream",
     "text": [
      "100%|██████████| 1090/1090 [02:41<00:00,  6.77it/s]"
     ]
    },
    {
     "name": "stdout",
     "output_type": "stream",
     "text": [
      "Executed: \n",
      "            MATCH (a {name: 'Kamasi Washington'}),\n",
      "                  (b {name: 'Flying Lotus'})\n",
      "   ...\n"
     ]
    },
    {
     "name": "stderr",
     "output_type": "stream",
     "text": [
      "\n"
     ]
    }
   ],
   "source": [
    "with open('update-relationship.json', 'r') as f:\n",
    "    data = json.load(f)\n",
    "\n",
    "entities, relationships = extract_entities_and_relationships(data)\n",
    "node_queries = generate_node_queries(entities)\n",
    "relationship_queries = generate_relationship_queries(relationships)\n",
    "\n",
    "clear_database()\n",
    "run_cypher_queries(node_queries)\n",
    "\n",
    "run_cypher_queries(relationship_queries)"
   ]
  }
 ],
 "metadata": {
  "accelerator": "GPU",
  "colab": {
   "gpuType": "T4",
   "provenance": []
  },
  "kernelspec": {
   "display_name": "Python 3",
   "name": "python3"
  }
 },
 "nbformat": 4,
 "nbformat_minor": 0
}
