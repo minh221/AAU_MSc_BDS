{
 "cells": [
  {
   "cell_type": "markdown",
   "metadata": {},
   "source": [
    "#### How long does it take for a loan to be fully funded? A prediction using supervised machine learning\n",
    "Given this estimation, a borrower can adjust his plan and make informed decisions about when to apply for the loan, how much to borrow, and whether to explore alternative funding options to meet their financial needs more effectively. Additionally, understanding the expected funding timeline can help borrowers manage their expectations and improve their overall financial planning."
   ]
  },
  {
   "cell_type": "code",
   "execution_count": 1,
   "metadata": {},
   "outputs": [
    {
     "name": "stderr",
     "output_type": "stream",
     "text": [
      "c:\\Users\\ADMIN\\Downloads\\MSc Business Data Science\\bds_assignment\\.env\\lib\\site-packages\\tqdm\\auto.py:21: TqdmWarning: IProgress not found. Please update jupyter and ipywidgets. See https://ipywidgets.readthedocs.io/en/stable/user_install.html\n",
      "  from .autonotebook import tqdm as notebook_tqdm\n"
     ]
    }
   ],
   "source": [
    "import numpy as np\n",
    "import pandas as pd\n",
    "import matplotlib.pyplot as plt\n",
    "from sklearn.model_selection import train_test_split\n",
    "from sklearn.metrics import mean_squared_error\n",
    "from sklearn.ensemble import RandomForestRegressor\n",
    "from sklearn.preprocessing import StandardScaler, OneHotEncoder\n",
    "from sklearn.decomposition import PCA\n",
    "from xgboost import XGBRegressor\n",
    "import shap\n",
    "\n",
    "pd.set_option('display.max_rows', 50)"
   ]
  },
  {
   "cell_type": "markdown",
   "metadata": {},
   "source": [
    "##### Data Loading and Preprocessing"
   ]
  },
  {
   "cell_type": "code",
   "execution_count": 2,
   "metadata": {},
   "outputs": [
    {
     "data": {
      "text/plain": [
       "495570"
      ]
     },
     "execution_count": 2,
     "metadata": {},
     "output_type": "execute_result"
    }
   ],
   "source": [
    "## -------------- Load data --------------------\n",
    "loan_data = [pd.read_csv(f'https://github.com/minh221/AAU_MSc_BDS/raw/main/m1/data/kiva_data_{i}.zip') for i in [1,2]]\n",
    "iso = pd.read_csv('https://raw.githubusercontent.com/minh221/AAU_MSc_BDS/main/m1/data/iso_3166.csv')\n",
    "mpi = pd.read_csv('https://raw.githubusercontent.com/aaubs/ds-master/main/data/assignments_datasets/KIVA/kiva_mpi_region_locations.csv')\n",
    "## concat all parts of kiva_loan_data\n",
    "df = pd.concat(loan_data)\n",
    "\n",
    "## ------------- Clean loan data ----------------\n",
    "df = df.dropna(subset=['loan_amount', 'sector', 'term_in_months', 'lender_count', 'repayment_interval'])\n",
    "\n",
    "## calculate time for a loan to be fully funded\n",
    "date_cols = ['disbursed_time', 'funded_time']\n",
    "for col in date_cols:\n",
    "    df[col] = pd.to_datetime(df[col])\n",
    "df['days_fully_funded'] = np.ceil((df['funded_time'] - df['disbursed_time']) / np.timedelta64(1, 'D'))\n",
    "\n",
    "## remove outliers in loan amount using IQR method\n",
    "Q1 = np.percentile(df['loan_amount'], 25, method='midpoint')\n",
    "Q3 = np.percentile(df['loan_amount'], 75, method='midpoint')\n",
    "IQR = Q3 - Q1\n",
    "upper = Q3 + 1.5*IQR\n",
    "lower = Q1 - 1.5*IQR\n",
    "df = df[(df['loan_amount'] < upper) & (df['loan_amount'] > lower)]\n",
    "\n",
    "## remove column with days to fully funded < 0\n",
    "df = df[df['days_fully_funded'] > 0]\n",
    "\n",
    "## ---------------- Select the nessesary columns ---------------\n",
    "data = df.rename(columns={'country_code':'alpha-2'})\n",
    "iso = iso[['name', 'alpha-2', 'alpha-3']].rename(columns={'name':'country'})\n",
    "mpi = mpi[['ISO','region', 'MPI']].dropna().drop_duplicates().rename(columns={'ISO':'alpha-3', 'MPI':'mpi_value'})\n",
    "## mpi table does not have standard region name, and also the region name in loan data is not unanimous, so hard to map because there are so many exceptions\n",
    "## therefore, using avg mpi by country\n",
    "mpi_country = mpi.groupby('alpha-3')['mpi_value'].mean().reset_index() \n",
    "\n",
    "## ----------------- Join ----------------\n",
    "data = data.merge(iso, on='alpha-2')\n",
    "data = data.merge(mpi_country, on='alpha-3')\n",
    "data = data.set_index('id')\n",
    "data = data[['sector', 'loan_amount', 'term_in_months', 'lender_count', 'days_fully_funded', 'repayment_interval','mpi_value' ]]\n",
    "data = data.dropna()\n",
    "len(data)"
   ]
  },
  {
   "cell_type": "code",
   "execution_count": 3,
   "metadata": {},
   "outputs": [
    {
     "data": {
      "text/plain": [
       "np.float64(122.0)"
      ]
     },
     "execution_count": 3,
     "metadata": {},
     "output_type": "execute_result"
    }
   ],
   "source": [
    "data.term_in_months.max()"
   ]
  },
  {
   "cell_type": "code",
   "execution_count": 3,
   "metadata": {},
   "outputs": [
    {
     "data": {
      "text/plain": [
       "array(['irregular', 'monthly', 'bullet', 'weekly'], dtype=object)"
      ]
     },
     "execution_count": 3,
     "metadata": {},
     "output_type": "execute_result"
    }
   ],
   "source": [
    "data['repayment_interval'].unique()"
   ]
  },
  {
   "cell_type": "markdown",
   "metadata": {},
   "source": [
    "##### Feature Engineering"
   ]
  },
  {
   "cell_type": "markdown",
   "metadata": {},
   "source": [
    "Hear, we will encode categorical features using ordinal encoding for repayment_enterval and one-hot encoding for sector.\n",
    "For repayment intervals, we assign a higher value to shorter intervals, as they typically indicate a quicker return on investment for lenders. This approach reflects the reduced risk associated with loans that are repaid in shorter time frames, as it allows lenders to recoup their capital faster and decreases the likelihood of default.\n",
    "- irregular (1): Lower value due to unpredictability and potential difficulty in financial planning.\n",
    "- bullet (2): Potential risk for lenders as they only received money when loan is due\n",
    "- monthly (3): Moderate value, commonly accepted and allows for budgeting.\n",
    "- meekly (4): Higher value for frequency"
   ]
  },
  {
   "cell_type": "code",
   "execution_count": 4,
   "metadata": {},
   "outputs": [],
   "source": [
    "interval_mapping = {\n",
    "    'irregular': 1,\n",
    "    \"bullet\": 2,\n",
    "    \"monthly\": 3,\n",
    "    \"weekly\": 4\n",
    "}\n",
    "# Perform ordinal encoding\n",
    "data['repayment_interval'] = data['repayment_interval'].map(interval_mapping)\n",
    "\n",
    "# one hot encoding\n",
    "ohe = OneHotEncoder(sparse_output=False)\n",
    "categorical_cols = ['sector']\n",
    "one_hot_encoded_sector = ohe.fit_transform(data[categorical_cols])"
   ]
  },
  {
   "cell_type": "code",
   "execution_count": 5,
   "metadata": {},
   "outputs": [
    {
     "data": {
      "text/html": [
       "<div>\n",
       "<style scoped>\n",
       "    .dataframe tbody tr th:only-of-type {\n",
       "        vertical-align: middle;\n",
       "    }\n",
       "\n",
       "    .dataframe tbody tr th {\n",
       "        vertical-align: top;\n",
       "    }\n",
       "\n",
       "    .dataframe thead th {\n",
       "        text-align: right;\n",
       "    }\n",
       "</style>\n",
       "<table border=\"1\" class=\"dataframe\">\n",
       "  <thead>\n",
       "    <tr style=\"text-align: right;\">\n",
       "      <th></th>\n",
       "      <th>sector1</th>\n",
       "      <th>sector2</th>\n",
       "      <th>loan_amount</th>\n",
       "      <th>term_in_months</th>\n",
       "      <th>lender_count</th>\n",
       "      <th>repayment_interval</th>\n",
       "      <th>mpi_value</th>\n",
       "    </tr>\n",
       "    <tr>\n",
       "      <th>id</th>\n",
       "      <th></th>\n",
       "      <th></th>\n",
       "      <th></th>\n",
       "      <th></th>\n",
       "      <th></th>\n",
       "      <th></th>\n",
       "      <th></th>\n",
       "    </tr>\n",
       "  </thead>\n",
       "  <tbody>\n",
       "    <tr>\n",
       "      <th>653051</th>\n",
       "      <td>-0.515547</td>\n",
       "      <td>-0.647483</td>\n",
       "      <td>-0.575728</td>\n",
       "      <td>-0.057564</td>\n",
       "      <td>-0.243640</td>\n",
       "      <td>-1.090208</td>\n",
       "      <td>0.870857</td>\n",
       "    </tr>\n",
       "    <tr>\n",
       "      <th>653053</th>\n",
       "      <td>-0.068376</td>\n",
       "      <td>0.025974</td>\n",
       "      <td>0.126818</td>\n",
       "      <td>-0.211199</td>\n",
       "      <td>-0.082405</td>\n",
       "      <td>-1.090208</td>\n",
       "      <td>0.870857</td>\n",
       "    </tr>\n",
       "    <tr>\n",
       "      <th>653063</th>\n",
       "      <td>-0.065740</td>\n",
       "      <td>0.024782</td>\n",
       "      <td>-0.831200</td>\n",
       "      <td>-0.211199</td>\n",
       "      <td>-0.566110</td>\n",
       "      <td>-1.090208</td>\n",
       "      <td>0.870857</td>\n",
       "    </tr>\n",
       "    <tr>\n",
       "      <th>653084</th>\n",
       "      <td>-0.515547</td>\n",
       "      <td>-0.647483</td>\n",
       "      <td>-0.320257</td>\n",
       "      <td>0.249705</td>\n",
       "      <td>0.078831</td>\n",
       "      <td>1.000172</td>\n",
       "      <td>0.870857</td>\n",
       "    </tr>\n",
       "    <tr>\n",
       "      <th>653078</th>\n",
       "      <td>-0.081500</td>\n",
       "      <td>0.032190</td>\n",
       "      <td>-0.320257</td>\n",
       "      <td>0.249705</td>\n",
       "      <td>-0.566110</td>\n",
       "      <td>1.000172</td>\n",
       "      <td>0.870857</td>\n",
       "    </tr>\n",
       "    <tr>\n",
       "      <th>...</th>\n",
       "      <td>...</td>\n",
       "      <td>...</td>\n",
       "      <td>...</td>\n",
       "      <td>...</td>\n",
       "      <td>...</td>\n",
       "      <td>...</td>\n",
       "      <td>...</td>\n",
       "    </tr>\n",
       "    <tr>\n",
       "      <th>1340256</th>\n",
       "      <td>0.780212</td>\n",
       "      <td>-0.085370</td>\n",
       "      <td>-1.278275</td>\n",
       "      <td>0.096070</td>\n",
       "      <td>-1.130434</td>\n",
       "      <td>1.000172</td>\n",
       "      <td>0.870857</td>\n",
       "    </tr>\n",
       "    <tr>\n",
       "      <th>1340251</th>\n",
       "      <td>0.780212</td>\n",
       "      <td>-0.085370</td>\n",
       "      <td>-1.278275</td>\n",
       "      <td>0.096070</td>\n",
       "      <td>-1.130434</td>\n",
       "      <td>1.000172</td>\n",
       "      <td>0.662909</td>\n",
       "    </tr>\n",
       "    <tr>\n",
       "      <th>1340267</th>\n",
       "      <td>0.780212</td>\n",
       "      <td>-0.085370</td>\n",
       "      <td>-1.278275</td>\n",
       "      <td>0.096070</td>\n",
       "      <td>-1.130434</td>\n",
       "      <td>1.000172</td>\n",
       "      <td>0.870857</td>\n",
       "    </tr>\n",
       "    <tr>\n",
       "      <th>1340279</th>\n",
       "      <td>0.780212</td>\n",
       "      <td>-0.085370</td>\n",
       "      <td>-1.278275</td>\n",
       "      <td>0.096070</td>\n",
       "      <td>-1.130434</td>\n",
       "      <td>1.000172</td>\n",
       "      <td>0.662909</td>\n",
       "    </tr>\n",
       "    <tr>\n",
       "      <th>1340316</th>\n",
       "      <td>0.780212</td>\n",
       "      <td>-0.085370</td>\n",
       "      <td>-1.278275</td>\n",
       "      <td>0.096070</td>\n",
       "      <td>-1.130434</td>\n",
       "      <td>1.000172</td>\n",
       "      <td>0.662909</td>\n",
       "    </tr>\n",
       "  </tbody>\n",
       "</table>\n",
       "<p>495570 rows × 7 columns</p>\n",
       "</div>"
      ],
      "text/plain": [
       "          sector1   sector2  loan_amount  term_in_months  lender_count  \\\n",
       "id                                                                       \n",
       "653051  -0.515547 -0.647483    -0.575728       -0.057564     -0.243640   \n",
       "653053  -0.068376  0.025974     0.126818       -0.211199     -0.082405   \n",
       "653063  -0.065740  0.024782    -0.831200       -0.211199     -0.566110   \n",
       "653084  -0.515547 -0.647483    -0.320257        0.249705      0.078831   \n",
       "653078  -0.081500  0.032190    -0.320257        0.249705     -0.566110   \n",
       "...           ...       ...          ...             ...           ...   \n",
       "1340256  0.780212 -0.085370    -1.278275        0.096070     -1.130434   \n",
       "1340251  0.780212 -0.085370    -1.278275        0.096070     -1.130434   \n",
       "1340267  0.780212 -0.085370    -1.278275        0.096070     -1.130434   \n",
       "1340279  0.780212 -0.085370    -1.278275        0.096070     -1.130434   \n",
       "1340316  0.780212 -0.085370    -1.278275        0.096070     -1.130434   \n",
       "\n",
       "         repayment_interval  mpi_value  \n",
       "id                                      \n",
       "653051            -1.090208   0.870857  \n",
       "653053            -1.090208   0.870857  \n",
       "653063            -1.090208   0.870857  \n",
       "653084             1.000172   0.870857  \n",
       "653078             1.000172   0.870857  \n",
       "...                     ...        ...  \n",
       "1340256            1.000172   0.870857  \n",
       "1340251            1.000172   0.662909  \n",
       "1340267            1.000172   0.870857  \n",
       "1340279            1.000172   0.662909  \n",
       "1340316            1.000172   0.662909  \n",
       "\n",
       "[495570 rows x 7 columns]"
      ]
     },
     "execution_count": 5,
     "metadata": {},
     "output_type": "execute_result"
    }
   ],
   "source": [
    "## apply dimensionality reduction to encoded sector columns\n",
    "pca = PCA(n_components=2)\n",
    "principal_components = pca.fit_transform(one_hot_encoded_sector)\n",
    "\n",
    "## standard scaling\n",
    "std_scaler = StandardScaler()\n",
    "scaled = std_scaler.fit_transform(data.drop(columns=['days_fully_funded', 'sector']))\n",
    "x = np.concatenate((principal_components, scaled), axis=1)\n",
    "X = pd.DataFrame(x, columns=['sector1', 'sector2', 'loan_amount', 'term_in_months', \n",
    "                             'lender_count', 'repayment_interval', 'mpi_value'], index=data.index)\n",
    "X"
   ]
  },
  {
   "cell_type": "markdown",
   "metadata": {},
   "source": [
    "PCA: By reducing the dimensionality after one-hot encoding, PCA helps mitigate the curse of dimensionality, making the regression model more robust and less prone to overfitting\n",
    "Standard Scaling: It standardizes the features to have zero mean and unit variance, which is important for many machine learning algorithms. This ensures all features are on a similar scale and prevents features with larger magnitudes from dominating the model training."
   ]
  },
  {
   "cell_type": "markdown",
   "metadata": {},
   "source": [
    "#### Model Selection and Training\n",
    "Here, we try XGBoostRegressor and RandomForestRegressor"
   ]
  },
  {
   "cell_type": "code",
   "execution_count": 7,
   "metadata": {},
   "outputs": [
    {
     "name": "stdout",
     "output_type": "stream",
     "text": [
      "XGBRegressor Train RMSE: 11.85\n",
      "XGBRegressor Test RMSE: 12.05\n"
     ]
    }
   ],
   "source": [
    "# Train test split\n",
    "y = data['days_fully_funded']\n",
    "X_train, X_test, y_train, y_test = train_test_split(X, y, test_size=0.2, random_state=42)\n",
    "\n",
    "# Train XGBoost model\n",
    "model_xgb = XGBRegressor(random_state=42)\n",
    "model_xgb.fit(X_train, y_train)\n",
    "\n",
    "# Evaluate the model\n",
    "train_rmse = np.sqrt(mean_squared_error(y_train, model_xgb.predict(X_train)))\n",
    "test_rmse = np.sqrt(mean_squared_error(y_test, model_xgb.predict(X_test)))\n",
    "\n",
    "print(f\"XGBRegressor Train RMSE: {train_rmse:.2f}\")\n",
    "print(f\"XGBRegressor Test RMSE: {test_rmse:.2f}\")"
   ]
  },
  {
   "cell_type": "code",
   "execution_count": 8,
   "metadata": {},
   "outputs": [
    {
     "name": "stdout",
     "output_type": "stream",
     "text": [
      "Linear Regressor Train RMSE: 9.08\n",
      "Linear Regressor  Test RMSE: 12.62\n"
     ]
    }
   ],
   "source": [
    "## Train RandomForestRegressor\n",
    "from sklearn.ensemble import RandomForestRegressor\n",
    "\n",
    "rf = RandomForestRegressor(random_state=42)\n",
    "rf.fit(X_train, y_train)\n",
    "\n",
    "# Evaluate the model\n",
    "train_rmse = np.sqrt(mean_squared_error(y_train, rf.predict(X_train)))\n",
    "test_rmse = np.sqrt(mean_squared_error(y_test, rf.predict(X_test)))\n",
    "\n",
    "print(f\"Random Forest Regressor Train RMSE: {train_rmse:.2f}\")\n",
    "print(f\"Random Forest Regressor Test RMSE: {test_rmse:.2f}\")"
   ]
  },
  {
   "cell_type": "markdown",
   "metadata": {},
   "source": [
    "RandomForestRegressor performed better on the train set but is not that good when predicting unseen data.\n",
    "XBGRegressor is more stable. For XGBR:\n",
    "- Train RMSE = 11.85: model's predictions on the training dataset deviate from the actual values by an average of approximately 11.85 units.\n",
    "- Test RMSE = 12.05: model's predictions on the test dataset deviate from the actual values by an average of approximately 12.05 units.\n",
    "\n",
    "The average prediction error is about 11% of the total possible range (107). The close values of Train and Test RMSE indicate that the model generalizes reasonably well."
   ]
  },
  {
   "cell_type": "markdown",
   "metadata": {},
   "source": [
    "#### Performing GridSeachCV on XGBRegressor model"
   ]
  },
  {
   "cell_type": "code",
   "execution_count": 7,
   "metadata": {},
   "outputs": [
    {
     "name": "stdout",
     "output_type": "stream",
     "text": [
      "Fitting 5 folds for each of 24 candidates, totalling 120 fits\n",
      "Best Parameters: {'learning_rate': 0.3, 'max_depth': 6, 'min_child_weight': 3, 'n_estimators': 200}\n",
      "Best RMSE: 11.91311014549023\n"
     ]
    }
   ],
   "source": [
    "from sklearn.model_selection import GridSearchCV\n",
    "\n",
    "# Define the hyperparameters to tune\n",
    "param_grid = {\n",
    "    'n_estimators': [100, 200],\n",
    "    'learning_rate': [0.01, 0.1, 0.3],\n",
    "    'max_depth': [3, 6],\n",
    "    'min_child_weight': [1, 3]\n",
    "}\n",
    "\n",
    "# Set up Grid Search\n",
    "grid_search = GridSearchCV(estimator=model_xgb, param_grid=param_grid, \n",
    "                           scoring='neg_mean_squared_error', # Negative MSE because GridSearchCV maximizes the score\n",
    "                           cv=5, \n",
    "                           verbose=1, # Use all available cores\n",
    "                           n_jobs=-1)\n",
    "\n",
    "# Fit Grid Search\n",
    "grid_search.fit(X_train, y_train)\n",
    "\n",
    "# Best parameters and score\n",
    "print(\"Best Parameters:\", grid_search.best_params_)\n",
    "print(\"Best RMSE:\", (-grid_search.best_score_)**0.5)\n"
   ]
  },
  {
   "cell_type": "code",
   "execution_count": 43,
   "metadata": {},
   "outputs": [
    {
     "name": "stdout",
     "output_type": "stream",
     "text": [
      "XGBRegressor Train RMSE: 11.68\n",
      "XGBRegressor Test RMSE: 11.96\n"
     ]
    }
   ],
   "source": [
    "xgbr_optimized = XGBRegressor(learning_rate=0.3, max_depth=6, min_child_weight=3, n_estimators=200)\n",
    "xgbr_optimized.fit(X_train, y_train)\n",
    "\n",
    "# Evaluate the model\n",
    "train_rmse = np.sqrt(mean_squared_error(y_train, xgbr_optimized.predict(X_train)))\n",
    "test_rmse = np.sqrt(mean_squared_error(y_test, xgbr_optimized.predict(X_test)))\n",
    "\n",
    "print(f\"XGBRegressor Train RMSE: {train_rmse:.2f}\")\n",
    "print(f\"XGBRegressor Test RMSE: {test_rmse:.2f}\")"
   ]
  },
  {
   "cell_type": "markdown",
   "metadata": {},
   "source": [
    "Model slightly improved in performance with lower RMSE in both train and test set \n",
    "from (11.85, 12.04) to (11.68, 11.96)"
   ]
  },
  {
   "cell_type": "markdown",
   "metadata": {},
   "source": [
    "##### Explainability"
   ]
  },
  {
   "cell_type": "code",
   "execution_count": 46,
   "metadata": {},
   "outputs": [],
   "source": [
    "features = pd.DataFrame({'Feature': X_train.columns, 'Importance': xgbr_optimized.feature_importances_})"
   ]
  },
  {
   "cell_type": "code",
   "execution_count": 47,
   "metadata": {},
   "outputs": [
    {
     "data": {
      "image/png": "[encoded data removed]",
      "text/plain": [
       "<Figure size 400x200 with 1 Axes>"
      ]
     },
     "metadata": {},
     "output_type": "display_data"
    }
   ],
   "source": [
    "# Sort the DataFrame by importance\n",
    "features = features.sort_values(by='Importance', ascending=False)\n",
    "\n",
    "# Plotting\n",
    "plt.figure(figsize=(4, 2))\n",
    "plt.barh(features['Feature'], features['Importance'])\n",
    "plt.xlabel('Importance Score')\n",
    "plt.title('Feature Importance for XGBRegressor', fontsize=11)\n",
    "plt.yticks(fontsize=9)\n",
    "plt.gca().invert_yaxis()  # Invert y-axis to have the most important feature at the top\n",
    "plt.show()"
   ]
  },
  {
   "cell_type": "markdown",
   "metadata": {},
   "source": [
    "Loan term, mpi and repayment-interval are top 3 variables that have the highest influence on model decision. Next we look at SHAP value to see whether they affect the fully funded time positively or negatively"
   ]
  },
  {
   "cell_type": "code",
   "execution_count": 53,
   "metadata": {},
   "outputs": [
    {
     "data": {
      "image/png": "[encoded data removed]",
      "text/plain": [
       "<Figure size 800x430 with 2 Axes>"
      ]
     },
     "metadata": {},
     "output_type": "display_data"
    }
   ],
   "source": [
    "# Create a SHAP explainer\n",
    "explainer = shap.TreeExplainer(xgbr_optimized)\n",
    "shap_values = explainer.shap_values(X_test)\n",
    "\n",
    "# Plot SHAP values\n",
    "shap.summary_plot(shap_values, X_test)"
   ]
  },
  {
   "cell_type": "markdown",
   "metadata": {},
   "source": [
    "Though not quite clear, it can be seen from the chart that as the loan term  and loan amount increases, the model predicts a longer time for disbursement. The reason can be:\n",
    "- Longer loan term and larger amount of money may require more due diligence from the lender, so that it take time\n",
    "- Higher risk: Longer-term loans expose lenders to greater long-term risk, leading to more comprehensive evaluations. --> lenders have low risk appetite\n",
    "\n",
    "MPI: high mpi, which indicate poor region, means it take longer for a loan to be fully disbursed. This can be associated with the fact that people are more hesitate to lend money to poor borrowers, which also links to risk appetite"
   ]
  },
  {
   "cell_type": "code",
   "execution_count": 54,
   "metadata": {},
   "outputs": [
    {
     "data": {
      "text/plain": [
       "['pca.joblib']"
      ]
     },
     "execution_count": 54,
     "metadata": {},
     "output_type": "execute_result"
    }
   ],
   "source": [
    "## Save model to online app\n",
    "import joblib\n",
    "\n",
    "joblib.dump(xgbr_optimized, 'model.joblib')\n",
    "joblib.dump(std_scaler, 'std_scaler.joblib')\n",
    "joblib.dump(ohe, 'ohe.joblib')\n",
    "joblib.dump(pca, 'pca.joblib')"
   ]
  },
  {
   "cell_type": "code",
   "execution_count": null,
   "metadata": {},
   "outputs": [],
   "source": []
  }
 ],
 "metadata": {
  "kernelspec": {
   "display_name": ".env",
   "language": "python",
   "name": "python3"
  },
  "language_info": {
   "codemirror_mode": {
    "name": "ipython",
    "version": 3
   },
   "file_extension": ".py",
   "mimetype": "text/x-python",
   "name": "python",
   "nbconvert_exporter": "python",
   "pygments_lexer": "ipython3",
   "version": "3.10.10"
  }
 },
 "nbformat": 4,
 "nbformat_minor": 2
}
